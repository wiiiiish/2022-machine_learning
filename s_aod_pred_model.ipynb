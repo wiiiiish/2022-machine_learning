{
  "nbformat": 4,
  "nbformat_minor": 0,
  "metadata": {
    "colab": {
      "name": "s_aod_pred_model.ipynb",
      "provenance": [],
      "collapsed_sections": [],
      "mount_file_id": "10K1EeGLTNcObMx2GtfdAZUGENARVpoRM",
      "authorship_tag": "ABX9TyMy3TS+pCXgXE4CGOYb3tas",
      "include_colab_link": true
    },
    "kernelspec": {
      "name": "python3",
      "display_name": "Python 3"
    },
    "language_info": {
      "name": "python"
    }
  },
  "cells": [
    {
      "cell_type": "markdown",
      "metadata": {
        "id": "view-in-github",
        "colab_type": "text"
      },
      "source": [
        "<a href=\"https://colab.research.google.com/github/wiiiiish/2022-machine_learning/blob/main/s_aod_pred_model.ipynb\" target=\"_parent\"><img src=\"https://colab.research.google.com/assets/colab-badge.svg\" alt=\"Open In Colab\"/></a>"
      ]
    },
    {
      "cell_type": "code",
      "source": [
        "!ls"
      ],
      "metadata": {
        "colab": {
          "base_uri": "https://localhost:8080/"
        },
        "id": "5BFy6j0Rfq7W",
        "outputId": "f563fb38-50ab-4f8b-fdf7-16421784537e"
      },
      "execution_count": 3,
      "outputs": [
        {
          "output_type": "stream",
          "name": "stdout",
          "text": [
            "drive  sample_data\n"
          ]
        }
      ]
    },
    {
      "cell_type": "code",
      "source": [
        "%cd drive/MyDrive/Colab\\ Notebooks/2022-04-27\\ 데이터"
      ],
      "metadata": {
        "colab": {
          "base_uri": "https://localhost:8080/"
        },
        "id": "X4TONQdKfs_z",
        "outputId": "7e7c8890-f0a0-4950-da24-cebb97874a20"
      },
      "execution_count": 4,
      "outputs": [
        {
          "output_type": "stream",
          "name": "stdout",
          "text": [
            "/content/drive/MyDrive/Colab Notebooks/2022-04-27 데이터\n"
          ]
        }
      ]
    },
    {
      "cell_type": "code",
      "source": [
        "import pandas as pd\n",
        "from sklearn.linear_model import LinearRegression # 회귀 모델\n",
        "from sklearn.metrics import mean_absolute_error # 평균 절대값 오차 (평가)"
      ],
      "metadata": {
        "id": "ZXeEwvPpfxXJ"
      },
      "execution_count": 9,
      "outputs": []
    },
    {
      "cell_type": "code",
      "source": [
        "s_pred_model = LinearRegression()"
      ],
      "metadata": {
        "id": "8Td5obSKf7tM"
      },
      "execution_count": 7,
      "outputs": []
    },
    {
      "cell_type": "code",
      "source": [
        "weather = pd.read_csv('./data/weather_0504.csv', encoding='utf-8')\n",
        "weather"
      ],
      "metadata": {
        "colab": {
          "base_uri": "https://localhost:8080/",
          "height": 423
        },
        "id": "kz7gTYYof-mt",
        "outputId": "4bce3b17-2272-4aa0-8d41-2067b99d4134"
      },
      "execution_count": 8,
      "outputs": [
        {
          "output_type": "execute_result",
          "data": {
            "text/plain": [
              "      date_time  temperature  precipitation  wind_speed   humidity  radiation  \\\n",
              "0         60010    18.393009              0    0.626055  99.077047        0.0   \n",
              "1         60020    18.123292              0    0.666385  98.931846        0.0   \n",
              "2         60030    18.382198              0    0.640155  98.910705        0.0   \n",
              "3         60040    18.113827              0    0.706955  98.936457        0.0   \n",
              "4         60050    18.202366              0    0.633896  98.969637        0.0   \n",
              "...         ...          ...            ...         ...        ...        ...   \n",
              "6475     235920    20.909291              0    0.599932  98.880567        0.0   \n",
              "6476     235930    20.936641              0    0.700842  97.988625        0.0   \n",
              "6477     235940    21.026653              0    0.476452  98.094139        0.0   \n",
              "6478     235950    20.618271              0    0.761386  98.286580        0.0   \n",
              "6479          0    20.561767              0    0.749072  98.937978        0.0   \n",
              "\n",
              "      total_cloudiness   visibility  ground_temp  \n",
              "0             5.383689  1406.307589    20.587329  \n",
              "1             5.378191  1520.985931    20.922063  \n",
              "2             5.807724  1583.682653    20.663506  \n",
              "3             5.654719  1854.592384    21.152932  \n",
              "4             7.202626  1839.823058    20.929866  \n",
              "...                ...          ...          ...  \n",
              "6475          4.520217  2000.051929    21.741344  \n",
              "6476          3.351022  1999.959093    21.892433  \n",
              "6477          7.562219  2000.070217    21.786583  \n",
              "6478          8.309493  2000.065751    22.015353  \n",
              "6479          4.624748  2000.017467    21.489114  \n",
              "\n",
              "[6480 rows x 9 columns]"
            ],
            "text/html": [
              "\n",
              "  <div id=\"df-c2db0b4e-d281-465e-a4f8-0712ab5272cf\">\n",
              "    <div class=\"colab-df-container\">\n",
              "      <div>\n",
              "<style scoped>\n",
              "    .dataframe tbody tr th:only-of-type {\n",
              "        vertical-align: middle;\n",
              "    }\n",
              "\n",
              "    .dataframe tbody tr th {\n",
              "        vertical-align: top;\n",
              "    }\n",
              "\n",
              "    .dataframe thead th {\n",
              "        text-align: right;\n",
              "    }\n",
              "</style>\n",
              "<table border=\"1\" class=\"dataframe\">\n",
              "  <thead>\n",
              "    <tr style=\"text-align: right;\">\n",
              "      <th></th>\n",
              "      <th>date_time</th>\n",
              "      <th>temperature</th>\n",
              "      <th>precipitation</th>\n",
              "      <th>wind_speed</th>\n",
              "      <th>humidity</th>\n",
              "      <th>radiation</th>\n",
              "      <th>total_cloudiness</th>\n",
              "      <th>visibility</th>\n",
              "      <th>ground_temp</th>\n",
              "    </tr>\n",
              "  </thead>\n",
              "  <tbody>\n",
              "    <tr>\n",
              "      <th>0</th>\n",
              "      <td>60010</td>\n",
              "      <td>18.393009</td>\n",
              "      <td>0</td>\n",
              "      <td>0.626055</td>\n",
              "      <td>99.077047</td>\n",
              "      <td>0.0</td>\n",
              "      <td>5.383689</td>\n",
              "      <td>1406.307589</td>\n",
              "      <td>20.587329</td>\n",
              "    </tr>\n",
              "    <tr>\n",
              "      <th>1</th>\n",
              "      <td>60020</td>\n",
              "      <td>18.123292</td>\n",
              "      <td>0</td>\n",
              "      <td>0.666385</td>\n",
              "      <td>98.931846</td>\n",
              "      <td>0.0</td>\n",
              "      <td>5.378191</td>\n",
              "      <td>1520.985931</td>\n",
              "      <td>20.922063</td>\n",
              "    </tr>\n",
              "    <tr>\n",
              "      <th>2</th>\n",
              "      <td>60030</td>\n",
              "      <td>18.382198</td>\n",
              "      <td>0</td>\n",
              "      <td>0.640155</td>\n",
              "      <td>98.910705</td>\n",
              "      <td>0.0</td>\n",
              "      <td>5.807724</td>\n",
              "      <td>1583.682653</td>\n",
              "      <td>20.663506</td>\n",
              "    </tr>\n",
              "    <tr>\n",
              "      <th>3</th>\n",
              "      <td>60040</td>\n",
              "      <td>18.113827</td>\n",
              "      <td>0</td>\n",
              "      <td>0.706955</td>\n",
              "      <td>98.936457</td>\n",
              "      <td>0.0</td>\n",
              "      <td>5.654719</td>\n",
              "      <td>1854.592384</td>\n",
              "      <td>21.152932</td>\n",
              "    </tr>\n",
              "    <tr>\n",
              "      <th>4</th>\n",
              "      <td>60050</td>\n",
              "      <td>18.202366</td>\n",
              "      <td>0</td>\n",
              "      <td>0.633896</td>\n",
              "      <td>98.969637</td>\n",
              "      <td>0.0</td>\n",
              "      <td>7.202626</td>\n",
              "      <td>1839.823058</td>\n",
              "      <td>20.929866</td>\n",
              "    </tr>\n",
              "    <tr>\n",
              "      <th>...</th>\n",
              "      <td>...</td>\n",
              "      <td>...</td>\n",
              "      <td>...</td>\n",
              "      <td>...</td>\n",
              "      <td>...</td>\n",
              "      <td>...</td>\n",
              "      <td>...</td>\n",
              "      <td>...</td>\n",
              "      <td>...</td>\n",
              "    </tr>\n",
              "    <tr>\n",
              "      <th>6475</th>\n",
              "      <td>235920</td>\n",
              "      <td>20.909291</td>\n",
              "      <td>0</td>\n",
              "      <td>0.599932</td>\n",
              "      <td>98.880567</td>\n",
              "      <td>0.0</td>\n",
              "      <td>4.520217</td>\n",
              "      <td>2000.051929</td>\n",
              "      <td>21.741344</td>\n",
              "    </tr>\n",
              "    <tr>\n",
              "      <th>6476</th>\n",
              "      <td>235930</td>\n",
              "      <td>20.936641</td>\n",
              "      <td>0</td>\n",
              "      <td>0.700842</td>\n",
              "      <td>97.988625</td>\n",
              "      <td>0.0</td>\n",
              "      <td>3.351022</td>\n",
              "      <td>1999.959093</td>\n",
              "      <td>21.892433</td>\n",
              "    </tr>\n",
              "    <tr>\n",
              "      <th>6477</th>\n",
              "      <td>235940</td>\n",
              "      <td>21.026653</td>\n",
              "      <td>0</td>\n",
              "      <td>0.476452</td>\n",
              "      <td>98.094139</td>\n",
              "      <td>0.0</td>\n",
              "      <td>7.562219</td>\n",
              "      <td>2000.070217</td>\n",
              "      <td>21.786583</td>\n",
              "    </tr>\n",
              "    <tr>\n",
              "      <th>6478</th>\n",
              "      <td>235950</td>\n",
              "      <td>20.618271</td>\n",
              "      <td>0</td>\n",
              "      <td>0.761386</td>\n",
              "      <td>98.286580</td>\n",
              "      <td>0.0</td>\n",
              "      <td>8.309493</td>\n",
              "      <td>2000.065751</td>\n",
              "      <td>22.015353</td>\n",
              "    </tr>\n",
              "    <tr>\n",
              "      <th>6479</th>\n",
              "      <td>0</td>\n",
              "      <td>20.561767</td>\n",
              "      <td>0</td>\n",
              "      <td>0.749072</td>\n",
              "      <td>98.937978</td>\n",
              "      <td>0.0</td>\n",
              "      <td>4.624748</td>\n",
              "      <td>2000.017467</td>\n",
              "      <td>21.489114</td>\n",
              "    </tr>\n",
              "  </tbody>\n",
              "</table>\n",
              "<p>6480 rows × 9 columns</p>\n",
              "</div>\n",
              "      <button class=\"colab-df-convert\" onclick=\"convertToInteractive('df-c2db0b4e-d281-465e-a4f8-0712ab5272cf')\"\n",
              "              title=\"Convert this dataframe to an interactive table.\"\n",
              "              style=\"display:none;\">\n",
              "        \n",
              "  <svg xmlns=\"http://www.w3.org/2000/svg\" height=\"24px\"viewBox=\"0 0 24 24\"\n",
              "       width=\"24px\">\n",
              "    <path d=\"M0 0h24v24H0V0z\" fill=\"none\"/>\n",
              "    <path d=\"M18.56 5.44l.94 2.06.94-2.06 2.06-.94-2.06-.94-.94-2.06-.94 2.06-2.06.94zm-11 1L8.5 8.5l.94-2.06 2.06-.94-2.06-.94L8.5 2.5l-.94 2.06-2.06.94zm10 10l.94 2.06.94-2.06 2.06-.94-2.06-.94-.94-2.06-.94 2.06-2.06.94z\"/><path d=\"M17.41 7.96l-1.37-1.37c-.4-.4-.92-.59-1.43-.59-.52 0-1.04.2-1.43.59L10.3 9.45l-7.72 7.72c-.78.78-.78 2.05 0 2.83L4 21.41c.39.39.9.59 1.41.59.51 0 1.02-.2 1.41-.59l7.78-7.78 2.81-2.81c.8-.78.8-2.07 0-2.86zM5.41 20L4 18.59l7.72-7.72 1.47 1.35L5.41 20z\"/>\n",
              "  </svg>\n",
              "      </button>\n",
              "      \n",
              "  <style>\n",
              "    .colab-df-container {\n",
              "      display:flex;\n",
              "      flex-wrap:wrap;\n",
              "      gap: 12px;\n",
              "    }\n",
              "\n",
              "    .colab-df-convert {\n",
              "      background-color: #E8F0FE;\n",
              "      border: none;\n",
              "      border-radius: 50%;\n",
              "      cursor: pointer;\n",
              "      display: none;\n",
              "      fill: #1967D2;\n",
              "      height: 32px;\n",
              "      padding: 0 0 0 0;\n",
              "      width: 32px;\n",
              "    }\n",
              "\n",
              "    .colab-df-convert:hover {\n",
              "      background-color: #E2EBFA;\n",
              "      box-shadow: 0px 1px 2px rgba(60, 64, 67, 0.3), 0px 1px 3px 1px rgba(60, 64, 67, 0.15);\n",
              "      fill: #174EA6;\n",
              "    }\n",
              "\n",
              "    [theme=dark] .colab-df-convert {\n",
              "      background-color: #3B4455;\n",
              "      fill: #D2E3FC;\n",
              "    }\n",
              "\n",
              "    [theme=dark] .colab-df-convert:hover {\n",
              "      background-color: #434B5C;\n",
              "      box-shadow: 0px 1px 3px 1px rgba(0, 0, 0, 0.15);\n",
              "      filter: drop-shadow(0px 1px 2px rgba(0, 0, 0, 0.3));\n",
              "      fill: #FFFFFF;\n",
              "    }\n",
              "  </style>\n",
              "\n",
              "      <script>\n",
              "        const buttonEl =\n",
              "          document.querySelector('#df-c2db0b4e-d281-465e-a4f8-0712ab5272cf button.colab-df-convert');\n",
              "        buttonEl.style.display =\n",
              "          google.colab.kernel.accessAllowed ? 'block' : 'none';\n",
              "\n",
              "        async function convertToInteractive(key) {\n",
              "          const element = document.querySelector('#df-c2db0b4e-d281-465e-a4f8-0712ab5272cf');\n",
              "          const dataTable =\n",
              "            await google.colab.kernel.invokeFunction('convertToInteractive',\n",
              "                                                     [key], {});\n",
              "          if (!dataTable) return;\n",
              "\n",
              "          const docLinkHtml = 'Like what you see? Visit the ' +\n",
              "            '<a target=\"_blank\" href=https://colab.research.google.com/notebooks/data_table.ipynb>data table notebook</a>'\n",
              "            + ' to learn more about interactive tables.';\n",
              "          element.innerHTML = '';\n",
              "          dataTable['output_type'] = 'display_data';\n",
              "          await google.colab.output.renderOutput(dataTable, element);\n",
              "          const docLink = document.createElement('div');\n",
              "          docLink.innerHTML = docLinkHtml;\n",
              "          element.appendChild(docLink);\n",
              "        }\n",
              "      </script>\n",
              "    </div>\n",
              "  </div>\n",
              "  "
            ]
          },
          "metadata": {},
          "execution_count": 8
        }
      ]
    },
    {
      "cell_type": "code",
      "source": [
        "aod = pd.read_csv('./data/aod_0504.csv', encoding='utf-8')\n",
        "aod"
      ],
      "metadata": {
        "id": "xvZnKaQKqSXH"
      },
      "execution_count": null,
      "outputs": []
    },
    {
      "cell_type": "code",
      "source": [
        "# 문제와 답 분리\n",
        "X = weather[['date_time', 'temperature', 'precipitation', 'wind_speed', 'humidity', 'radiation', 'total_cloudiness', 'visibility', 'ground_temp']]\n",
        "y = aod['Power(kW) - Plot 0']"
      ],
      "metadata": {
        "id": "CHkntNSEqTkM"
      },
      "execution_count": null,
      "outputs": []
    },
    {
      "cell_type": "code",
      "source": [
        "# 훈련용과 평가용으로 데이터 분리\n",
        "# 비율은 8:2, randomstate = 504\n",
        "from sklearn.model_selection import train_test_split # 훈련용, 평가용으로 데이터 분리\n",
        "\n",
        "X_train, X_test, y_train, y_test = train_test_split(X, y, test_size=0.2, random_state=504)\n",
        "X_train.head()"
      ],
      "metadata": {
        "id": "CQNK9CvGqZpR"
      },
      "execution_count": null,
      "outputs": []
    },
    {
      "cell_type": "code",
      "source": [
        "s_pred_model.fit(X_train, y_train)  # 지도학습 방법 (회귀)"
      ],
      "metadata": {
        "id": "fyXV2ia-qafK"
      },
      "execution_count": null,
      "outputs": []
    },
    {
      "cell_type": "code",
      "source": [
        "# 선형 모델이 입력 특성에 대해 학습한 가중치\n",
        "s_pred_model.coef_"
      ],
      "metadata": {
        "id": "w0a0RyHPqdIM"
      },
      "execution_count": null,
      "outputs": []
    },
    {
      "cell_type": "code",
      "source": [
        "# 절편\n",
        "s_pred_model.intercept_"
      ],
      "metadata": {
        "id": "7yoKNCcKqf8H"
      },
      "execution_count": null,
      "outputs": []
    },
    {
      "cell_type": "code",
      "source": [
        "# 모델 예측\n",
        "s_pre = s_pred_model.predict(X_test)"
      ],
      "metadata": {
        "id": "nXb6krUbqiiy"
      },
      "execution_count": null,
      "outputs": []
    },
    {
      "cell_type": "code",
      "source": [
        "s_pred_model.score(X_test, y_test) # 평가용 문제, 평가용 답"
      ],
      "metadata": {
        "id": "qrmIRBhaqlfE"
      },
      "execution_count": null,
      "outputs": []
    },
    {
      "cell_type": "code",
      "source": [
        "# 모델 저장\n",
        "import pickle\n",
        "with open('s_aod_pred_model.pickle', 'wb') as f:\n",
        "    pickle.dump(s_pred_model, f, pickle.HIGHEST_PROTOCOL)"
      ],
      "metadata": {
        "id": "hyCMufwTqw15"
      },
      "execution_count": null,
      "outputs": []
    },
    {
      "cell_type": "code",
      "source": [
        "# 모델 불러오기\n",
        "with open('s_model.pickle', 'rb') as f:\n",
        "    s_model = pickle.load(f)"
      ],
      "metadata": {
        "id": "TZjLmYM0q1gE"
      },
      "execution_count": null,
      "outputs": []
    },
    {
      "cell_type": "code",
      "source": [
        "s_model.predict(X_test)"
      ],
      "metadata": {
        "id": "rsFs4starDOM"
      },
      "execution_count": null,
      "outputs": []
    }
  ]
}