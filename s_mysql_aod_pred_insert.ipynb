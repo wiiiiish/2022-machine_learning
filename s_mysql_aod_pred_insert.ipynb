{
  "nbformat": 4,
  "nbformat_minor": 0,
  "metadata": {
    "colab": {
      "name": "s_mysql_aod_pred_insert.ipynb",
      "provenance": [],
      "collapsed_sections": [],
      "mount_file_id": "1Jl4dXnm4FMZjZIumk705uTwaqMU-e3Rs",
      "authorship_tag": "ABX9TyMIghACdQuhNBI4OCNGbowD",
      "include_colab_link": true
    },
    "kernelspec": {
      "name": "python3",
      "display_name": "Python 3"
    },
    "language_info": {
      "name": "python"
    }
  },
  "cells": [
    {
      "cell_type": "markdown",
      "metadata": {
        "id": "view-in-github",
        "colab_type": "text"
      },
      "source": [
        "<a href=\"https://colab.research.google.com/github/wiiiiish/2022-machine_learning/blob/main/s_mysql_aod_pred_insert.ipynb\" target=\"_parent\"><img src=\"https://colab.research.google.com/assets/colab-badge.svg\" alt=\"Open In Colab\"/></a>"
      ]
    },
    {
      "cell_type": "code",
      "execution_count": null,
      "metadata": {
        "colab": {
          "base_uri": "https://localhost:8080/"
        },
        "id": "X67NWVWks3Rh",
        "outputId": "f89b2cb6-36c4-4a43-e460-bec5fa5d5d39"
      },
      "outputs": [
        {
          "output_type": "stream",
          "name": "stdout",
          "text": [
            "drive  sample_data\n"
          ]
        }
      ],
      "source": [
        "!ls"
      ]
    },
    {
      "cell_type": "code",
      "source": [
        "%cd drive/MyDrive/Colab\\ Notebooks/2022-04-27\\ 데이터"
      ],
      "metadata": {
        "colab": {
          "base_uri": "https://localhost:8080/"
        },
        "id": "Kbf_rpm1tHod",
        "outputId": "4b22ce27-5910-478a-d334-a54205993969"
      },
      "execution_count": null,
      "outputs": [
        {
          "output_type": "stream",
          "name": "stdout",
          "text": [
            "/content/drive/MyDrive/Colab Notebooks/2022-04-27 데이터\n"
          ]
        }
      ]
    },
    {
      "cell_type": "code",
      "source": [
        "!sudo apt-get install python3-dev default-libmysqlclient-dev\n",
        "!pip install pymysql"
      ],
      "metadata": {
        "colab": {
          "base_uri": "https://localhost:8080/"
        },
        "id": "PgW42Y6MtMCt",
        "outputId": "f872a895-69d9-4be7-8d79-d03b86565809"
      },
      "execution_count": null,
      "outputs": [
        {
          "output_type": "stream",
          "name": "stdout",
          "text": [
            "Reading package lists... Done\n",
            "Building dependency tree       \n",
            "Reading state information... Done\n",
            "default-libmysqlclient-dev is already the newest version (1.0.4).\n",
            "default-libmysqlclient-dev set to manually installed.\n",
            "python3-dev is already the newest version (3.6.7-1~18.04).\n",
            "python3-dev set to manually installed.\n",
            "The following packages were automatically installed and are no longer required:\n",
            "  libnvidia-common-460 nsight-compute-2020.2.0\n",
            "Use 'sudo apt autoremove' to remove them.\n",
            "0 upgraded, 0 newly installed, 0 to remove and 42 not upgraded.\n",
            "Collecting pymysql\n",
            "  Downloading PyMySQL-1.0.2-py3-none-any.whl (43 kB)\n",
            "\u001b[K     |████████████████████████████████| 43 kB 2.5 MB/s \n",
            "\u001b[?25hInstalling collected packages: pymysql\n",
            "Successfully installed pymysql-1.0.2\n"
          ]
        }
      ]
    },
    {
      "cell_type": "code",
      "source": [
        "import pandas as pd\n",
        "import pymysql # mysql 연결\n",
        "import pickle # 모델 불러올 때 사용\n",
        "from datetime import date, datetime, timezone, timedelta # 시간 관련 라이브러리"
      ],
      "metadata": {
        "id": "cHJyfPx9tZ5p"
      },
      "execution_count": null,
      "outputs": []
    },
    {
      "cell_type": "code",
      "source": [
        "from pymysql.converters import convert_bit\n",
        "\n",
        "# mysql 연결\n",
        "# 코드 모두 정상적인데 오류가 생긴다면, 이 코드 재실행 할 것!\n",
        "host = \"project-db-stu.ddns.net\"\n",
        "port = 3307\n",
        "username = \"wish\"\n",
        "password = \"1234\"\n",
        "db = 'wish'\n",
        "\n",
        "conn = pymysql.connect(host=host, port=port, user=username, password=password, db=db)"
      ],
      "metadata": {
        "id": "7s2evGGItfiC"
      },
      "execution_count": null,
      "outputs": []
    },
    {
      "cell_type": "code",
      "source": [
        "# 모델 불러오기\n",
        "with open('s_model.pickle', 'rb') as f:\n",
        "    s_model = pickle.load(f)"
      ],
      "metadata": {
        "id": "BKFXJovEtp0W"
      },
      "execution_count": null,
      "outputs": []
    },
    {
      "cell_type": "code",
      "source": [
        "# 시간 맞추기\n",
        "# hours=9 는 현재 한국시간\n",
        "# 우리는 한 시간 후의 시간을 불러와야 하기 때문에 hours=10 으로 설정\n",
        "K_KST = timezone(timedelta(hours=9))\n",
        "H_KST = timezone(timedelta(hours=10))"
      ],
      "metadata": {
        "id": "GoN2hFV4tu7K"
      },
      "execution_count": null,
      "outputs": []
    },
    {
      "cell_type": "code",
      "source": [
        "# DB 연결\n",
        "from pymysql.converters import convert_bit\n",
        "host = \"project-db-stu.ddns.net\"\n",
        "port = 3307\n",
        "username = \"wish\"\n",
        "password = \"1234\"\n",
        "db = 'wish'\n",
        "\n",
        "conn = pymysql.connect(host=host, port=port, user=username, password=password, db=db)\n",
        "\n",
        "# select 현재 시간, 데이터 번호 (real_data의 마지막 데이터 불러오기)\n",
        "sql_state1 = f\"select r_seq, r_date from s_real_data order by r_date desc limit 1\"\n",
        "s_real = pd.read_sql_query(sql_state1, conn)\n",
        "s_r_seq = s_real['r_seq']\n",
        "s_r_date = s_real['r_date']\n",
        "\n",
        "# 불러온 데이터의 시간 추출\n",
        "s_now_time = f\"{s_r_date[0]}\"\n",
        "s_time = s_now_time[11:].replace(\":\",\"\") # : 빼기\n",
        "\n",
        "# s_now_time 의 한 시간 후의 시간\n",
        "print(f\"s_time : {s_time}\")\n",
        "print(f\"s_now_time : {s_now_time}\")\n",
        "\n",
        "s_now_time_slice = s_now_time[:18]\n",
        "s_pred_t = (int)(s_now_time_slice[11:13]) + 1\n",
        "\n",
        "if s_pred_t < 10:\n",
        "  s_pred_t = f\"0{s_pred_t}\"\n",
        "\n",
        "timeList = list(s_now_time)\n",
        "timeList[11:13] = f\"{s_pred_t}\"\n",
        "s_pred_time = ''.join(s for s in timeList)\n",
        "s_pred_time_slice = s_pred_time[:18]\n",
        "s_pred_time_slice\n",
        "\n",
        "# select 한 시간 후의 날씨\n",
        "sql_state2 = f\"select * from temp_weather where date_time like '{s_pred_time_slice}%'\"\n",
        "s_after_weather = pd.read_sql_query(sql_state2, conn)\n",
        "\n",
        "# 불러온 데이터의 시간 형식 변경\n",
        "date_time = s_after_weather['date_time']\n",
        "s_time = date_time[0][11:].replace(\":\",\"\") # : 빼기\n",
        "print(s_time) # 변경된 시간\n",
        "\n",
        "# 변경된 시간 넣기\n",
        "s_after_weather['date_time'] = s_time\n",
        "print(s_after_weather)\n",
        "\n",
        "# 발전량 예측 (모델에 대입)\n",
        "s_pred_aod = s_model.predict(s_after_weather)\n",
        "s_pred_aod[0] # 예측 발전량\n",
        "\n",
        "# DB insert into s_predict\n",
        "sql_state3 = f\"insert into s_prediction values (null, {s_r_seq}, '{s_pred_time}', {s_pred_aod})\"\n",
        "cursor = conn.cursor()\n",
        "cursor.execute(sql_state3)\n",
        "conn.commit()"
      ],
      "metadata": {
        "id": "reKiC1J_uNY2"
      },
      "execution_count": null,
      "outputs": []
    },
    {
      "cell_type": "code",
      "source": [
        "# 1. 시간 구하기\n",
        "\n",
        "# 현재 시간 구하기\n",
        "now = datetime.now(K_KST)\n",
        "current_time = now.strftime('%Y-%m-%d %H:%M:%S')\n",
        "s_current_time = f\"{current_time}\"\n",
        "s_current_time = s_current_time[:18]\n",
        "print(s_current_time) # 현재 시간 / 11:11:12 -> 11:11:1 로 자르기\n",
        "\n",
        "# 예측 시간 구하기\n",
        "pred = datetime.now(H_KST)\n",
        "pred_time = now.strftime('%Y-%m-%d %H:%M:%S')\n",
        "s_pred_time = f\"{pred_time}\"\n",
        "s_pred_time = s_pred_time[:18]\n",
        "\n",
        "# 2. 1시간 후의 날씨+시간 데이터 불러오기\n",
        "sql_state2 = f\"select * from temp_weather where date_time like '{s_pred_time}%'\"\n",
        "s_after_weather = pd.read_sql_query(sql_state2, conn)\n",
        "print(s_after_weather) # DB에서 불러온 데이터\n",
        "\n",
        "# 불러온 시간 데이터 형식 변경\n",
        "#(2022-05-04 11:00:00 형식) -> (110000) 으로 변경\n",
        "date_time = s_after_weather['date_time']\n",
        "# 시간 데이터 추출\n",
        "s_time = date_time[0][11:].replace(\":\",\"\") # : 빼기\n",
        "print(s_time) # 변경된 시간\n",
        "\n",
        "# 변경된 시간 넣기\n",
        "s_after_weather['date_time'] = s_time\n",
        "print(s_after_weather)"
      ],
      "metadata": {
        "id": "Ra9EBIKVEPZP"
      },
      "execution_count": null,
      "outputs": []
    }
  ]
}