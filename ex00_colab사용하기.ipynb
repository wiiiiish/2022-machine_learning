{
  "nbformat": 4,
  "nbformat_minor": 0,
  "metadata": {
    "colab": {
      "name": "ex00_colab사용하기.ipynb",
      "provenance": [],
      "mount_file_id": "1GZLINm7fiofe-24AtHKcMG0Sdp6oi6u-",
      "authorship_tag": "ABX9TyMM5S36BTivMXKUfEhCX60e",
      "include_colab_link": true
    },
    "kernelspec": {
      "name": "python3",
      "display_name": "Python 3"
    },
    "language_info": {
      "name": "python"
    }
  },
  "cells": [
    {
      "cell_type": "markdown",
      "metadata": {
        "id": "view-in-github",
        "colab_type": "text"
      },
      "source": [
        "<a href=\"https://colab.research.google.com/github/wiiiiish/2022-machine_learning/blob/main/ex00_colab%EC%82%AC%EC%9A%A9%ED%95%98%EA%B8%B0.ipynb\" target=\"_parent\"><img src=\"https://colab.research.google.com/assets/colab-badge.svg\" alt=\"Open In Colab\"/></a>"
      ]
    },
    {
      "cell_type": "code",
      "source": [
        "print(\"hello world!\")"
      ],
      "metadata": {
        "colab": {
          "base_uri": "https://localhost:8080/"
        },
        "id": "y3ZznXL6AQ7Y",
        "outputId": "6c2b460f-a3df-4d5c-cf71-eb1f5dc95100"
      },
      "execution_count": null,
      "outputs": [
        {
          "output_type": "stream",
          "name": "stdout",
          "text": [
            "hello world!\n"
          ]
        }
      ]
    },
    {
      "cell_type": "code",
      "source": [
        "a,b=1,3"
      ],
      "metadata": {
        "id": "vyqPMvL3ARvq"
      },
      "execution_count": null,
      "outputs": []
    },
    {
      "cell_type": "code",
      "source": [
        "print(a)"
      ],
      "metadata": {
        "colab": {
          "base_uri": "https://localhost:8080/"
        },
        "id": "lelaxAH_ASMw",
        "outputId": "44a0e4b5-dc84-4391-fe14-d7b450d6e2c0"
      },
      "execution_count": null,
      "outputs": [
        {
          "output_type": "stream",
          "name": "stdout",
          "text": [
            "1\n"
          ]
        }
      ]
    },
    {
      "cell_type": "code",
      "source": [
        "input_data = input(\"값을 입력해주세요 : \")\n",
        "print(input_data)"
      ],
      "metadata": {
        "colab": {
          "base_uri": "https://localhost:8080/"
        },
        "id": "wFLijQBCASah",
        "outputId": "ad5a620e-a304-455b-9119-81cc56dccaff"
      },
      "execution_count": null,
      "outputs": [
        {
          "output_type": "stream",
          "name": "stdout",
          "text": [
            "값을 입력해주세요 : 10\n",
            "10\n"
          ]
        }
      ]
    },
    {
      "cell_type": "markdown",
      "source": [
        "###제목"
      ],
      "metadata": {
        "id": "dvJbtfVjBG11"
      }
    },
    {
      "cell_type": "markdown",
      "source": [
        "- 사과\n",
        "- 바나나\n",
        "- 포도"
      ],
      "metadata": {
        "id": "mcSV1vfiBwtt"
      }
    }
  ]
}