{
  "nbformat": 4,
  "nbformat_minor": 0,
  "metadata": {
    "colab": {
      "name": "mysql_insert_final_0511.ipynb",
      "provenance": [],
      "mount_file_id": "10RDiqTXK6V4zz7VFDwRQeODpsZaks46c",
      "authorship_tag": "ABX9TyOZppK+zPVtnpf5UDyPH2Jk",
      "include_colab_link": true
    },
    "kernelspec": {
      "name": "python3",
      "display_name": "Python 3"
    },
    "language_info": {
      "name": "python"
    }
  },
  "cells": [
    {
      "cell_type": "markdown",
      "metadata": {
        "id": "view-in-github",
        "colab_type": "text"
      },
      "source": [
        "<a href=\"https://colab.research.google.com/github/wiiiiish/2022-machine_learning/blob/main/mysql_insert_final_0511.ipynb\" target=\"_parent\"><img src=\"https://colab.research.google.com/assets/colab-badge.svg\" alt=\"Open In Colab\"/></a>"
      ]
    },
    {
      "cell_type": "code",
      "execution_count": 1,
      "metadata": {
        "colab": {
          "base_uri": "https://localhost:8080/"
        },
        "id": "5DU6WpJVFyFm",
        "outputId": "c6b99c3e-ba69-450a-a386-0e8a0a7dc72b"
      },
      "outputs": [
        {
          "output_type": "stream",
          "name": "stdout",
          "text": [
            "drive  sample_data\n"
          ]
        }
      ],
      "source": [
        "!ls"
      ]
    },
    {
      "cell_type": "code",
      "source": [
        "%cd drive/MyDrive/Colab\\ Notebooks/2022-04-27\\ 데이터"
      ],
      "metadata": {
        "colab": {
          "base_uri": "https://localhost:8080/"
        },
        "id": "bJFyCg7VF4-6",
        "outputId": "255c12ff-810f-4a2c-b554-3566ec0b5898"
      },
      "execution_count": 2,
      "outputs": [
        {
          "output_type": "stream",
          "name": "stdout",
          "text": [
            "/content/drive/MyDrive/Colab Notebooks/2022-04-27 데이터\n"
          ]
        }
      ]
    },
    {
      "cell_type": "code",
      "source": [
        "!sudo apt-get install python3-dev default-libmysqlclient-dev\n",
        "!pip install pymysql"
      ],
      "metadata": {
        "colab": {
          "base_uri": "https://localhost:8080/"
        },
        "id": "nPi3z_CVF664",
        "outputId": "fc8001c0-38bb-4c47-d780-a3a9c7488ff9"
      },
      "execution_count": 3,
      "outputs": [
        {
          "output_type": "stream",
          "name": "stdout",
          "text": [
            "Reading package lists... Done\n",
            "Building dependency tree       \n",
            "Reading state information... Done\n",
            "default-libmysqlclient-dev is already the newest version (1.0.4).\n",
            "default-libmysqlclient-dev set to manually installed.\n",
            "python3-dev is already the newest version (3.6.7-1~18.04).\n",
            "python3-dev set to manually installed.\n",
            "The following packages were automatically installed and are no longer required:\n",
            "  libnvidia-common-460 nsight-compute-2020.2.0\n",
            "Use 'sudo apt autoremove' to remove them.\n",
            "0 upgraded, 0 newly installed, 0 to remove and 42 not upgraded.\n",
            "Collecting pymysql\n",
            "  Downloading PyMySQL-1.0.2-py3-none-any.whl (43 kB)\n",
            "\u001b[K     |████████████████████████████████| 43 kB 1.1 MB/s \n",
            "\u001b[?25hInstalling collected packages: pymysql\n",
            "Successfully installed pymysql-1.0.2\n"
          ]
        }
      ]
    },
    {
      "cell_type": "code",
      "source": [
        "import pandas as pd\n",
        "import numpy as np\n",
        "import pymysql # mysql 연결\n",
        "import pickle # 모델 불러올 때 사용\n",
        "from datetime import date, datetime, timezone, timedelta # 시간 관련 라이브러리\n",
        "import pickle"
      ],
      "metadata": {
        "id": "ooxbB-z1F_Sz"
      },
      "execution_count": 5,
      "outputs": []
    },
    {
      "cell_type": "code",
      "source": [
        "# 모델 불러오기\n",
        "with open('LinearRegression_s_pred_model.pickle', 'rb') as f:\n",
        "    s_model = pickle.load(f)"
      ],
      "metadata": {
        "id": "3q91FX7BGKn0"
      },
      "execution_count": 6,
      "outputs": []
    },
    {
      "cell_type": "code",
      "source": [
        "# 시간 맞추기\n",
        "# hours=9 는 현재 한국시간\n",
        "# 우리는 한 시간 후의 시간을 불러와야 하기 때문에 hours=10 으로 설정\n",
        "K_KST = timezone(timedelta(hours=9))\n",
        "H_KST = timezone(timedelta(hours=10))"
      ],
      "metadata": {
        "id": "cm2pNiq4GTxf"
      },
      "execution_count": 7,
      "outputs": []
    },
    {
      "cell_type": "code",
      "source": [
        "# DB 연결\n",
        "from pymysql.converters import convert_bit\n",
        "host = \"project-db-stu.ddns.net\"\n",
        "port = 3307\n",
        "username = \"wish\"\n",
        "password = \"1234\"\n",
        "db = 'wish'\n",
        "\n",
        "conn = pymysql.connect(host=host, port=port, user=username, password=password, db=db)\n",
        "\n",
        "# select 현재 시간, 데이터 번호 (real_data의 마지막 데이터 불러오기)\n",
        "sql_state1 = f\"select r_seq, r_date, r_aod from s_real_data order by r_date desc limit 1\"\n",
        "s_real = pd.read_sql_query(sql_state1, conn)\n",
        "s_r_seq = s_real['r_seq']\n",
        "s_r_date = s_real['r_date']\n",
        "s_r_now_aod = s_real['r_aod']\n",
        "\n",
        "print(f\"s_r_now_aod : {s_r_now_aod[0]}\")\n",
        "\n",
        "# 불러온 데이터의 시간 추출\n",
        "s_now_time = f\"{s_r_date[0]}\"\n",
        "print(f\"s_now_time : {s_now_time}\")\n",
        "\n",
        "\n",
        "# s_now_time 의 한 시간 후의 시간\n",
        "s_now_time_slice = s_now_time[:18]\n",
        "s_pred_t = (int)(s_now_time_slice[11:13]) + 1\n",
        "print(f\"s_pred_t : {s_pred_t}\")\n",
        "\n",
        "if s_pred_t < 10:\n",
        "  s_pred_t = f\"0{s_pred_t}\"\n",
        "\n",
        "timeList = list(s_now_time)\n",
        "timeList[11:13] = f\"{s_pred_t}\"\n",
        "s_pred_time = ''.join(s for s in timeList)\n",
        "s_pred_time_slice = s_pred_time[:18]\n",
        "print(f\"s_pred_time : {s_pred_time}\")\n",
        "print(f\"s_pred_time_slice : {s_pred_time_slice}\")\n",
        "\n",
        "# s_now_time 의 한 시간 전의 시간\n",
        "s_before_t = (int)(s_now_time_slice[11:13]) - 1\n",
        "print(f\"s_before_t : {s_before_t}\")\n",
        "\n",
        "if s_before_t < 10:\n",
        "  s_before_t = f\"0{s_before_t}\"\n",
        "\n",
        "timeList[11:13] = f\"{s_before_t}\"\n",
        "s_before_time = ''.join(s for s in timeList)\n",
        "s_before_time_slice = s_before_time[:18]\n",
        "print(f\"s_before_time_slice : {s_before_time_slice}\")\n",
        "\n",
        "# select 한 시간 후의 날씨\n",
        "sql_state2 = f\"select * from temp_weather where date_time like '{s_pred_time_slice}%'\"\n",
        "s_after_weather = pd.read_sql_query(sql_state2, conn)\n",
        "after_hour_weather = pd.DataFrame(s_after_weather)\n",
        "\n",
        "# select 한 시간 전의 발전량\n",
        "sql_state3 = f\"select r_aod from s_real_data where r_date like '{s_before_time_slice}%'\"\n",
        "s_before_aod = pd.read_sql_query(sql_state3, conn)\n",
        "before_hour_aod = s_before_aod['r_aod']\n",
        "print(f\"before_hour_aod : {before_hour_aod}\")\n",
        "\n",
        "# 모델에 넣을 데이터 형식 맞추기\n",
        "after_hour_weather['now_aod'] = s_r_now_aod[0]\n",
        "after_hour_weather['before_aod'] = before_hour_aod[0]\n",
        "\n",
        "test = after_hour_weather.loc[:, 'temperature':]\n",
        "X_test = np.array(test)\n",
        "print(X_test)\n",
        "\n",
        "pred_aod = s_model.predict(X_test)\n",
        "s_pred_aod = pred_aod[0]\n",
        "\n",
        "print(f\"s_pred_aod : {s_pred_aod}\")\n",
        "\n",
        "if s_pred_aod < 0 :\n",
        "  s_pred_aod = 0\n",
        "\n",
        "print(s_pred_time)\n",
        "\n",
        "s_pred_time_n = datetime.strptime(s_pred_time, '%Y-%m-%d %H:%M:%S')\n",
        "print(f\"s_pred_time_n : {s_pred_time_n}\")\n",
        "\n",
        "# DB insert into s_predict\n",
        "sql_state3 = f\"insert into s_prediction values (null, {s_r_seq[0]}, '{s_pred_time_n}', {s_pred_aod[0]})\"\n",
        "cursor = conn.cursor()\n",
        "cursor.execute(sql_state3)\n",
        "conn.commit()"
      ],
      "metadata": {
        "colab": {
          "base_uri": "https://localhost:8080/"
        },
        "id": "ak1d1B5jGX6m",
        "outputId": "bc7732f6-f710-4ded-c2a7-9789e39624d4"
      },
      "execution_count": 58,
      "outputs": [
        {
          "output_type": "stream",
          "name": "stdout",
          "text": [
            "s_r_now_aod : 287\n",
            "s_now_time : 2022-05-11 15:25:03\n",
            "s_pred_t : 16\n",
            "s_pred_time : 2022-05-11 16:25:03\n",
            "s_pred_time_slice : 2022-05-11 16:25:0\n",
            "s_before_t : 14\n",
            "s_before_time_slice : 2022-05-11 14:25:0\n",
            "before_hour_aod : 0    426\n",
            "Name: r_aod, dtype: int64\n",
            "[[3.0000e+01 0.0000e+00 1.1000e+00 6.1400e+01 3.0000e-01 0.0000e+00\n",
            "  1.9999e+03 3.4400e+01 2.8700e+02 4.2600e+02]]\n",
            "s_pred_aod : [123.34211899]\n",
            "2022-05-11 16:25:03\n",
            "s_pred_time_n : 2022-05-11 16:25:03\n"
          ]
        }
      ]
    },
    {
      "cell_type": "code",
      "source": [
        "def pred():\n",
        "  # DB 연결\n",
        "  from pymysql.converters import convert_bit\n",
        "  host = \"project-db-stu.ddns.net\"\n",
        "  port = 3307\n",
        "  username = \"wish\"\n",
        "  password = \"1234\"\n",
        "  db = 'wish'\n",
        "\n",
        "  conn = pymysql.connect(host=host, port=port, user=username, password=password, db=db)\n",
        "\n",
        "  # select 현재 시간, 데이터 번호 (real_data의 마지막 데이터 불러오기)\n",
        "  sql_state1 = f\"select r_seq, r_date, r_aod from s_real_data order by r_date desc limit 1\"\n",
        "  s_real = pd.read_sql_query(sql_state1, conn)\n",
        "  s_r_seq = s_real['r_seq']\n",
        "  s_r_date = s_real['r_date']\n",
        "  s_r_now_aod = s_real['r_aod']\n",
        "\n",
        "  print(f\"s_r_now_aod : {s_r_now_aod[0]}\")\n",
        "\n",
        "  # 불러온 데이터의 시간 추출\n",
        "  s_now_time = f\"{s_r_date[0]}\"\n",
        "  print(f\"s_now_time : {s_now_time}\")\n",
        "\n",
        "\n",
        "  # s_now_time 의 한 시간 후의 시간\n",
        "  s_now_time_slice = s_now_time[:18]\n",
        "  s_pred_t = (int)(s_now_time_slice[11:13]) + 1\n",
        "  print(f\"s_pred_t : {s_pred_t}\")\n",
        "\n",
        "  if s_pred_t < 10:\n",
        "    s_pred_t = f\"0{s_pred_t}\"\n",
        "\n",
        "  timeList = list(s_now_time)\n",
        "  timeList[11:13] = f\"{s_pred_t}\"\n",
        "  s_pred_time = ''.join(s for s in timeList)\n",
        "  s_pred_time_slice = s_pred_time[:18]\n",
        "  print(f\"s_pred_time : {s_pred_time}\")\n",
        "  print(f\"s_pred_time_slice : {s_pred_time_slice}\")\n",
        "\n",
        "  # s_now_time 의 한 시간 전의 시간\n",
        "  s_before_t = (int)(s_now_time_slice[11:13]) - 1\n",
        "  print(f\"s_before_t : {s_before_t}\")\n",
        "\n",
        "  if s_before_t < 10:\n",
        "    s_before_t = f\"0{s_before_t}\"\n",
        "\n",
        "  timeList[11:13] = f\"{s_before_t}\"\n",
        "  s_before_time = ''.join(s for s in timeList)\n",
        "  s_before_time_slice = s_before_time[:18]\n",
        "  print(f\"s_before_time_slice : {s_before_time_slice}\")\n",
        "\n",
        "  # select 한 시간 후의 날씨\n",
        "  sql_state2 = f\"select * from temp_weather where date_time like '{s_pred_time_slice}%'\"\n",
        "  s_after_weather = pd.read_sql_query(sql_state2, conn)\n",
        "  after_hour_weather = pd.DataFrame(s_after_weather)\n",
        "\n",
        "  # select 한 시간 전의 발전량\n",
        "  sql_state3 = f\"select r_aod from s_real_data where r_date like '{s_before_time_slice}%'\"\n",
        "  s_before_aod = pd.read_sql_query(sql_state3, conn)\n",
        "  before_hour_aod = s_before_aod['r_aod']\n",
        "  print(f\"before_hour_aod : {before_hour_aod}\")\n",
        "\n",
        "  # 모델에 넣을 데이터 형식 맞추기\n",
        "  after_hour_weather['now_aod'] = s_r_now_aod[0]\n",
        "  after_hour_weather['before_aod'] = before_hour_aod[0]\n",
        "\n",
        "  test = after_hour_weather.loc[:, 'temperature':]\n",
        "  X_test = np.array(test)\n",
        "  print(X_test)\n",
        "\n",
        "  pred_aod = s_model.predict(X_test)\n",
        "  s_pred_aod = pred_aod[0]\n",
        "\n",
        "  print(f\"s_pred_aod : {s_pred_aod}\")\n",
        "\n",
        "  if s_pred_aod < 0 :\n",
        "    s_pred_aod = 0\n",
        "\n",
        "  print(s_pred_time)\n",
        "\n",
        "  s_pred_time_n = datetime.strptime(s_pred_time, '%Y-%m-%d %H:%M:%S')\n",
        "  print(f\"s_pred_time_n : {s_pred_time_n}\")\n",
        "\n",
        "  # DB insert into s_predict\n",
        "  sql_state3 = f\"insert into s_prediction values (null, {s_r_seq[0]}, '{s_pred_time_n}', {s_pred_aod[0]})\"\n",
        "  cursor = conn.cursor()\n",
        "  cursor.execute(sql_state3)\n",
        "  conn.commit()\n",
        "\n",
        "  threading.Timer(10, pred).start()"
      ],
      "metadata": {
        "id": "0BsioUabzY-d"
      },
      "execution_count": 66,
      "outputs": []
    },
    {
      "cell_type": "code",
      "source": [
        "!pip install schedule"
      ],
      "metadata": {
        "colab": {
          "base_uri": "https://localhost:8080/"
        },
        "id": "yfOzgmqNz9Zo",
        "outputId": "92e76307-2169-4513-f339-a34b4956db8f"
      },
      "execution_count": 61,
      "outputs": [
        {
          "output_type": "stream",
          "name": "stdout",
          "text": [
            "Collecting schedule\n",
            "  Downloading schedule-1.1.0-py2.py3-none-any.whl (10 kB)\n",
            "Installing collected packages: schedule\n",
            "Successfully installed schedule-1.1.0\n"
          ]
        }
      ]
    },
    {
      "cell_type": "code",
      "source": [
        "import time\n",
        "import schedule\n",
        "import threading"
      ],
      "metadata": {
        "id": "EiK6i18bz29Z"
      },
      "execution_count": 65,
      "outputs": []
    },
    {
      "cell_type": "code",
      "source": [
        "pred()"
      ],
      "metadata": {
        "colab": {
          "base_uri": "https://localhost:8080/"
        },
        "id": "B564TpA90B3j",
        "outputId": "1d6898f6-26f2-4be2-c4ba-de285f6c7fe0"
      },
      "execution_count": 69,
      "outputs": [
        {
          "output_type": "stream",
          "name": "stdout",
          "text": [
            "s_r_now_aod : 247\n",
            "s_now_time : 2022-05-11 15:52:00\n",
            "s_pred_t : 16\n",
            "s_pred_time : 2022-05-11 16:52:00\n",
            "s_pred_time_slice : 2022-05-11 16:52:0\n",
            "s_before_t : 14\n",
            "s_before_time_slice : 2022-05-11 14:52:0\n",
            "before_hour_aod : 0    347\n",
            "Name: r_aod, dtype: int64\n",
            "[[2.99e+01 0.00e+00 9.00e-01 6.98e+01 4.00e-01 0.00e+00 2.00e+03 3.44e+01\n",
            "  2.47e+02 3.47e+02]]\n",
            "s_pred_aod : [135.50444608]\n",
            "2022-05-11 16:52:00\n",
            "s_pred_time_n : 2022-05-11 16:52:00\n"
          ]
        }
      ]
    },
    {
      "cell_type": "code",
      "source": [
        ""
      ],
      "metadata": {
        "id": "Pdm-CFYY1Mwk"
      },
      "execution_count": null,
      "outputs": []
    }
  ]
}