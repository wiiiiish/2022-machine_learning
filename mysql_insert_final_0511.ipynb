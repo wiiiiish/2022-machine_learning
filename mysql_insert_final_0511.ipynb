{
  "nbformat": 4,
  "nbformat_minor": 0,
  "metadata": {
    "colab": {
      "name": "mysql_insert_final_0511.ipynb",
      "provenance": [],
      "mount_file_id": "10RDiqTXK6V4zz7VFDwRQeODpsZaks46c",
      "authorship_tag": "ABX9TyPvWQbzdL+ByfVutLzXKcS7",
      "include_colab_link": true
    },
    "kernelspec": {
      "name": "python3",
      "display_name": "Python 3"
    },
    "language_info": {
      "name": "python"
    }
  },
  "cells": [
    {
      "cell_type": "markdown",
      "metadata": {
        "id": "view-in-github",
        "colab_type": "text"
      },
      "source": [
        "<a href=\"https://colab.research.google.com/github/wiiiiish/2022-machine_learning/blob/main/mysql_insert_final_0511.ipynb\" target=\"_parent\"><img src=\"https://colab.research.google.com/assets/colab-badge.svg\" alt=\"Open In Colab\"/></a>"
      ]
    },
    {
      "cell_type": "code",
      "execution_count": 1,
      "metadata": {
        "colab": {
          "base_uri": "https://localhost:8080/"
        },
        "id": "5DU6WpJVFyFm",
        "outputId": "c6b99c3e-ba69-450a-a386-0e8a0a7dc72b"
      },
      "outputs": [
        {
          "output_type": "stream",
          "name": "stdout",
          "text": [
            "drive  sample_data\n"
          ]
        }
      ],
      "source": [
        "!ls"
      ]
    },
    {
      "cell_type": "code",
      "source": [
        "%cd drive/MyDrive/Colab\\ Notebooks/2022-04-27\\ 데이터"
      ],
      "metadata": {
        "colab": {
          "base_uri": "https://localhost:8080/"
        },
        "id": "bJFyCg7VF4-6",
        "outputId": "255c12ff-810f-4a2c-b554-3566ec0b5898"
      },
      "execution_count": 2,
      "outputs": [
        {
          "output_type": "stream",
          "name": "stdout",
          "text": [
            "/content/drive/MyDrive/Colab Notebooks/2022-04-27 데이터\n"
          ]
        }
      ]
    },
    {
      "cell_type": "code",
      "source": [
        "!sudo apt-get install python3-dev default-libmysqlclient-dev\n",
        "!pip install pymysql"
      ],
      "metadata": {
        "colab": {
          "base_uri": "https://localhost:8080/"
        },
        "id": "nPi3z_CVF664",
        "outputId": "fc8001c0-38bb-4c47-d780-a3a9c7488ff9"
      },
      "execution_count": 3,
      "outputs": [
        {
          "output_type": "stream",
          "name": "stdout",
          "text": [
            "Reading package lists... Done\n",
            "Building dependency tree       \n",
            "Reading state information... Done\n",
            "default-libmysqlclient-dev is already the newest version (1.0.4).\n",
            "default-libmysqlclient-dev set to manually installed.\n",
            "python3-dev is already the newest version (3.6.7-1~18.04).\n",
            "python3-dev set to manually installed.\n",
            "The following packages were automatically installed and are no longer required:\n",
            "  libnvidia-common-460 nsight-compute-2020.2.0\n",
            "Use 'sudo apt autoremove' to remove them.\n",
            "0 upgraded, 0 newly installed, 0 to remove and 42 not upgraded.\n",
            "Collecting pymysql\n",
            "  Downloading PyMySQL-1.0.2-py3-none-any.whl (43 kB)\n",
            "\u001b[K     |████████████████████████████████| 43 kB 1.1 MB/s \n",
            "\u001b[?25hInstalling collected packages: pymysql\n",
            "Successfully installed pymysql-1.0.2\n"
          ]
        }
      ]
    },
    {
      "cell_type": "code",
      "source": [
        "import pandas as pd\n",
        "import numpy as np\n",
        "import pymysql # mysql 연결\n",
        "import pickle # 모델 불러올 때 사용\n",
        "from datetime import date, datetime, timezone, timedelta # 시간 관련 라이브러리\n",
        "import pickle"
      ],
      "metadata": {
        "id": "ooxbB-z1F_Sz"
      },
      "execution_count": 5,
      "outputs": []
    },
    {
      "cell_type": "code",
      "source": [
        "# 모델 불러오기\n",
        "with open('LinearRegression_s_pred_model.pickle', 'rb') as f:\n",
        "    s_model = pickle.load(f)"
      ],
      "metadata": {
        "id": "3q91FX7BGKn0"
      },
      "execution_count": 6,
      "outputs": []
    },
    {
      "cell_type": "code",
      "source": [
        "# 시간 맞추기\n",
        "# hours=9 는 현재 한국시간\n",
        "# 우리는 한 시간 후의 시간을 불러와야 하기 때문에 hours=10 으로 설정\n",
        "K_KST = timezone(timedelta(hours=9))\n",
        "H_KST = timezone(timedelta(hours=10))"
      ],
      "metadata": {
        "id": "cm2pNiq4GTxf"
      },
      "execution_count": 7,
      "outputs": []
    },
    {
      "cell_type": "code",
      "source": [
        "# DB 연결\n",
        "from pymysql.converters import convert_bit\n",
        "host = \"project-db-stu.ddns.net\"\n",
        "port = 3307\n",
        "username = \"wish\"\n",
        "password = \"1234\"\n",
        "db = 'wish'\n",
        "\n",
        "conn = pymysql.connect(host=host, port=port, user=username, password=password, db=db)\n",
        "\n",
        "# select 현재 시간, 데이터 번호 (real_data의 마지막 데이터 불러오기)\n",
        "sql_state1 = f\"select r_seq, r_date, r_aod from s_real_data order by r_date desc limit 1\"\n",
        "s_real = pd.read_sql_query(sql_state1, conn)\n",
        "s_r_seq = s_real['r_seq']\n",
        "s_r_date = s_real['r_date']\n",
        "s_r_now_aod = s_real['r_aod']\n",
        "\n",
        "# 불러온 데이터의 시간 추출\n",
        "s_now_time = f\"{s_r_date[0]}\"\n",
        "print(f\"s_now_time : {s_now_time}\")\n",
        "\n",
        "\n",
        "# s_now_time 의 한 시간 후의 시간\n",
        "s_now_time_slice = s_now_time[:18]\n",
        "s_pred_t = (int)(s_now_time_slice[11:13]) + 1\n",
        "print(f\"s_pred_t : {s_pred_t}\")\n",
        "\n",
        "if s_pred_t < 10:\n",
        "  s_pred_t = f\"0{s_pred_t}\"\n",
        "\n",
        "timeList = list(s_now_time)\n",
        "timeList[11:13] = f\"{s_pred_t}\"\n",
        "s_pred_time = ''.join(s for s in timeList)\n",
        "s_pred_time_slice = s_pred_time[:18]\n",
        "print(f\"s_pred_time_slice : {s_pred_time_slice}\")\n",
        "\n",
        "# s_now_time 의 한 시간 전의 시간\n",
        "s_before_t = (int)(s_now_time_slice[11:13]) - 1\n",
        "print(f\"s_before_t : {s_before_t}\")\n",
        "\n",
        "if s_before_t < 10:\n",
        "  s_before_t = f\"0{s_before_t}\"\n",
        "\n",
        "timeList[11:13] = f\"{s_before_t}\"\n",
        "s_before_time = ''.join(s for s in timeList)\n",
        "s_before_time_slice = s_before_time[:18]\n",
        "print(f\"s_before_time_slice : {s_before_time_slice}\")\n",
        "\n",
        "# select 한 시간 후의 날씨\n",
        "sql_state2 = f\"select * from temp_weather where date_time like '{s_pred_time_slice}%'\"\n",
        "s_after_weather = pd.read_sql_query(sql_state2, conn)\n",
        "after_hour_weather = pd.DataFrame(s_after_weather)\n",
        "\n",
        "# select 한 시간 전의 발전량\n",
        "sql_state3 = f\"select r_aod from s_real_data where r_date like '{s_before_time_slice}'\"\n",
        "s_before_aod = pd.read_sql_query(sql_state3, conn)\n",
        "before_hour_aod = pd.DataFrame(s_before_aod)\n",
        "print(f\"before_hour_aod : {before_hour_aod}\")\n",
        "\n",
        "# 모델에 넣을 데이터 형식 맞추기\n",
        "after_hour_weather['now_aod'] = s_r_now_aod\n",
        "after_hour_weather['before_aod'] = before_hour_aod\n",
        "\n",
        "test = after_hour_weather.loc[:, 'temperature':]\n",
        "X_test = np.array(test)\n",
        "\n",
        "pred_aod = s_model.predict(X_test)\n",
        "s_pred_aod = pred_aod[0]\n",
        "\n",
        "print(f\"s_pred_aod : {s_pred_aod}\")\n",
        "\n",
        "if s_pred_aod < 0 :\n",
        "  s_pred_aod = 0\n",
        "\n",
        "# DB insert into s_predict\n",
        "sql_state3 = f\"insert into s_prediction values (null, {s_r_seq}, '{s_pred_time}', {s_pred_aod})\"\n",
        "cursor = conn.cursor()\n",
        "cursor.execute(sql_state3)\n",
        "conn.commit()"
      ],
      "metadata": {
        "colab": {
          "base_uri": "https://localhost:8080/",
          "height": 223
        },
        "id": "ak1d1B5jGX6m",
        "outputId": "c3137935-b3d1-43d8-d69c-2b5ef102e1db"
      },
      "execution_count": 21,
      "outputs": [
        {
          "output_type": "stream",
          "name": "stdout",
          "text": [
            "s_now_time : 2022-05-11 12:25:06\n",
            "s_pred_t : 13\n",
            "s_pred_time_slice : 2022-05-11 13:25:0\n",
            "s_before_t : 11\n",
            "s_before_time_slice : 2022-05-11 11:25:0\n",
            "before_hour_aod : Empty DataFrame\n",
            "Columns: [r_aod]\n",
            "Index: []\n"
          ]
        },
        {
          "output_type": "execute_result",
          "data": {
            "text/plain": [
              "             date_time  temperature  precipitation  wind_speed  humidity  \\\n",
              "0  2022-05-11 13:25:00         30.4            0.0         1.5      63.6   \n",
              "\n",
              "   radiation  total_cloudiness  visibility  ground_temp  now_aod  \n",
              "0        0.9               0.0      2000.0         37.4      575  "
            ],
            "text/html": [
              "\n",
              "  <div id=\"df-e7ac0638-5952-4801-ad46-9211daa57219\">\n",
              "    <div class=\"colab-df-container\">\n",
              "      <div>\n",
              "<style scoped>\n",
              "    .dataframe tbody tr th:only-of-type {\n",
              "        vertical-align: middle;\n",
              "    }\n",
              "\n",
              "    .dataframe tbody tr th {\n",
              "        vertical-align: top;\n",
              "    }\n",
              "\n",
              "    .dataframe thead th {\n",
              "        text-align: right;\n",
              "    }\n",
              "</style>\n",
              "<table border=\"1\" class=\"dataframe\">\n",
              "  <thead>\n",
              "    <tr style=\"text-align: right;\">\n",
              "      <th></th>\n",
              "      <th>date_time</th>\n",
              "      <th>temperature</th>\n",
              "      <th>precipitation</th>\n",
              "      <th>wind_speed</th>\n",
              "      <th>humidity</th>\n",
              "      <th>radiation</th>\n",
              "      <th>total_cloudiness</th>\n",
              "      <th>visibility</th>\n",
              "      <th>ground_temp</th>\n",
              "      <th>now_aod</th>\n",
              "    </tr>\n",
              "  </thead>\n",
              "  <tbody>\n",
              "    <tr>\n",
              "      <th>0</th>\n",
              "      <td>2022-05-11 13:25:00</td>\n",
              "      <td>30.4</td>\n",
              "      <td>0.0</td>\n",
              "      <td>1.5</td>\n",
              "      <td>63.6</td>\n",
              "      <td>0.9</td>\n",
              "      <td>0.0</td>\n",
              "      <td>2000.0</td>\n",
              "      <td>37.4</td>\n",
              "      <td>575</td>\n",
              "    </tr>\n",
              "  </tbody>\n",
              "</table>\n",
              "</div>\n",
              "      <button class=\"colab-df-convert\" onclick=\"convertToInteractive('df-e7ac0638-5952-4801-ad46-9211daa57219')\"\n",
              "              title=\"Convert this dataframe to an interactive table.\"\n",
              "              style=\"display:none;\">\n",
              "        \n",
              "  <svg xmlns=\"http://www.w3.org/2000/svg\" height=\"24px\"viewBox=\"0 0 24 24\"\n",
              "       width=\"24px\">\n",
              "    <path d=\"M0 0h24v24H0V0z\" fill=\"none\"/>\n",
              "    <path d=\"M18.56 5.44l.94 2.06.94-2.06 2.06-.94-2.06-.94-.94-2.06-.94 2.06-2.06.94zm-11 1L8.5 8.5l.94-2.06 2.06-.94-2.06-.94L8.5 2.5l-.94 2.06-2.06.94zm10 10l.94 2.06.94-2.06 2.06-.94-2.06-.94-.94-2.06-.94 2.06-2.06.94z\"/><path d=\"M17.41 7.96l-1.37-1.37c-.4-.4-.92-.59-1.43-.59-.52 0-1.04.2-1.43.59L10.3 9.45l-7.72 7.72c-.78.78-.78 2.05 0 2.83L4 21.41c.39.39.9.59 1.41.59.51 0 1.02-.2 1.41-.59l7.78-7.78 2.81-2.81c.8-.78.8-2.07 0-2.86zM5.41 20L4 18.59l7.72-7.72 1.47 1.35L5.41 20z\"/>\n",
              "  </svg>\n",
              "      </button>\n",
              "      \n",
              "  <style>\n",
              "    .colab-df-container {\n",
              "      display:flex;\n",
              "      flex-wrap:wrap;\n",
              "      gap: 12px;\n",
              "    }\n",
              "\n",
              "    .colab-df-convert {\n",
              "      background-color: #E8F0FE;\n",
              "      border: none;\n",
              "      border-radius: 50%;\n",
              "      cursor: pointer;\n",
              "      display: none;\n",
              "      fill: #1967D2;\n",
              "      height: 32px;\n",
              "      padding: 0 0 0 0;\n",
              "      width: 32px;\n",
              "    }\n",
              "\n",
              "    .colab-df-convert:hover {\n",
              "      background-color: #E2EBFA;\n",
              "      box-shadow: 0px 1px 2px rgba(60, 64, 67, 0.3), 0px 1px 3px 1px rgba(60, 64, 67, 0.15);\n",
              "      fill: #174EA6;\n",
              "    }\n",
              "\n",
              "    [theme=dark] .colab-df-convert {\n",
              "      background-color: #3B4455;\n",
              "      fill: #D2E3FC;\n",
              "    }\n",
              "\n",
              "    [theme=dark] .colab-df-convert:hover {\n",
              "      background-color: #434B5C;\n",
              "      box-shadow: 0px 1px 3px 1px rgba(0, 0, 0, 0.15);\n",
              "      filter: drop-shadow(0px 1px 2px rgba(0, 0, 0, 0.3));\n",
              "      fill: #FFFFFF;\n",
              "    }\n",
              "  </style>\n",
              "\n",
              "      <script>\n",
              "        const buttonEl =\n",
              "          document.querySelector('#df-e7ac0638-5952-4801-ad46-9211daa57219 button.colab-df-convert');\n",
              "        buttonEl.style.display =\n",
              "          google.colab.kernel.accessAllowed ? 'block' : 'none';\n",
              "\n",
              "        async function convertToInteractive(key) {\n",
              "          const element = document.querySelector('#df-e7ac0638-5952-4801-ad46-9211daa57219');\n",
              "          const dataTable =\n",
              "            await google.colab.kernel.invokeFunction('convertToInteractive',\n",
              "                                                     [key], {});\n",
              "          if (!dataTable) return;\n",
              "\n",
              "          const docLinkHtml = 'Like what you see? Visit the ' +\n",
              "            '<a target=\"_blank\" href=https://colab.research.google.com/notebooks/data_table.ipynb>data table notebook</a>'\n",
              "            + ' to learn more about interactive tables.';\n",
              "          element.innerHTML = '';\n",
              "          dataTable['output_type'] = 'display_data';\n",
              "          await google.colab.output.renderOutput(dataTable, element);\n",
              "          const docLink = document.createElement('div');\n",
              "          docLink.innerHTML = docLinkHtml;\n",
              "          element.appendChild(docLink);\n",
              "        }\n",
              "      </script>\n",
              "    </div>\n",
              "  </div>\n",
              "  "
            ]
          },
          "metadata": {},
          "execution_count": 21
        }
      ]
    }
  ]
}