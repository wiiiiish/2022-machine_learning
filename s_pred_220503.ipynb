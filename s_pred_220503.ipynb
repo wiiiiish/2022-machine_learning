{
  "nbformat": 4,
  "nbformat_minor": 0,
  "metadata": {
    "colab": {
      "name": "s_pred_220503.ipynb",
      "provenance": [],
      "mount_file_id": "16Eb8RLHkiG1yt8gDg4wo12V7dG_hw7kJ",
      "authorship_tag": "ABX9TyPDoUU7oL5q2WUFvwmdFUFw",
      "include_colab_link": true
    },
    "kernelspec": {
      "name": "python3",
      "display_name": "Python 3"
    },
    "language_info": {
      "name": "python"
    }
  },
  "cells": [
    {
      "cell_type": "markdown",
      "metadata": {
        "id": "view-in-github",
        "colab_type": "text"
      },
      "source": [
        "<a href=\"https://colab.research.google.com/github/wiiiiish/2022-machine_learning/blob/main/s_pred_220503.ipynb\" target=\"_parent\"><img src=\"https://colab.research.google.com/assets/colab-badge.svg\" alt=\"Open In Colab\"/></a>"
      ]
    },
    {
      "cell_type": "code",
      "execution_count": 1,
      "metadata": {
        "colab": {
          "base_uri": "https://localhost:8080/"
        },
        "id": "82rQ_3mjV7VD",
        "outputId": "3c8a3c85-4c7c-4158-d717-789b4e373304"
      },
      "outputs": [
        {
          "output_type": "stream",
          "name": "stdout",
          "text": [
            "drive  sample_data\n"
          ]
        }
      ],
      "source": [
        "!ls"
      ]
    },
    {
      "cell_type": "code",
      "source": [
        "%cd drive/MyDrive/Colab\\ Notebooks/2022-04-27\\ 데이터"
      ],
      "metadata": {
        "colab": {
          "base_uri": "https://localhost:8080/"
        },
        "id": "FqmfZf6BXk_s",
        "outputId": "0df8af0d-7456-412a-92d4-b7bc0b97289b"
      },
      "execution_count": 2,
      "outputs": [
        {
          "output_type": "stream",
          "name": "stdout",
          "text": [
            "/content/drive/MyDrive/Colab Notebooks/2022-04-27 데이터\n"
          ]
        }
      ]
    },
    {
      "cell_type": "code",
      "source": [
        "!sudo apt-get install python3-dev default-libmysqlclient-dev\n",
        "!pip install pymysql"
      ],
      "metadata": {
        "colab": {
          "base_uri": "https://localhost:8080/"
        },
        "id": "OUNopF3XXorh",
        "outputId": "2dadeca7-9130-48ff-952d-d175ddc46aa1"
      },
      "execution_count": 4,
      "outputs": [
        {
          "output_type": "stream",
          "name": "stdout",
          "text": [
            "Reading package lists... Done\n",
            "Building dependency tree       \n",
            "Reading state information... Done\n",
            "default-libmysqlclient-dev is already the newest version (1.0.4).\n",
            "default-libmysqlclient-dev set to manually installed.\n",
            "python3-dev is already the newest version (3.6.7-1~18.04).\n",
            "python3-dev set to manually installed.\n",
            "The following packages were automatically installed and are no longer required:\n",
            "  libnvidia-common-460 nsight-compute-2020.2.0\n",
            "Use 'sudo apt autoremove' to remove them.\n",
            "0 upgraded, 0 newly installed, 0 to remove and 42 not upgraded.\n",
            "Requirement already satisfied: pymysql in /usr/local/lib/python3.7/dist-packages (1.0.2)\n"
          ]
        }
      ]
    },
    {
      "cell_type": "code",
      "source": [
        "import pandas as pd\n",
        "import pymysql"
      ],
      "metadata": {
        "id": "VcQg85ErX9Fg"
      },
      "execution_count": 7,
      "outputs": []
    },
    {
      "cell_type": "code",
      "source": [
        "from pymysql.converters import convert_bit\n",
        "host = \"project-db-stu.ddns.net\"\n",
        "port = 3307\n",
        "username = \"wish\"\n",
        "password = \"1234\"\n",
        "db = 'wish'\n",
        "\n",
        "conn = pymysql.connect(host=host, port=port, user=username, password=password, db=db)\n",
        "sql_state = 'select * from s_member'\n",
        "\n",
        "df = pd.read_sql_query(sql_state, conn)"
      ],
      "metadata": {
        "id": "1RuAlKxdYCQm"
      },
      "execution_count": 10,
      "outputs": []
    },
    {
      "cell_type": "code",
      "source": [
        "df"
      ],
      "metadata": {
        "colab": {
          "base_uri": "https://localhost:8080/",
          "height": 424
        },
        "id": "grU8JeJbbXQw",
        "outputId": "13f24bed-be53-42f2-ac91-e01c9e085659"
      },
      "execution_count": 11,
      "outputs": [
        {
          "output_type": "execute_result",
          "data": {
            "text/plain": [
              "           mem_id       mem_pw       mem_name       mem_addr       mem_phone  \\\n",
              "0     mem_id 0001  mem_pw 0001  mem_name 0001  mem_addr 0001  mem_phone 0001   \n",
              "1     mem_id 0002  mem_pw 0002  mem_name 0002  mem_addr 0002  mem_phone 0002   \n",
              "2     mem_id 0003  mem_pw 0003  mem_name 0003  mem_addr 0003  mem_phone 0003   \n",
              "3     mem_id 0004  mem_pw 0004  mem_name 0004  mem_addr 0004  mem_phone 0004   \n",
              "4     mem_id 0005  mem_pw 0005  mem_name 0005  mem_addr 0005  mem_phone 0005   \n",
              "...           ...          ...            ...            ...             ...   \n",
              "1102  mem_id 1103  mem_pw 1103  mem_name 1103  mem_addr 1103  mem_phone 1103   \n",
              "1103  mem_id 1104  mem_pw 1104  mem_name 1104  mem_addr 1104  mem_phone 1104   \n",
              "1104  mem_id 1105  mem_pw 1105  mem_name 1105  mem_addr 1105  mem_phone 1105   \n",
              "1105  mem_id 1106  mem_pw 1106  mem_name 1106  mem_addr 1106  mem_phone 1106   \n",
              "1106  mem_id 1107  mem_pw 1107  mem_name 1107  mem_addr 1107  mem_phone 1107   \n",
              "\n",
              "     mem_purchase mem_type        mem_joindate  \n",
              "0               N        N 2022-04-26 17:32:31  \n",
              "1               N        N 2022-04-26 17:32:31  \n",
              "2               N        N 2022-04-26 17:32:31  \n",
              "3               N        N 2022-04-26 17:32:31  \n",
              "4               N        N 2022-04-26 17:32:31  \n",
              "...           ...      ...                 ...  \n",
              "1102            N        N 2022-08-07 17:32:00  \n",
              "1103            N        N 2022-08-08 17:32:00  \n",
              "1104            N        N 2022-08-09 17:32:00  \n",
              "1105            N        N 2022-08-10 17:32:00  \n",
              "1106            N        N 2022-08-11 17:32:00  \n",
              "\n",
              "[1107 rows x 8 columns]"
            ],
            "text/html": [
              "\n",
              "  <div id=\"df-1caa3f45-6f7e-4de4-b532-20c3b898d501\">\n",
              "    <div class=\"colab-df-container\">\n",
              "      <div>\n",
              "<style scoped>\n",
              "    .dataframe tbody tr th:only-of-type {\n",
              "        vertical-align: middle;\n",
              "    }\n",
              "\n",
              "    .dataframe tbody tr th {\n",
              "        vertical-align: top;\n",
              "    }\n",
              "\n",
              "    .dataframe thead th {\n",
              "        text-align: right;\n",
              "    }\n",
              "</style>\n",
              "<table border=\"1\" class=\"dataframe\">\n",
              "  <thead>\n",
              "    <tr style=\"text-align: right;\">\n",
              "      <th></th>\n",
              "      <th>mem_id</th>\n",
              "      <th>mem_pw</th>\n",
              "      <th>mem_name</th>\n",
              "      <th>mem_addr</th>\n",
              "      <th>mem_phone</th>\n",
              "      <th>mem_purchase</th>\n",
              "      <th>mem_type</th>\n",
              "      <th>mem_joindate</th>\n",
              "    </tr>\n",
              "  </thead>\n",
              "  <tbody>\n",
              "    <tr>\n",
              "      <th>0</th>\n",
              "      <td>mem_id 0001</td>\n",
              "      <td>mem_pw 0001</td>\n",
              "      <td>mem_name 0001</td>\n",
              "      <td>mem_addr 0001</td>\n",
              "      <td>mem_phone 0001</td>\n",
              "      <td>N</td>\n",
              "      <td>N</td>\n",
              "      <td>2022-04-26 17:32:31</td>\n",
              "    </tr>\n",
              "    <tr>\n",
              "      <th>1</th>\n",
              "      <td>mem_id 0002</td>\n",
              "      <td>mem_pw 0002</td>\n",
              "      <td>mem_name 0002</td>\n",
              "      <td>mem_addr 0002</td>\n",
              "      <td>mem_phone 0002</td>\n",
              "      <td>N</td>\n",
              "      <td>N</td>\n",
              "      <td>2022-04-26 17:32:31</td>\n",
              "    </tr>\n",
              "    <tr>\n",
              "      <th>2</th>\n",
              "      <td>mem_id 0003</td>\n",
              "      <td>mem_pw 0003</td>\n",
              "      <td>mem_name 0003</td>\n",
              "      <td>mem_addr 0003</td>\n",
              "      <td>mem_phone 0003</td>\n",
              "      <td>N</td>\n",
              "      <td>N</td>\n",
              "      <td>2022-04-26 17:32:31</td>\n",
              "    </tr>\n",
              "    <tr>\n",
              "      <th>3</th>\n",
              "      <td>mem_id 0004</td>\n",
              "      <td>mem_pw 0004</td>\n",
              "      <td>mem_name 0004</td>\n",
              "      <td>mem_addr 0004</td>\n",
              "      <td>mem_phone 0004</td>\n",
              "      <td>N</td>\n",
              "      <td>N</td>\n",
              "      <td>2022-04-26 17:32:31</td>\n",
              "    </tr>\n",
              "    <tr>\n",
              "      <th>4</th>\n",
              "      <td>mem_id 0005</td>\n",
              "      <td>mem_pw 0005</td>\n",
              "      <td>mem_name 0005</td>\n",
              "      <td>mem_addr 0005</td>\n",
              "      <td>mem_phone 0005</td>\n",
              "      <td>N</td>\n",
              "      <td>N</td>\n",
              "      <td>2022-04-26 17:32:31</td>\n",
              "    </tr>\n",
              "    <tr>\n",
              "      <th>...</th>\n",
              "      <td>...</td>\n",
              "      <td>...</td>\n",
              "      <td>...</td>\n",
              "      <td>...</td>\n",
              "      <td>...</td>\n",
              "      <td>...</td>\n",
              "      <td>...</td>\n",
              "      <td>...</td>\n",
              "    </tr>\n",
              "    <tr>\n",
              "      <th>1102</th>\n",
              "      <td>mem_id 1103</td>\n",
              "      <td>mem_pw 1103</td>\n",
              "      <td>mem_name 1103</td>\n",
              "      <td>mem_addr 1103</td>\n",
              "      <td>mem_phone 1103</td>\n",
              "      <td>N</td>\n",
              "      <td>N</td>\n",
              "      <td>2022-08-07 17:32:00</td>\n",
              "    </tr>\n",
              "    <tr>\n",
              "      <th>1103</th>\n",
              "      <td>mem_id 1104</td>\n",
              "      <td>mem_pw 1104</td>\n",
              "      <td>mem_name 1104</td>\n",
              "      <td>mem_addr 1104</td>\n",
              "      <td>mem_phone 1104</td>\n",
              "      <td>N</td>\n",
              "      <td>N</td>\n",
              "      <td>2022-08-08 17:32:00</td>\n",
              "    </tr>\n",
              "    <tr>\n",
              "      <th>1104</th>\n",
              "      <td>mem_id 1105</td>\n",
              "      <td>mem_pw 1105</td>\n",
              "      <td>mem_name 1105</td>\n",
              "      <td>mem_addr 1105</td>\n",
              "      <td>mem_phone 1105</td>\n",
              "      <td>N</td>\n",
              "      <td>N</td>\n",
              "      <td>2022-08-09 17:32:00</td>\n",
              "    </tr>\n",
              "    <tr>\n",
              "      <th>1105</th>\n",
              "      <td>mem_id 1106</td>\n",
              "      <td>mem_pw 1106</td>\n",
              "      <td>mem_name 1106</td>\n",
              "      <td>mem_addr 1106</td>\n",
              "      <td>mem_phone 1106</td>\n",
              "      <td>N</td>\n",
              "      <td>N</td>\n",
              "      <td>2022-08-10 17:32:00</td>\n",
              "    </tr>\n",
              "    <tr>\n",
              "      <th>1106</th>\n",
              "      <td>mem_id 1107</td>\n",
              "      <td>mem_pw 1107</td>\n",
              "      <td>mem_name 1107</td>\n",
              "      <td>mem_addr 1107</td>\n",
              "      <td>mem_phone 1107</td>\n",
              "      <td>N</td>\n",
              "      <td>N</td>\n",
              "      <td>2022-08-11 17:32:00</td>\n",
              "    </tr>\n",
              "  </tbody>\n",
              "</table>\n",
              "<p>1107 rows × 8 columns</p>\n",
              "</div>\n",
              "      <button class=\"colab-df-convert\" onclick=\"convertToInteractive('df-1caa3f45-6f7e-4de4-b532-20c3b898d501')\"\n",
              "              title=\"Convert this dataframe to an interactive table.\"\n",
              "              style=\"display:none;\">\n",
              "        \n",
              "  <svg xmlns=\"http://www.w3.org/2000/svg\" height=\"24px\"viewBox=\"0 0 24 24\"\n",
              "       width=\"24px\">\n",
              "    <path d=\"M0 0h24v24H0V0z\" fill=\"none\"/>\n",
              "    <path d=\"M18.56 5.44l.94 2.06.94-2.06 2.06-.94-2.06-.94-.94-2.06-.94 2.06-2.06.94zm-11 1L8.5 8.5l.94-2.06 2.06-.94-2.06-.94L8.5 2.5l-.94 2.06-2.06.94zm10 10l.94 2.06.94-2.06 2.06-.94-2.06-.94-.94-2.06-.94 2.06-2.06.94z\"/><path d=\"M17.41 7.96l-1.37-1.37c-.4-.4-.92-.59-1.43-.59-.52 0-1.04.2-1.43.59L10.3 9.45l-7.72 7.72c-.78.78-.78 2.05 0 2.83L4 21.41c.39.39.9.59 1.41.59.51 0 1.02-.2 1.41-.59l7.78-7.78 2.81-2.81c.8-.78.8-2.07 0-2.86zM5.41 20L4 18.59l7.72-7.72 1.47 1.35L5.41 20z\"/>\n",
              "  </svg>\n",
              "      </button>\n",
              "      \n",
              "  <style>\n",
              "    .colab-df-container {\n",
              "      display:flex;\n",
              "      flex-wrap:wrap;\n",
              "      gap: 12px;\n",
              "    }\n",
              "\n",
              "    .colab-df-convert {\n",
              "      background-color: #E8F0FE;\n",
              "      border: none;\n",
              "      border-radius: 50%;\n",
              "      cursor: pointer;\n",
              "      display: none;\n",
              "      fill: #1967D2;\n",
              "      height: 32px;\n",
              "      padding: 0 0 0 0;\n",
              "      width: 32px;\n",
              "    }\n",
              "\n",
              "    .colab-df-convert:hover {\n",
              "      background-color: #E2EBFA;\n",
              "      box-shadow: 0px 1px 2px rgba(60, 64, 67, 0.3), 0px 1px 3px 1px rgba(60, 64, 67, 0.15);\n",
              "      fill: #174EA6;\n",
              "    }\n",
              "\n",
              "    [theme=dark] .colab-df-convert {\n",
              "      background-color: #3B4455;\n",
              "      fill: #D2E3FC;\n",
              "    }\n",
              "\n",
              "    [theme=dark] .colab-df-convert:hover {\n",
              "      background-color: #434B5C;\n",
              "      box-shadow: 0px 1px 3px 1px rgba(0, 0, 0, 0.15);\n",
              "      filter: drop-shadow(0px 1px 2px rgba(0, 0, 0, 0.3));\n",
              "      fill: #FFFFFF;\n",
              "    }\n",
              "  </style>\n",
              "\n",
              "      <script>\n",
              "        const buttonEl =\n",
              "          document.querySelector('#df-1caa3f45-6f7e-4de4-b532-20c3b898d501 button.colab-df-convert');\n",
              "        buttonEl.style.display =\n",
              "          google.colab.kernel.accessAllowed ? 'block' : 'none';\n",
              "\n",
              "        async function convertToInteractive(key) {\n",
              "          const element = document.querySelector('#df-1caa3f45-6f7e-4de4-b532-20c3b898d501');\n",
              "          const dataTable =\n",
              "            await google.colab.kernel.invokeFunction('convertToInteractive',\n",
              "                                                     [key], {});\n",
              "          if (!dataTable) return;\n",
              "\n",
              "          const docLinkHtml = 'Like what you see? Visit the ' +\n",
              "            '<a target=\"_blank\" href=https://colab.research.google.com/notebooks/data_table.ipynb>data table notebook</a>'\n",
              "            + ' to learn more about interactive tables.';\n",
              "          element.innerHTML = '';\n",
              "          dataTable['output_type'] = 'display_data';\n",
              "          await google.colab.output.renderOutput(dataTable, element);\n",
              "          const docLink = document.createElement('div');\n",
              "          docLink.innerHTML = docLinkHtml;\n",
              "          element.appendChild(docLink);\n",
              "        }\n",
              "      </script>\n",
              "    </div>\n",
              "  </div>\n",
              "  "
            ]
          },
          "metadata": {},
          "execution_count": 11
        }
      ]
    }
  ]
}