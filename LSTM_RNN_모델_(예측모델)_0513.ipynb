{
  "nbformat": 4,
  "nbformat_minor": 0,
  "metadata": {
    "colab": {
      "name": "LSTM / RNN 모델 (예측모델)_0513.ipynb",
      "provenance": [],
      "collapsed_sections": [],
      "authorship_tag": "ABX9TyPjeYzgyhNezlVwW/0F63Vt",
      "include_colab_link": true
    },
    "kernelspec": {
      "name": "python3",
      "display_name": "Python 3"
    },
    "language_info": {
      "name": "python"
    }
  },
  "cells": [
    {
      "cell_type": "markdown",
      "metadata": {
        "id": "view-in-github",
        "colab_type": "text"
      },
      "source": [
        "<a href=\"https://colab.research.google.com/github/wiiiiish/2022-machine_learning/blob/main/LSTM_RNN_%EB%AA%A8%EB%8D%B8_(%EC%98%88%EC%B8%A1%EB%AA%A8%EB%8D%B8)_0513.ipynb\" target=\"_parent\"><img src=\"https://colab.research.google.com/assets/colab-badge.svg\" alt=\"Open In Colab\"/></a>"
      ]
    },
    {
      "cell_type": "code",
      "source": [
        "from google.colab import drive\n",
        "drive.mount('/content/drive')"
      ],
      "metadata": {
        "colab": {
          "base_uri": "https://localhost:8080/"
        },
        "id": "XKWjitezHqto",
        "outputId": "85dd7677-3995-4884-d504-c184399d1499"
      },
      "execution_count": 2,
      "outputs": [
        {
          "output_type": "stream",
          "name": "stdout",
          "text": [
            "Mounted at /content/drive\n"
          ]
        }
      ]
    },
    {
      "cell_type": "code",
      "execution_count": 3,
      "metadata": {
        "colab": {
          "base_uri": "https://localhost:8080/"
        },
        "id": "Xan_CwbyHo0f",
        "outputId": "f94d77f3-7cc5-4d59-dcda-6a6c74ea9848"
      },
      "outputs": [
        {
          "output_type": "stream",
          "name": "stdout",
          "text": [
            "drive  sample_data\n"
          ]
        }
      ],
      "source": [
        "!ls"
      ]
    },
    {
      "cell_type": "code",
      "source": [
        "%cd drive/MyDrive/Colab\\ Notebooks/2022-05-13\\ 모델\\ 생성\\ 작업"
      ],
      "metadata": {
        "colab": {
          "base_uri": "https://localhost:8080/"
        },
        "id": "yKXdRdSWH6um",
        "outputId": "f8a8cf32-35d3-4d07-ec42-6c389987c231"
      },
      "execution_count": 4,
      "outputs": [
        {
          "output_type": "stream",
          "name": "stdout",
          "text": [
            "/content/drive/MyDrive/Colab Notebooks/2022-05-13 모델 생성 작업\n"
          ]
        }
      ]
    },
    {
      "cell_type": "code",
      "source": [
        "# import library\n",
        "import warnings\n",
        "import numpy as np\n",
        "import pandas as pd\n",
        "import matplotlib.pyplot as plt\n",
        "import tensorflow as tf\n",
        "import pickle\n",
        "\n",
        "from tensorflow.keras import optimizers\n",
        "from tensorflow.keras.utils import plot_model\n",
        "from tensorflow.keras.models import Sequential, Model\n",
        "from tensorflow.keras.layers import Conv1D, MaxPool1D\n",
        "from tensorflow.keras.layers import Dense, LSTM, RepeatVector, TimeDistributed, Flatten\n",
        "\n",
        "from sklearn.metrics import mean_squared_error\n",
        "from sklearn.model_selection import train_test_split\n",
        "\n",
        "import plotly.graph_objs as go\n",
        "from plotly.offline import init_notebook_mode, iplot\n",
        "\n",
        "%matplotlib inline\n",
        "warnings.filterwarnings(\"ignore\")\n",
        "init_notebook_mode(connected=True)\n",
        "\n",
        "# Set seeds to make the experiment more reprodecible\n",
        "from tensorflow.compat.v1 import set_random_seed\n",
        "from numpy.random import seed\n",
        "set_random_seed(1)\n",
        "seed(1)"
      ],
      "metadata": {
        "colab": {
          "base_uri": "https://localhost:8080/",
          "height": 17
        },
        "id": "ApwAgE4QICeM",
        "outputId": "171e95c6-330f-4b48-f4b0-48d5c45cd96f"
      },
      "execution_count": 5,
      "outputs": [
        {
          "output_type": "display_data",
          "data": {
            "text/html": [
              "        <script type=\"text/javascript\">\n",
              "        window.PlotlyConfig = {MathJaxConfig: 'local'};\n",
              "        if (window.MathJax) {MathJax.Hub.Config({SVG: {font: \"STIX-Web\"}});}\n",
              "        if (typeof require !== 'undefined') {\n",
              "        require.undef(\"plotly\");\n",
              "        requirejs.config({\n",
              "            paths: {\n",
              "                'plotly': ['https://cdn.plot.ly/plotly-2.8.3.min']\n",
              "            }\n",
              "        });\n",
              "        require(['plotly'], function(Plotly) {\n",
              "            window._Plotly = Plotly;\n",
              "        });\n",
              "        }\n",
              "        </script>\n",
              "        "
            ]
          },
          "metadata": {}
        }
      ]
    },
    {
      "cell_type": "code",
      "source": [
        "test_X = pd.read_csv('./data/new_X_test.csv', encoding='utf-8')\n",
        "test_y = pd.read_csv('./data/new_y_test.csv', encoding='utf-8')\n",
        "train_X = pd.read_csv('./data/new_X_train.csv', encoding='utf-8')\n",
        "train_y = pd.read_csv('./data/new_y_train.csv', encoding='utf-8')"
      ],
      "metadata": {
        "id": "EBHtc7o6IIa5"
      },
      "execution_count": 6,
      "outputs": []
    },
    {
      "cell_type": "code",
      "source": [
        "train_X = train_X.drop(train_X.columns[0], axis=1)\n",
        "train_X.iloc[360, :]"
      ],
      "metadata": {
        "colab": {
          "base_uri": "https://localhost:8080/"
        },
        "id": "mUWrESczIPwJ",
        "outputId": "e6f03f76-e24f-45c9-b693-07da290dc19a"
      },
      "execution_count": 7,
      "outputs": [
        {
          "output_type": "execute_result",
          "data": {
            "text/plain": [
              "temperature          19.619841\n",
              "precipitation         0.000000\n",
              "wind_speed            0.640395\n",
              "humidity             98.912399\n",
              "radiation             0.000000\n",
              "total_cloudiness      7.415161\n",
              "visibility          653.974524\n",
              "ground_temp          20.127291\n",
              "now_aod               0.000000\n",
              "before_hour_aod       0.000000\n",
              "Name: 360, dtype: float64"
            ]
          },
          "metadata": {},
          "execution_count": 7
        }
      ]
    },
    {
      "cell_type": "code",
      "source": [
        "train_y = train_y.drop(train_y.columns[0], axis=1)\n",
        "train_y"
      ],
      "metadata": {
        "colab": {
          "base_uri": "https://localhost:8080/",
          "height": 424
        },
        "id": "DADLqpEVIiaZ",
        "outputId": "b9703c28-0836-4929-94bb-d7767f4f1875"
      },
      "execution_count": 8,
      "outputs": [
        {
          "output_type": "execute_result",
          "data": {
            "text/plain": [
              "       aod\n",
              "0      0.0\n",
              "1      0.0\n",
              "2      0.0\n",
              "3      0.0\n",
              "4      0.0\n",
              "...    ...\n",
              "68756  0.0\n",
              "68757  0.0\n",
              "68758  0.0\n",
              "68759  0.0\n",
              "68760  0.0\n",
              "\n",
              "[68761 rows x 1 columns]"
            ],
            "text/html": [
              "\n",
              "  <div id=\"df-b9fcbe19-d855-4570-9603-1bf83258deca\">\n",
              "    <div class=\"colab-df-container\">\n",
              "      <div>\n",
              "<style scoped>\n",
              "    .dataframe tbody tr th:only-of-type {\n",
              "        vertical-align: middle;\n",
              "    }\n",
              "\n",
              "    .dataframe tbody tr th {\n",
              "        vertical-align: top;\n",
              "    }\n",
              "\n",
              "    .dataframe thead th {\n",
              "        text-align: right;\n",
              "    }\n",
              "</style>\n",
              "<table border=\"1\" class=\"dataframe\">\n",
              "  <thead>\n",
              "    <tr style=\"text-align: right;\">\n",
              "      <th></th>\n",
              "      <th>aod</th>\n",
              "    </tr>\n",
              "  </thead>\n",
              "  <tbody>\n",
              "    <tr>\n",
              "      <th>0</th>\n",
              "      <td>0.0</td>\n",
              "    </tr>\n",
              "    <tr>\n",
              "      <th>1</th>\n",
              "      <td>0.0</td>\n",
              "    </tr>\n",
              "    <tr>\n",
              "      <th>2</th>\n",
              "      <td>0.0</td>\n",
              "    </tr>\n",
              "    <tr>\n",
              "      <th>3</th>\n",
              "      <td>0.0</td>\n",
              "    </tr>\n",
              "    <tr>\n",
              "      <th>4</th>\n",
              "      <td>0.0</td>\n",
              "    </tr>\n",
              "    <tr>\n",
              "      <th>...</th>\n",
              "      <td>...</td>\n",
              "    </tr>\n",
              "    <tr>\n",
              "      <th>68756</th>\n",
              "      <td>0.0</td>\n",
              "    </tr>\n",
              "    <tr>\n",
              "      <th>68757</th>\n",
              "      <td>0.0</td>\n",
              "    </tr>\n",
              "    <tr>\n",
              "      <th>68758</th>\n",
              "      <td>0.0</td>\n",
              "    </tr>\n",
              "    <tr>\n",
              "      <th>68759</th>\n",
              "      <td>0.0</td>\n",
              "    </tr>\n",
              "    <tr>\n",
              "      <th>68760</th>\n",
              "      <td>0.0</td>\n",
              "    </tr>\n",
              "  </tbody>\n",
              "</table>\n",
              "<p>68761 rows × 1 columns</p>\n",
              "</div>\n",
              "      <button class=\"colab-df-convert\" onclick=\"convertToInteractive('df-b9fcbe19-d855-4570-9603-1bf83258deca')\"\n",
              "              title=\"Convert this dataframe to an interactive table.\"\n",
              "              style=\"display:none;\">\n",
              "        \n",
              "  <svg xmlns=\"http://www.w3.org/2000/svg\" height=\"24px\"viewBox=\"0 0 24 24\"\n",
              "       width=\"24px\">\n",
              "    <path d=\"M0 0h24v24H0V0z\" fill=\"none\"/>\n",
              "    <path d=\"M18.56 5.44l.94 2.06.94-2.06 2.06-.94-2.06-.94-.94-2.06-.94 2.06-2.06.94zm-11 1L8.5 8.5l.94-2.06 2.06-.94-2.06-.94L8.5 2.5l-.94 2.06-2.06.94zm10 10l.94 2.06.94-2.06 2.06-.94-2.06-.94-.94-2.06-.94 2.06-2.06.94z\"/><path d=\"M17.41 7.96l-1.37-1.37c-.4-.4-.92-.59-1.43-.59-.52 0-1.04.2-1.43.59L10.3 9.45l-7.72 7.72c-.78.78-.78 2.05 0 2.83L4 21.41c.39.39.9.59 1.41.59.51 0 1.02-.2 1.41-.59l7.78-7.78 2.81-2.81c.8-.78.8-2.07 0-2.86zM5.41 20L4 18.59l7.72-7.72 1.47 1.35L5.41 20z\"/>\n",
              "  </svg>\n",
              "      </button>\n",
              "      \n",
              "  <style>\n",
              "    .colab-df-container {\n",
              "      display:flex;\n",
              "      flex-wrap:wrap;\n",
              "      gap: 12px;\n",
              "    }\n",
              "\n",
              "    .colab-df-convert {\n",
              "      background-color: #E8F0FE;\n",
              "      border: none;\n",
              "      border-radius: 50%;\n",
              "      cursor: pointer;\n",
              "      display: none;\n",
              "      fill: #1967D2;\n",
              "      height: 32px;\n",
              "      padding: 0 0 0 0;\n",
              "      width: 32px;\n",
              "    }\n",
              "\n",
              "    .colab-df-convert:hover {\n",
              "      background-color: #E2EBFA;\n",
              "      box-shadow: 0px 1px 2px rgba(60, 64, 67, 0.3), 0px 1px 3px 1px rgba(60, 64, 67, 0.15);\n",
              "      fill: #174EA6;\n",
              "    }\n",
              "\n",
              "    [theme=dark] .colab-df-convert {\n",
              "      background-color: #3B4455;\n",
              "      fill: #D2E3FC;\n",
              "    }\n",
              "\n",
              "    [theme=dark] .colab-df-convert:hover {\n",
              "      background-color: #434B5C;\n",
              "      box-shadow: 0px 1px 3px 1px rgba(0, 0, 0, 0.15);\n",
              "      filter: drop-shadow(0px 1px 2px rgba(0, 0, 0, 0.3));\n",
              "      fill: #FFFFFF;\n",
              "    }\n",
              "  </style>\n",
              "\n",
              "      <script>\n",
              "        const buttonEl =\n",
              "          document.querySelector('#df-b9fcbe19-d855-4570-9603-1bf83258deca button.colab-df-convert');\n",
              "        buttonEl.style.display =\n",
              "          google.colab.kernel.accessAllowed ? 'block' : 'none';\n",
              "\n",
              "        async function convertToInteractive(key) {\n",
              "          const element = document.querySelector('#df-b9fcbe19-d855-4570-9603-1bf83258deca');\n",
              "          const dataTable =\n",
              "            await google.colab.kernel.invokeFunction('convertToInteractive',\n",
              "                                                     [key], {});\n",
              "          if (!dataTable) return;\n",
              "\n",
              "          const docLinkHtml = 'Like what you see? Visit the ' +\n",
              "            '<a target=\"_blank\" href=https://colab.research.google.com/notebooks/data_table.ipynb>data table notebook</a>'\n",
              "            + ' to learn more about interactive tables.';\n",
              "          element.innerHTML = '';\n",
              "          dataTable['output_type'] = 'display_data';\n",
              "          await google.colab.output.renderOutput(dataTable, element);\n",
              "          const docLink = document.createElement('div');\n",
              "          docLink.innerHTML = docLinkHtml;\n",
              "          element.appendChild(docLink);\n",
              "        }\n",
              "      </script>\n",
              "    </div>\n",
              "  </div>\n",
              "  "
            ]
          },
          "metadata": {},
          "execution_count": 8
        }
      ]
    },
    {
      "cell_type": "code",
      "source": [
        "X = np.array(train_X)\n",
        "X"
      ],
      "metadata": {
        "colab": {
          "base_uri": "https://localhost:8080/"
        },
        "id": "9pAFHVU0IuVa",
        "outputId": "907653aa-0044-4b23-a9d9-ebcb78afe9ee"
      },
      "execution_count": 9,
      "outputs": [
        {
          "output_type": "execute_result",
          "data": {
            "text/plain": [
              "array([[19.86437382,  0.        ,  0.82248939, ..., 20.42906155,\n",
              "         0.        ,  0.        ],\n",
              "       [19.90810568,  0.        ,  0.88339129, ..., 20.59108412,\n",
              "         0.        ,  0.        ],\n",
              "       [20.02728917,  0.        ,  0.82892439, ..., 20.36515904,\n",
              "         0.        ,  0.        ],\n",
              "       ...,\n",
              "       [18.92308743,  0.1249926 ,  0.02801933, ..., 20.53924102,\n",
              "         0.        ,  0.        ],\n",
              "       [18.92818522,  0.03832407,  0.08725535, ..., 20.66934907,\n",
              "         0.        ,  0.        ],\n",
              "       [18.87309267,  0.24493077,  0.67007258, ..., 20.51350591,\n",
              "         0.        ,  0.        ]])"
            ]
          },
          "metadata": {},
          "execution_count": 9
        }
      ]
    },
    {
      "cell_type": "code",
      "source": [
        "X.shape"
      ],
      "metadata": {
        "colab": {
          "base_uri": "https://localhost:8080/"
        },
        "id": "1R_LDxWOIxfO",
        "outputId": "8d13ffa6-0bc9-4d4d-ce02-a79fbb329ec8"
      },
      "execution_count": 10,
      "outputs": [
        {
          "output_type": "execute_result",
          "data": {
            "text/plain": [
              "(68761, 10)"
            ]
          },
          "metadata": {},
          "execution_count": 10
        }
      ]
    },
    {
      "cell_type": "code",
      "source": [
        "temp = []\n",
        "for i in range(len(X)-360):\n",
        "  for j in range(360):\n",
        "    temp.append(X[i+j])\n",
        "train_data = np.array(temp)\n",
        "train_data.shape"
      ],
      "metadata": {
        "colab": {
          "base_uri": "https://localhost:8080/"
        },
        "id": "D0Ys_VbDIz09",
        "outputId": "64c4137d-c823-434e-9430-e0b08a3838a3"
      },
      "execution_count": 11,
      "outputs": [
        {
          "output_type": "execute_result",
          "data": {
            "text/plain": [
              "(24624360, 10)"
            ]
          },
          "metadata": {},
          "execution_count": 11
        }
      ]
    },
    {
      "cell_type": "code",
      "source": [
        "X_train = train_data.reshape(68401,360,10)\n",
        "X_train.shape"
      ],
      "metadata": {
        "colab": {
          "base_uri": "https://localhost:8080/"
        },
        "id": "1kK5f33bI3YD",
        "outputId": "6500a3d6-9884-414a-898d-253271f1aa3e"
      },
      "execution_count": 12,
      "outputs": [
        {
          "output_type": "execute_result",
          "data": {
            "text/plain": [
              "(68401, 360, 10)"
            ]
          },
          "metadata": {},
          "execution_count": 12
        }
      ]
    },
    {
      "cell_type": "code",
      "source": [
        "y = train_y.iloc[360:, :]\n",
        "y"
      ],
      "metadata": {
        "colab": {
          "base_uri": "https://localhost:8080/",
          "height": 424
        },
        "id": "bR-B5_sBJAeF",
        "outputId": "402e1d63-12d6-4cf5-ae11-2d4ec69366ed"
      },
      "execution_count": 13,
      "outputs": [
        {
          "output_type": "execute_result",
          "data": {
            "text/plain": [
              "       aod\n",
              "360    0.0\n",
              "361    0.0\n",
              "362    0.0\n",
              "363    0.0\n",
              "364    0.0\n",
              "...    ...\n",
              "68756  0.0\n",
              "68757  0.0\n",
              "68758  0.0\n",
              "68759  0.0\n",
              "68760  0.0\n",
              "\n",
              "[68401 rows x 1 columns]"
            ],
            "text/html": [
              "\n",
              "  <div id=\"df-0595110c-f142-44a7-893b-8e4f51bb9c8e\">\n",
              "    <div class=\"colab-df-container\">\n",
              "      <div>\n",
              "<style scoped>\n",
              "    .dataframe tbody tr th:only-of-type {\n",
              "        vertical-align: middle;\n",
              "    }\n",
              "\n",
              "    .dataframe tbody tr th {\n",
              "        vertical-align: top;\n",
              "    }\n",
              "\n",
              "    .dataframe thead th {\n",
              "        text-align: right;\n",
              "    }\n",
              "</style>\n",
              "<table border=\"1\" class=\"dataframe\">\n",
              "  <thead>\n",
              "    <tr style=\"text-align: right;\">\n",
              "      <th></th>\n",
              "      <th>aod</th>\n",
              "    </tr>\n",
              "  </thead>\n",
              "  <tbody>\n",
              "    <tr>\n",
              "      <th>360</th>\n",
              "      <td>0.0</td>\n",
              "    </tr>\n",
              "    <tr>\n",
              "      <th>361</th>\n",
              "      <td>0.0</td>\n",
              "    </tr>\n",
              "    <tr>\n",
              "      <th>362</th>\n",
              "      <td>0.0</td>\n",
              "    </tr>\n",
              "    <tr>\n",
              "      <th>363</th>\n",
              "      <td>0.0</td>\n",
              "    </tr>\n",
              "    <tr>\n",
              "      <th>364</th>\n",
              "      <td>0.0</td>\n",
              "    </tr>\n",
              "    <tr>\n",
              "      <th>...</th>\n",
              "      <td>...</td>\n",
              "    </tr>\n",
              "    <tr>\n",
              "      <th>68756</th>\n",
              "      <td>0.0</td>\n",
              "    </tr>\n",
              "    <tr>\n",
              "      <th>68757</th>\n",
              "      <td>0.0</td>\n",
              "    </tr>\n",
              "    <tr>\n",
              "      <th>68758</th>\n",
              "      <td>0.0</td>\n",
              "    </tr>\n",
              "    <tr>\n",
              "      <th>68759</th>\n",
              "      <td>0.0</td>\n",
              "    </tr>\n",
              "    <tr>\n",
              "      <th>68760</th>\n",
              "      <td>0.0</td>\n",
              "    </tr>\n",
              "  </tbody>\n",
              "</table>\n",
              "<p>68401 rows × 1 columns</p>\n",
              "</div>\n",
              "      <button class=\"colab-df-convert\" onclick=\"convertToInteractive('df-0595110c-f142-44a7-893b-8e4f51bb9c8e')\"\n",
              "              title=\"Convert this dataframe to an interactive table.\"\n",
              "              style=\"display:none;\">\n",
              "        \n",
              "  <svg xmlns=\"http://www.w3.org/2000/svg\" height=\"24px\"viewBox=\"0 0 24 24\"\n",
              "       width=\"24px\">\n",
              "    <path d=\"M0 0h24v24H0V0z\" fill=\"none\"/>\n",
              "    <path d=\"M18.56 5.44l.94 2.06.94-2.06 2.06-.94-2.06-.94-.94-2.06-.94 2.06-2.06.94zm-11 1L8.5 8.5l.94-2.06 2.06-.94-2.06-.94L8.5 2.5l-.94 2.06-2.06.94zm10 10l.94 2.06.94-2.06 2.06-.94-2.06-.94-.94-2.06-.94 2.06-2.06.94z\"/><path d=\"M17.41 7.96l-1.37-1.37c-.4-.4-.92-.59-1.43-.59-.52 0-1.04.2-1.43.59L10.3 9.45l-7.72 7.72c-.78.78-.78 2.05 0 2.83L4 21.41c.39.39.9.59 1.41.59.51 0 1.02-.2 1.41-.59l7.78-7.78 2.81-2.81c.8-.78.8-2.07 0-2.86zM5.41 20L4 18.59l7.72-7.72 1.47 1.35L5.41 20z\"/>\n",
              "  </svg>\n",
              "      </button>\n",
              "      \n",
              "  <style>\n",
              "    .colab-df-container {\n",
              "      display:flex;\n",
              "      flex-wrap:wrap;\n",
              "      gap: 12px;\n",
              "    }\n",
              "\n",
              "    .colab-df-convert {\n",
              "      background-color: #E8F0FE;\n",
              "      border: none;\n",
              "      border-radius: 50%;\n",
              "      cursor: pointer;\n",
              "      display: none;\n",
              "      fill: #1967D2;\n",
              "      height: 32px;\n",
              "      padding: 0 0 0 0;\n",
              "      width: 32px;\n",
              "    }\n",
              "\n",
              "    .colab-df-convert:hover {\n",
              "      background-color: #E2EBFA;\n",
              "      box-shadow: 0px 1px 2px rgba(60, 64, 67, 0.3), 0px 1px 3px 1px rgba(60, 64, 67, 0.15);\n",
              "      fill: #174EA6;\n",
              "    }\n",
              "\n",
              "    [theme=dark] .colab-df-convert {\n",
              "      background-color: #3B4455;\n",
              "      fill: #D2E3FC;\n",
              "    }\n",
              "\n",
              "    [theme=dark] .colab-df-convert:hover {\n",
              "      background-color: #434B5C;\n",
              "      box-shadow: 0px 1px 3px 1px rgba(0, 0, 0, 0.15);\n",
              "      filter: drop-shadow(0px 1px 2px rgba(0, 0, 0, 0.3));\n",
              "      fill: #FFFFFF;\n",
              "    }\n",
              "  </style>\n",
              "\n",
              "      <script>\n",
              "        const buttonEl =\n",
              "          document.querySelector('#df-0595110c-f142-44a7-893b-8e4f51bb9c8e button.colab-df-convert');\n",
              "        buttonEl.style.display =\n",
              "          google.colab.kernel.accessAllowed ? 'block' : 'none';\n",
              "\n",
              "        async function convertToInteractive(key) {\n",
              "          const element = document.querySelector('#df-0595110c-f142-44a7-893b-8e4f51bb9c8e');\n",
              "          const dataTable =\n",
              "            await google.colab.kernel.invokeFunction('convertToInteractive',\n",
              "                                                     [key], {});\n",
              "          if (!dataTable) return;\n",
              "\n",
              "          const docLinkHtml = 'Like what you see? Visit the ' +\n",
              "            '<a target=\"_blank\" href=https://colab.research.google.com/notebooks/data_table.ipynb>data table notebook</a>'\n",
              "            + ' to learn more about interactive tables.';\n",
              "          element.innerHTML = '';\n",
              "          dataTable['output_type'] = 'display_data';\n",
              "          await google.colab.output.renderOutput(dataTable, element);\n",
              "          const docLink = document.createElement('div');\n",
              "          docLink.innerHTML = docLinkHtml;\n",
              "          element.appendChild(docLink);\n",
              "        }\n",
              "      </script>\n",
              "    </div>\n",
              "  </div>\n",
              "  "
            ]
          },
          "metadata": {},
          "execution_count": 13
        }
      ]
    },
    {
      "cell_type": "code",
      "source": [
        "y_train = np.array(y)\n",
        "print(y_train.shape)\n",
        "y_train"
      ],
      "metadata": {
        "colab": {
          "base_uri": "https://localhost:8080/"
        },
        "id": "DBwyZ4xlJC3e",
        "outputId": "d1d38b7a-4b34-4ee1-fff1-880e0193498e"
      },
      "execution_count": 14,
      "outputs": [
        {
          "output_type": "stream",
          "name": "stdout",
          "text": [
            "(68401, 1)\n"
          ]
        },
        {
          "output_type": "execute_result",
          "data": {
            "text/plain": [
              "array([[0.],\n",
              "       [0.],\n",
              "       [0.],\n",
              "       ...,\n",
              "       [0.],\n",
              "       [0.],\n",
              "       [0.]])"
            ]
          },
          "metadata": {},
          "execution_count": 14
        }
      ]
    },
    {
      "cell_type": "code",
      "source": [
        "adam = tf.keras.optimizers.Adam(learning_rate = 0.0001)\n",
        "SGD = tf.keras.optimizers.SGD(learning_rate = 0.0001)\n",
        "rmsprop = tf.keras.optimizers.RMSprop(learning_rate = 0.0001)"
      ],
      "metadata": {
        "id": "I8AgECOT-K0L"
      },
      "execution_count": 15,
      "outputs": []
    },
    {
      "cell_type": "code",
      "source": [
        "model_lstm_v2 = Sequential()\n",
        "model_lstm_v2.add(LSTM(50, activation='tanh', input_shape=(360, 10)))\n",
        "model_lstm_v2.add(Dense(10))\n",
        "model_lstm_v2.add(Dense(5))\n",
        "model_lstm_v2.add(Dense(1))\n",
        "model_lstm_v2.compile(loss='mae', optimizer=adam, metrics=['mae'])"
      ],
      "metadata": {
        "id": "poMt93ZAJFSI"
      },
      "execution_count": null,
      "outputs": []
    },
    {
      "cell_type": "code",
      "source": [
        "model_lstm_v2.fit(X_train,y_train,epochs = 100)"
      ],
      "metadata": {
        "colab": {
          "base_uri": "https://localhost:8080/"
        },
        "id": "wQUy1PQLJQZU",
        "outputId": "29c78355-6347-4bd0-f8de-dfe187e19b91"
      },
      "execution_count": null,
      "outputs": [
        {
          "output_type": "stream",
          "name": "stdout",
          "text": [
            "Epoch 1/100\n",
            "2138/2138 [==============================] - 201s 93ms/step - loss: 135.7168 - mae: 135.7168\n",
            "Epoch 2/100\n",
            "2138/2138 [==============================] - 197s 92ms/step - loss: 65.9342 - mae: 65.9342\n",
            "Epoch 3/100\n",
            "2138/2138 [==============================] - 197s 92ms/step - loss: 34.6856 - mae: 34.6856\n",
            "Epoch 4/100\n",
            "2138/2138 [==============================] - 198s 93ms/step - loss: 29.1682 - mae: 29.1682\n",
            "Epoch 5/100\n",
            "2138/2138 [==============================] - 199s 93ms/step - loss: 27.1540 - mae: 27.1540\n",
            "Epoch 6/100\n",
            "2138/2138 [==============================] - 198s 93ms/step - loss: 25.8466 - mae: 25.8466\n",
            "Epoch 7/100\n",
            "2138/2138 [==============================] - 198s 93ms/step - loss: 25.0925 - mae: 25.0925\n",
            "Epoch 8/100\n",
            "2138/2138 [==============================] - 199s 93ms/step - loss: 24.2699 - mae: 24.2699\n",
            "Epoch 9/100\n",
            "2138/2138 [==============================] - 200s 94ms/step - loss: 23.6506 - mae: 23.6506\n",
            "Epoch 10/100\n",
            "2138/2138 [==============================] - 200s 94ms/step - loss: 22.9683 - mae: 22.9683\n",
            "Epoch 11/100\n",
            "2138/2138 [==============================] - 200s 94ms/step - loss: 22.1614 - mae: 22.1614\n",
            "Epoch 12/100\n",
            "2138/2138 [==============================] - 199s 93ms/step - loss: 21.5079 - mae: 21.5079\n",
            "Epoch 13/100\n",
            "2138/2138 [==============================] - 199s 93ms/step - loss: 21.3044 - mae: 21.3044\n",
            "Epoch 14/100\n",
            "2138/2138 [==============================] - 199s 93ms/step - loss: 21.0157 - mae: 21.0157\n",
            "Epoch 15/100\n",
            "2138/2138 [==============================] - 199s 93ms/step - loss: 20.4060 - mae: 20.4060\n",
            "Epoch 16/100\n",
            "2138/2138 [==============================] - 197s 92ms/step - loss: 19.5414 - mae: 19.5414\n",
            "Epoch 17/100\n",
            "2138/2138 [==============================] - 198s 93ms/step - loss: 18.8470 - mae: 18.8470\n",
            "Epoch 18/100\n",
            "2138/2138 [==============================] - 198s 93ms/step - loss: 18.7258 - mae: 18.7258\n",
            "Epoch 19/100\n",
            "2138/2138 [==============================] - 198s 93ms/step - loss: 18.3773 - mae: 18.3773\n",
            "Epoch 20/100\n",
            "2138/2138 [==============================] - 198s 93ms/step - loss: 17.8677 - mae: 17.8677\n",
            "Epoch 21/100\n",
            "2138/2138 [==============================] - 198s 92ms/step - loss: 17.8058 - mae: 17.8058\n",
            "Epoch 22/100\n",
            "2138/2138 [==============================] - 197s 92ms/step - loss: 17.2664 - mae: 17.2664\n",
            "Epoch 23/100\n",
            "2138/2138 [==============================] - 197s 92ms/step - loss: 16.9546 - mae: 16.9546\n",
            "Epoch 24/100\n",
            "2138/2138 [==============================] - 198s 93ms/step - loss: 16.7011 - mae: 16.7011\n",
            "Epoch 25/100\n",
            "2138/2138 [==============================] - 198s 92ms/step - loss: 16.4625 - mae: 16.4625\n",
            "Epoch 26/100\n",
            "2138/2138 [==============================] - 197s 92ms/step - loss: 16.1984 - mae: 16.1984\n",
            "Epoch 27/100\n",
            "2138/2138 [==============================] - 198s 93ms/step - loss: 16.1529 - mae: 16.1529\n",
            "Epoch 28/100\n",
            "2138/2138 [==============================] - 198s 92ms/step - loss: 16.0196 - mae: 16.0196\n",
            "Epoch 29/100\n",
            "2138/2138 [==============================] - 198s 93ms/step - loss: 15.7793 - mae: 15.7793\n",
            "Epoch 30/100\n",
            "2138/2138 [==============================] - 198s 93ms/step - loss: 15.7887 - mae: 15.7887\n",
            "Epoch 31/100\n",
            "2138/2138 [==============================] - 198s 92ms/step - loss: 15.6158 - mae: 15.6158\n",
            "Epoch 32/100\n",
            "2138/2138 [==============================] - 198s 93ms/step - loss: 15.4185 - mae: 15.4185\n",
            "Epoch 33/100\n",
            "2138/2138 [==============================] - 197s 92ms/step - loss: 15.3031 - mae: 15.3031\n",
            "Epoch 34/100\n",
            "2138/2138 [==============================] - 198s 92ms/step - loss: 15.0576 - mae: 15.0576\n",
            "Epoch 35/100\n",
            "2138/2138 [==============================] - 198s 93ms/step - loss: 14.9894 - mae: 14.9894\n",
            "Epoch 36/100\n",
            "2138/2138 [==============================] - 198s 93ms/step - loss: 14.8662 - mae: 14.8662\n",
            "Epoch 37/100\n",
            "2138/2138 [==============================] - 211s 99ms/step - loss: 14.7050 - mae: 14.7050\n",
            "Epoch 38/100\n",
            "2138/2138 [==============================] - 198s 93ms/step - loss: 14.6073 - mae: 14.6073\n",
            "Epoch 39/100\n",
            "2138/2138 [==============================] - 198s 93ms/step - loss: 14.4715 - mae: 14.4715\n",
            "Epoch 40/100\n",
            "2138/2138 [==============================] - 202s 95ms/step - loss: 14.3812 - mae: 14.3812\n",
            "Epoch 41/100\n",
            "2138/2138 [==============================] - 201s 94ms/step - loss: 14.2311 - mae: 14.2311\n",
            "Epoch 42/100\n",
            "2138/2138 [==============================] - 203s 95ms/step - loss: 14.1799 - mae: 14.1799\n",
            "Epoch 43/100\n",
            "2138/2138 [==============================] - 202s 94ms/step - loss: 14.0432 - mae: 14.0432\n",
            "Epoch 44/100\n",
            "2138/2138 [==============================] - 201s 94ms/step - loss: 13.9036 - mae: 13.9036\n",
            "Epoch 45/100\n",
            "2138/2138 [==============================] - 203s 95ms/step - loss: 13.8210 - mae: 13.8210\n",
            "Epoch 46/100\n",
            "2138/2138 [==============================] - 202s 94ms/step - loss: 13.7322 - mae: 13.7322\n",
            "Epoch 47/100\n",
            "2138/2138 [==============================] - 198s 93ms/step - loss: 13.6025 - mae: 13.6025\n",
            "Epoch 48/100\n",
            "2138/2138 [==============================] - 198s 93ms/step - loss: 13.7226 - mae: 13.7226\n",
            "Epoch 49/100\n",
            "2138/2138 [==============================] - 200s 93ms/step - loss: 13.4314 - mae: 13.4314\n",
            "Epoch 50/100\n",
            "2138/2138 [==============================] - 201s 94ms/step - loss: 13.3340 - mae: 13.3340\n",
            "Epoch 51/100\n",
            "2138/2138 [==============================] - 201s 94ms/step - loss: 13.2761 - mae: 13.2761\n",
            "Epoch 52/100\n",
            "2138/2138 [==============================] - 201s 94ms/step - loss: 13.2386 - mae: 13.2386\n",
            "Epoch 53/100\n",
            "2138/2138 [==============================] - 202s 94ms/step - loss: 13.2008 - mae: 13.2008\n",
            "Epoch 54/100\n",
            "2138/2138 [==============================] - 202s 95ms/step - loss: 13.1268 - mae: 13.1268\n",
            "Epoch 55/100\n",
            "2138/2138 [==============================] - 203s 95ms/step - loss: 13.0939 - mae: 13.0939\n",
            "Epoch 56/100\n",
            "2138/2138 [==============================] - 201s 94ms/step - loss: 13.1208 - mae: 13.1208\n",
            "Epoch 57/100\n",
            "2138/2138 [==============================] - 202s 94ms/step - loss: 12.8904 - mae: 12.8904\n",
            "Epoch 58/100\n",
            "2138/2138 [==============================] - 201s 94ms/step - loss: 12.8662 - mae: 12.8662\n",
            "Epoch 59/100\n",
            "2138/2138 [==============================] - 201s 94ms/step - loss: 12.7357 - mae: 12.7357\n",
            "Epoch 60/100\n",
            "2138/2138 [==============================] - 201s 94ms/step - loss: 12.6001 - mae: 12.6001\n",
            "Epoch 61/100\n",
            "2138/2138 [==============================] - 201s 94ms/step - loss: 12.5305 - mae: 12.5305\n",
            "Epoch 62/100\n",
            "2138/2138 [==============================] - 202s 95ms/step - loss: 12.5280 - mae: 12.5280\n",
            "Epoch 63/100\n",
            "2138/2138 [==============================] - 198s 93ms/step - loss: 12.4709 - mae: 12.4709\n",
            "Epoch 64/100\n",
            "2138/2138 [==============================] - 197s 92ms/step - loss: 12.3411 - mae: 12.3411\n",
            "Epoch 65/100\n",
            "2138/2138 [==============================] - 195s 91ms/step - loss: 12.2921 - mae: 12.2921\n",
            "Epoch 66/100\n",
            "2138/2138 [==============================] - 197s 92ms/step - loss: 12.5472 - mae: 12.5472\n",
            "Epoch 67/100\n",
            "2138/2138 [==============================] - 198s 93ms/step - loss: 12.4391 - mae: 12.4391\n",
            "Epoch 68/100\n",
            "2138/2138 [==============================] - 198s 92ms/step - loss: 12.1072 - mae: 12.1072\n",
            "Epoch 69/100\n",
            "2138/2138 [==============================] - 197s 92ms/step - loss: 12.2191 - mae: 12.2191\n",
            "Epoch 70/100\n",
            "2138/2138 [==============================] - 197s 92ms/step - loss: 12.1750 - mae: 12.1750\n",
            "Epoch 71/100\n",
            "2138/2138 [==============================] - 199s 93ms/step - loss: 11.9816 - mae: 11.9816\n",
            "Epoch 72/100\n",
            "2138/2138 [==============================] - 196s 92ms/step - loss: 12.1240 - mae: 12.1240\n",
            "Epoch 73/100\n",
            "2138/2138 [==============================] - 196s 92ms/step - loss: 11.9645 - mae: 11.9645\n",
            "Epoch 74/100\n",
            "2138/2138 [==============================] - 199s 93ms/step - loss: 11.8647 - mae: 11.8647\n",
            "Epoch 75/100\n",
            "2138/2138 [==============================] - 202s 94ms/step - loss: 11.6628 - mae: 11.6628\n",
            "Epoch 76/100\n",
            "2138/2138 [==============================] - 201s 94ms/step - loss: 11.9167 - mae: 11.9167\n",
            "Epoch 77/100\n",
            "2138/2138 [==============================] - 203s 95ms/step - loss: 11.6359 - mae: 11.6359\n",
            "Epoch 78/100\n",
            "2138/2138 [==============================] - 203s 95ms/step - loss: 11.6913 - mae: 11.6913\n",
            "Epoch 79/100\n",
            "2138/2138 [==============================] - 203s 95ms/step - loss: 11.5218 - mae: 11.5218\n",
            "Epoch 80/100\n",
            "2138/2138 [==============================] - 202s 94ms/step - loss: 11.6244 - mae: 11.6244\n",
            "Epoch 81/100\n",
            "2138/2138 [==============================] - 204s 95ms/step - loss: 11.5591 - mae: 11.5591\n",
            "Epoch 82/100\n",
            "2138/2138 [==============================] - 203s 95ms/step - loss: 11.4496 - mae: 11.4496\n",
            "Epoch 83/100\n",
            "2138/2138 [==============================] - 204s 95ms/step - loss: 11.3899 - mae: 11.3899\n",
            "Epoch 84/100\n",
            "2138/2138 [==============================] - 204s 96ms/step - loss: 11.2642 - mae: 11.2642\n",
            "Epoch 85/100\n",
            "2138/2138 [==============================] - 204s 95ms/step - loss: 11.2000 - mae: 11.2000\n",
            "Epoch 86/100\n",
            "2138/2138 [==============================] - 204s 95ms/step - loss: 11.1737 - mae: 11.1737\n",
            "Epoch 87/100\n",
            "2138/2138 [==============================] - 204s 95ms/step - loss: 11.1171 - mae: 11.1171\n",
            "Epoch 88/100\n",
            "2138/2138 [==============================] - 204s 95ms/step - loss: 11.1331 - mae: 11.1331\n",
            "Epoch 89/100\n",
            "2138/2138 [==============================] - 203s 95ms/step - loss: 11.2715 - mae: 11.2715\n",
            "Epoch 90/100\n",
            "2138/2138 [==============================] - 204s 95ms/step - loss: 11.0275 - mae: 11.0275\n",
            "Epoch 91/100\n",
            "2138/2138 [==============================] - 203s 95ms/step - loss: 11.0298 - mae: 11.0298\n",
            "Epoch 92/100\n",
            "2138/2138 [==============================] - 203s 95ms/step - loss: 11.0724 - mae: 11.0724\n",
            "Epoch 93/100\n",
            "2138/2138 [==============================] - 204s 95ms/step - loss: 11.0345 - mae: 11.0345\n",
            "Epoch 94/100\n",
            "2138/2138 [==============================] - 203s 95ms/step - loss: 10.9055 - mae: 10.9055\n",
            "Epoch 95/100\n",
            "2138/2138 [==============================] - 203s 95ms/step - loss: 11.0656 - mae: 11.0656\n",
            "Epoch 96/100\n",
            "2138/2138 [==============================] - 204s 95ms/step - loss: 10.8230 - mae: 10.8230\n",
            "Epoch 97/100\n",
            "2138/2138 [==============================] - 204s 95ms/step - loss: 11.0037 - mae: 11.0037\n",
            "Epoch 98/100\n",
            "2138/2138 [==============================] - 203s 95ms/step - loss: 10.9300 - mae: 10.9300\n",
            "Epoch 99/100\n",
            "2138/2138 [==============================] - 203s 95ms/step - loss: 10.8435 - mae: 10.8435\n",
            "Epoch 100/100\n",
            "2138/2138 [==============================] - 203s 95ms/step - loss: 10.7299 - mae: 10.7299\n"
          ]
        },
        {
          "output_type": "execute_result",
          "data": {
            "text/plain": [
              "<keras.callbacks.History at 0x7fdb9a3ce490>"
            ]
          },
          "metadata": {},
          "execution_count": 16
        }
      ]
    },
    {
      "cell_type": "code",
      "source": [
        "model_lstm_v2.save('./lstm_model_v2.h5')"
      ],
      "metadata": {
        "id": "NV2Rn_UdJbQ4"
      },
      "execution_count": null,
      "outputs": []
    },
    {
      "cell_type": "code",
      "source": [
        "from tensorflow.keras.layers import SimpleRNN"
      ],
      "metadata": {
        "id": "EbJQX1gHJMDM"
      },
      "execution_count": 16,
      "outputs": []
    },
    {
      "cell_type": "code",
      "source": [
        "model_rnn_v2 = Sequential()\n",
        "model_rnn_v2.add(SimpleRNN(50, input_shape = (360,10)))\n",
        "model_rnn_v2.add(Dense(10))\n",
        "model_rnn_v2.add(Dense(5))\n",
        "model_rnn_v2.add(Dense(1))\n",
        "model_rnn_v2.compile(loss='mae', optimizer=adam, metrics = ['mae'])"
      ],
      "metadata": {
        "id": "KJs8z1e_JfIi"
      },
      "execution_count": 17,
      "outputs": []
    },
    {
      "cell_type": "code",
      "source": [
        "model_rnn_v2.fit(X_train,y_train,epochs = 100)"
      ],
      "metadata": {
        "colab": {
          "base_uri": "https://localhost:8080/"
        },
        "id": "DYGTZdRXJf0z",
        "outputId": "3fd3b539-e9ff-4ec8-e6de-ecb1433fd707"
      },
      "execution_count": null,
      "outputs": [
        {
          "output_type": "stream",
          "name": "stdout",
          "text": [
            "Epoch 1/100\n",
            "2138/2138 [==============================] - 126s 58ms/step - loss: 139.6110 - mae: 139.6110\n",
            "Epoch 2/100\n",
            "2138/2138 [==============================] - 125s 58ms/step - loss: 84.8684 - mae: 84.8684\n",
            "Epoch 3/100\n",
            "2138/2138 [==============================] - 125s 58ms/step - loss: 48.5836 - mae: 48.5836\n",
            "Epoch 4/100\n",
            "2138/2138 [==============================] - 125s 58ms/step - loss: 39.0017 - mae: 39.0017\n",
            "Epoch 5/100\n",
            "2138/2138 [==============================] - 125s 58ms/step - loss: 36.6890 - mae: 36.6890\n",
            "Epoch 6/100\n",
            "2138/2138 [==============================] - 124s 58ms/step - loss: 35.0792 - mae: 35.0792\n",
            "Epoch 7/100\n",
            "2138/2138 [==============================] - 125s 58ms/step - loss: 33.6871 - mae: 33.6871\n",
            "Epoch 8/100\n",
            "2138/2138 [==============================] - 124s 58ms/step - loss: 32.3585 - mae: 32.3585\n",
            "Epoch 9/100\n",
            "2138/2138 [==============================] - 125s 58ms/step - loss: 30.7997 - mae: 30.7997\n",
            "Epoch 10/100\n",
            "2138/2138 [==============================] - 126s 59ms/step - loss: 29.0451 - mae: 29.0451\n",
            "Epoch 11/100\n",
            "2138/2138 [==============================] - 126s 59ms/step - loss: 28.3585 - mae: 28.3585\n",
            "Epoch 12/100\n",
            "2138/2138 [==============================] - 127s 59ms/step - loss: 27.8145 - mae: 27.8145\n",
            "Epoch 13/100\n",
            "2138/2138 [==============================] - 127s 59ms/step - loss: 27.3827 - mae: 27.3827\n",
            "Epoch 14/100\n",
            "2138/2138 [==============================] - 126s 59ms/step - loss: 27.0132 - mae: 27.0132\n",
            "Epoch 15/100\n",
            "2138/2138 [==============================] - 127s 59ms/step - loss: 26.6813 - mae: 26.6813\n",
            "Epoch 16/100\n",
            "2138/2138 [==============================] - 127s 59ms/step - loss: 26.4296 - mae: 26.4296\n",
            "Epoch 17/100\n",
            "2138/2138 [==============================] - 129s 60ms/step - loss: 26.1549 - mae: 26.1549\n",
            "Epoch 18/100\n",
            "2138/2138 [==============================] - 127s 59ms/step - loss: 25.9207 - mae: 25.9207\n",
            "Epoch 19/100\n",
            "2138/2138 [==============================] - 126s 59ms/step - loss: 25.6245 - mae: 25.6245\n",
            "Epoch 20/100\n",
            "2138/2138 [==============================] - 125s 58ms/step - loss: 25.5191 - mae: 25.5191\n",
            "Epoch 21/100\n",
            "2138/2138 [==============================] - 125s 58ms/step - loss: 25.5941 - mae: 25.5941\n",
            "Epoch 22/100\n",
            "2138/2138 [==============================] - 125s 59ms/step - loss: 25.6111 - mae: 25.6111\n",
            "Epoch 23/100\n",
            "2138/2138 [==============================] - 128s 60ms/step - loss: 24.9973 - mae: 24.9973\n",
            "Epoch 24/100\n",
            "2138/2138 [==============================] - 128s 60ms/step - loss: 24.8513 - mae: 24.8513\n",
            "Epoch 25/100\n",
            "2138/2138 [==============================] - 131s 61ms/step - loss: 24.7237 - mae: 24.7237\n",
            "Epoch 26/100\n",
            "2138/2138 [==============================] - 131s 61ms/step - loss: 24.6852 - mae: 24.6852\n",
            "Epoch 27/100\n",
            "2138/2138 [==============================] - 129s 60ms/step - loss: 24.6299 - mae: 24.6299\n",
            "Epoch 28/100\n",
            "1565/2138 [====================>.........] - ETA: 35s - loss: 24.4717 - mae: 24.4717"
          ]
        }
      ]
    },
    {
      "cell_type": "code",
      "source": [
        "model_rnn_v2.save('./rnn_model_v2.h5')"
      ],
      "metadata": {
        "id": "ulliK2E8Jlm2",
        "colab": {
          "base_uri": "https://localhost:8080/",
          "height": 174
        },
        "outputId": "26068650-208a-4f2d-93b0-4febafb90bd5"
      },
      "execution_count": 1,
      "outputs": [
        {
          "output_type": "error",
          "ename": "NameError",
          "evalue": "ignored",
          "traceback": [
            "\u001b[0;31m---------------------------------------------------------------------------\u001b[0m",
            "\u001b[0;31mNameError\u001b[0m                                 Traceback (most recent call last)",
            "\u001b[0;32m<ipython-input-1-064e715328cb>\u001b[0m in \u001b[0;36m<module>\u001b[0;34m()\u001b[0m\n\u001b[0;32m----> 1\u001b[0;31m \u001b[0mmodel_rnn_v2\u001b[0m\u001b[0;34m.\u001b[0m\u001b[0msave\u001b[0m\u001b[0;34m(\u001b[0m\u001b[0;34m'./rnn_model_v2.h5'\u001b[0m\u001b[0;34m)\u001b[0m\u001b[0;34m\u001b[0m\u001b[0;34m\u001b[0m\u001b[0m\n\u001b[0m",
            "\u001b[0;31mNameError\u001b[0m: name 'model_rnn_v2' is not defined"
          ]
        }
      ]
    }
  ]
}