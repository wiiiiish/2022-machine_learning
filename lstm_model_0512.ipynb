{
  "nbformat": 4,
  "nbformat_minor": 0,
  "metadata": {
    "colab": {
      "name": "lstm_model_0512.ipynb",
      "provenance": [],
      "collapsed_sections": [],
      "mount_file_id": "1_hHeDUamBtRZg3-y0Rr3E9kga4B8znXH",
      "authorship_tag": "ABX9TyOkwaZNfZ+ERmFe4IgYaahg",
      "include_colab_link": true
    },
    "kernelspec": {
      "name": "python3",
      "display_name": "Python 3"
    },
    "language_info": {
      "name": "python"
    }
  },
  "cells": [
    {
      "cell_type": "markdown",
      "metadata": {
        "id": "view-in-github",
        "colab_type": "text"
      },
      "source": [
        "<a href=\"https://colab.research.google.com/github/wiiiiish/2022-machine_learning/blob/main/lstm_model_0512.ipynb\" target=\"_parent\"><img src=\"https://colab.research.google.com/assets/colab-badge.svg\" alt=\"Open In Colab\"/></a>"
      ]
    },
    {
      "cell_type": "code",
      "execution_count": 1,
      "metadata": {
        "colab": {
          "base_uri": "https://localhost:8080/"
        },
        "id": "3l2bEfZfoUhb",
        "outputId": "17e81b45-f98a-4abe-a129-af7c32e176c6"
      },
      "outputs": [
        {
          "output_type": "stream",
          "name": "stdout",
          "text": [
            "drive  sample_data\n"
          ]
        }
      ],
      "source": [
        "!ls"
      ]
    },
    {
      "cell_type": "code",
      "source": [
        "%cd drive/MyDrive/Colab\\ Notebooks/2022-05-12\\ lstm"
      ],
      "metadata": {
        "colab": {
          "base_uri": "https://localhost:8080/"
        },
        "id": "PsK0f7Ljstvd",
        "outputId": "0e0a9ecb-eeef-4536-d632-9b2812c4b05e"
      },
      "execution_count": 2,
      "outputs": [
        {
          "output_type": "stream",
          "name": "stdout",
          "text": [
            "/content/drive/MyDrive/Colab Notebooks/2022-05-12 lstm\n"
          ]
        }
      ]
    },
    {
      "cell_type": "code",
      "source": [
        "# import library\n",
        "import warnings\n",
        "import numpy as np\n",
        "import pandas as pd\n",
        "import matplotlib.pyplot as plt\n",
        "import tensorflow as tf\n",
        "import pickle\n",
        "\n",
        "from tensorflow.keras import optimizers\n",
        "from tensorflow.keras.utils import plot_model\n",
        "from tensorflow.keras.models import Sequential, Model\n",
        "from tensorflow.keras.layers import Conv1D, MaxPool1D\n",
        "from tensorflow.keras.layers import Dense, LSTM, RepeatVector, TimeDistributed, Flatten\n",
        "\n",
        "from sklearn.metrics import mean_squared_error\n",
        "from sklearn.model_selection import train_test_split\n",
        "\n",
        "import plotly.graph_objs as go\n",
        "from plotly.offline import init_notebook_mode, iplot\n",
        "\n",
        "%matplotlib inline\n",
        "warnings.filterwarnings(\"ignore\")\n",
        "init_notebook_mode(connected=True)\n",
        "\n",
        "# Set seeds to make the experiment more reprodecible\n",
        "from tensorflow.compat.v1 import set_random_seed\n",
        "from numpy.random import seed\n",
        "set_random_seed(1)\n",
        "seed(1)"
      ],
      "metadata": {
        "colab": {
          "base_uri": "https://localhost:8080/",
          "height": 17
        },
        "id": "_SD02rPqs1_h",
        "outputId": "36b39092-7ec7-4804-d075-43df29cff0b3"
      },
      "execution_count": 3,
      "outputs": [
        {
          "output_type": "display_data",
          "data": {
            "text/html": [
              "        <script type=\"text/javascript\">\n",
              "        window.PlotlyConfig = {MathJaxConfig: 'local'};\n",
              "        if (window.MathJax) {MathJax.Hub.Config({SVG: {font: \"STIX-Web\"}});}\n",
              "        if (typeof require !== 'undefined') {\n",
              "        require.undef(\"plotly\");\n",
              "        requirejs.config({\n",
              "            paths: {\n",
              "                'plotly': ['https://cdn.plot.ly/plotly-2.8.3.min']\n",
              "            }\n",
              "        });\n",
              "        require(['plotly'], function(Plotly) {\n",
              "            window._Plotly = Plotly;\n",
              "        });\n",
              "        }\n",
              "        </script>\n",
              "        "
            ]
          },
          "metadata": {}
        }
      ]
    },
    {
      "cell_type": "code",
      "source": [
        "!unzip ./data/data.zip -d ./data"
      ],
      "metadata": {
        "colab": {
          "base_uri": "https://localhost:8080/"
        },
        "id": "fYJVjchD0I6S",
        "outputId": "ddd2ed87-95fc-4193-cf00-c6642c3960b0"
      },
      "execution_count": 4,
      "outputs": [
        {
          "output_type": "stream",
          "name": "stdout",
          "text": [
            "Archive:  ./data/data.zip\n",
            "replace ./data/y_train.csv? [y]es, [n]o, [A]ll, [N]one, [r]ename: y\n",
            "  inflating: ./data/y_train.csv      \n",
            "replace ./data/y_test.csv? [y]es, [n]o, [A]ll, [N]one, [r]ename: y\n",
            "  inflating: ./data/y_test.csv       \n",
            "replace ./data/X_test.csv? [y]es, [n]o, [A]ll, [N]one, [r]ename: y\n",
            "  inflating: ./data/X_test.csv       \n",
            "replace ./data/X_train.csv? [y]es, [n]o, [A]ll, [N]one, [r]ename: y\n",
            "  inflating: ./data/X_train.csv      \n"
          ]
        }
      ]
    },
    {
      "cell_type": "code",
      "source": [
        "test_X = pd.read_csv('./data/X_test.csv', encoding='utf-8')\n",
        "test_y = pd.read_csv('./data/y_test.csv', encoding='utf-8')\n",
        "train_X = pd.read_csv('./data/X_train.csv', encoding='utf-8')\n",
        "train_y = pd.read_csv('./data/y_train.csv', encoding='utf-8')"
      ],
      "metadata": {
        "id": "txAxFtqIx6tS"
      },
      "execution_count": 5,
      "outputs": []
    },
    {
      "cell_type": "code",
      "source": [
        "len(train_X)"
      ],
      "metadata": {
        "colab": {
          "base_uri": "https://localhost:8080/"
        },
        "id": "0xTtq8qdFKfR",
        "outputId": "d4b19804-482a-4b04-b823-13a81591c6c3"
      },
      "execution_count": 6,
      "outputs": [
        {
          "output_type": "execute_result",
          "data": {
            "text/plain": [
              "34201"
            ]
          },
          "metadata": {},
          "execution_count": 6
        }
      ]
    },
    {
      "cell_type": "code",
      "source": [
        "len(train_y)"
      ],
      "metadata": {
        "colab": {
          "base_uri": "https://localhost:8080/"
        },
        "id": "X3YdCM9mFoa7",
        "outputId": "7e65d9f9-bd4d-4ed7-d68e-425059b64eb4"
      },
      "execution_count": 7,
      "outputs": [
        {
          "output_type": "execute_result",
          "data": {
            "text/plain": [
              "34201"
            ]
          },
          "metadata": {},
          "execution_count": 7
        }
      ]
    },
    {
      "cell_type": "code",
      "source": [
        "train_X = train_X.drop(train_X.columns[0], axis=1)\n",
        "train_X.iloc[360, :]"
      ],
      "metadata": {
        "colab": {
          "base_uri": "https://localhost:8080/"
        },
        "id": "MUbtUsov0nQ-",
        "outputId": "51525338-0ae8-4959-bfa3-67c5db58f544"
      },
      "execution_count": 8,
      "outputs": [
        {
          "output_type": "execute_result",
          "data": {
            "text/plain": [
              "date_time           05-06 02:00:00\n",
              "temperature              19.619841\n",
              "precipitation                  0.0\n",
              "wind_speed                0.640395\n",
              "humidity                 98.912399\n",
              "radiation                      0.0\n",
              "total_cloudiness          7.415161\n",
              "visibility              653.974524\n",
              "ground_temp              20.127291\n",
              "now_aod                        0.0\n",
              "before_hour_aod                0.0\n",
              "Name: 360, dtype: object"
            ]
          },
          "metadata": {},
          "execution_count": 8
        }
      ]
    },
    {
      "cell_type": "code",
      "source": [
        "train_X.iloc[34200,:]"
      ],
      "metadata": {
        "colab": {
          "base_uri": "https://localhost:8080/"
        },
        "id": "8blXTItoGgUV",
        "outputId": "9095873e-2b26-48e9-990e-18023a257f16"
      },
      "execution_count": 9,
      "outputs": [
        {
          "output_type": "execute_result",
          "data": {
            "text/plain": [
              "date_time           05-10 00:00:00\n",
              "temperature              23.495307\n",
              "precipitation                  0.0\n",
              "wind_speed                1.308598\n",
              "humidity                 93.507282\n",
              "radiation                      0.0\n",
              "total_cloudiness          2.700084\n",
              "visibility              841.329172\n",
              "ground_temp              25.617869\n",
              "now_aod                        0.0\n",
              "before_hour_aod                0.0\n",
              "Name: 34200, dtype: object"
            ]
          },
          "metadata": {},
          "execution_count": 9
        }
      ]
    },
    {
      "cell_type": "code",
      "source": [
        "train_y = train_y.drop(train_y.columns[0], axis=1)\n",
        "train_y"
      ],
      "metadata": {
        "colab": {
          "base_uri": "https://localhost:8080/",
          "height": 423
        },
        "id": "yYQ8u74J00QO",
        "outputId": "9adfd816-c84c-4b77-9152-d3fa271f1d27"
      },
      "execution_count": 10,
      "outputs": [
        {
          "output_type": "execute_result",
          "data": {
            "text/plain": [
              "       aod\n",
              "0      0.0\n",
              "1      0.0\n",
              "2      0.0\n",
              "3      0.0\n",
              "4      0.0\n",
              "...    ...\n",
              "34196  0.0\n",
              "34197  0.0\n",
              "34198  0.0\n",
              "34199  0.0\n",
              "34200  0.0\n",
              "\n",
              "[34201 rows x 1 columns]"
            ],
            "text/html": [
              "\n",
              "  <div id=\"df-3db10d02-c6a3-4577-b588-ac375c71abaf\">\n",
              "    <div class=\"colab-df-container\">\n",
              "      <div>\n",
              "<style scoped>\n",
              "    .dataframe tbody tr th:only-of-type {\n",
              "        vertical-align: middle;\n",
              "    }\n",
              "\n",
              "    .dataframe tbody tr th {\n",
              "        vertical-align: top;\n",
              "    }\n",
              "\n",
              "    .dataframe thead th {\n",
              "        text-align: right;\n",
              "    }\n",
              "</style>\n",
              "<table border=\"1\" class=\"dataframe\">\n",
              "  <thead>\n",
              "    <tr style=\"text-align: right;\">\n",
              "      <th></th>\n",
              "      <th>aod</th>\n",
              "    </tr>\n",
              "  </thead>\n",
              "  <tbody>\n",
              "    <tr>\n",
              "      <th>0</th>\n",
              "      <td>0.0</td>\n",
              "    </tr>\n",
              "    <tr>\n",
              "      <th>1</th>\n",
              "      <td>0.0</td>\n",
              "    </tr>\n",
              "    <tr>\n",
              "      <th>2</th>\n",
              "      <td>0.0</td>\n",
              "    </tr>\n",
              "    <tr>\n",
              "      <th>3</th>\n",
              "      <td>0.0</td>\n",
              "    </tr>\n",
              "    <tr>\n",
              "      <th>4</th>\n",
              "      <td>0.0</td>\n",
              "    </tr>\n",
              "    <tr>\n",
              "      <th>...</th>\n",
              "      <td>...</td>\n",
              "    </tr>\n",
              "    <tr>\n",
              "      <th>34196</th>\n",
              "      <td>0.0</td>\n",
              "    </tr>\n",
              "    <tr>\n",
              "      <th>34197</th>\n",
              "      <td>0.0</td>\n",
              "    </tr>\n",
              "    <tr>\n",
              "      <th>34198</th>\n",
              "      <td>0.0</td>\n",
              "    </tr>\n",
              "    <tr>\n",
              "      <th>34199</th>\n",
              "      <td>0.0</td>\n",
              "    </tr>\n",
              "    <tr>\n",
              "      <th>34200</th>\n",
              "      <td>0.0</td>\n",
              "    </tr>\n",
              "  </tbody>\n",
              "</table>\n",
              "<p>34201 rows × 1 columns</p>\n",
              "</div>\n",
              "      <button class=\"colab-df-convert\" onclick=\"convertToInteractive('df-3db10d02-c6a3-4577-b588-ac375c71abaf')\"\n",
              "              title=\"Convert this dataframe to an interactive table.\"\n",
              "              style=\"display:none;\">\n",
              "        \n",
              "  <svg xmlns=\"http://www.w3.org/2000/svg\" height=\"24px\"viewBox=\"0 0 24 24\"\n",
              "       width=\"24px\">\n",
              "    <path d=\"M0 0h24v24H0V0z\" fill=\"none\"/>\n",
              "    <path d=\"M18.56 5.44l.94 2.06.94-2.06 2.06-.94-2.06-.94-.94-2.06-.94 2.06-2.06.94zm-11 1L8.5 8.5l.94-2.06 2.06-.94-2.06-.94L8.5 2.5l-.94 2.06-2.06.94zm10 10l.94 2.06.94-2.06 2.06-.94-2.06-.94-.94-2.06-.94 2.06-2.06.94z\"/><path d=\"M17.41 7.96l-1.37-1.37c-.4-.4-.92-.59-1.43-.59-.52 0-1.04.2-1.43.59L10.3 9.45l-7.72 7.72c-.78.78-.78 2.05 0 2.83L4 21.41c.39.39.9.59 1.41.59.51 0 1.02-.2 1.41-.59l7.78-7.78 2.81-2.81c.8-.78.8-2.07 0-2.86zM5.41 20L4 18.59l7.72-7.72 1.47 1.35L5.41 20z\"/>\n",
              "  </svg>\n",
              "      </button>\n",
              "      \n",
              "  <style>\n",
              "    .colab-df-container {\n",
              "      display:flex;\n",
              "      flex-wrap:wrap;\n",
              "      gap: 12px;\n",
              "    }\n",
              "\n",
              "    .colab-df-convert {\n",
              "      background-color: #E8F0FE;\n",
              "      border: none;\n",
              "      border-radius: 50%;\n",
              "      cursor: pointer;\n",
              "      display: none;\n",
              "      fill: #1967D2;\n",
              "      height: 32px;\n",
              "      padding: 0 0 0 0;\n",
              "      width: 32px;\n",
              "    }\n",
              "\n",
              "    .colab-df-convert:hover {\n",
              "      background-color: #E2EBFA;\n",
              "      box-shadow: 0px 1px 2px rgba(60, 64, 67, 0.3), 0px 1px 3px 1px rgba(60, 64, 67, 0.15);\n",
              "      fill: #174EA6;\n",
              "    }\n",
              "\n",
              "    [theme=dark] .colab-df-convert {\n",
              "      background-color: #3B4455;\n",
              "      fill: #D2E3FC;\n",
              "    }\n",
              "\n",
              "    [theme=dark] .colab-df-convert:hover {\n",
              "      background-color: #434B5C;\n",
              "      box-shadow: 0px 1px 3px 1px rgba(0, 0, 0, 0.15);\n",
              "      filter: drop-shadow(0px 1px 2px rgba(0, 0, 0, 0.3));\n",
              "      fill: #FFFFFF;\n",
              "    }\n",
              "  </style>\n",
              "\n",
              "      <script>\n",
              "        const buttonEl =\n",
              "          document.querySelector('#df-3db10d02-c6a3-4577-b588-ac375c71abaf button.colab-df-convert');\n",
              "        buttonEl.style.display =\n",
              "          google.colab.kernel.accessAllowed ? 'block' : 'none';\n",
              "\n",
              "        async function convertToInteractive(key) {\n",
              "          const element = document.querySelector('#df-3db10d02-c6a3-4577-b588-ac375c71abaf');\n",
              "          const dataTable =\n",
              "            await google.colab.kernel.invokeFunction('convertToInteractive',\n",
              "                                                     [key], {});\n",
              "          if (!dataTable) return;\n",
              "\n",
              "          const docLinkHtml = 'Like what you see? Visit the ' +\n",
              "            '<a target=\"_blank\" href=https://colab.research.google.com/notebooks/data_table.ipynb>data table notebook</a>'\n",
              "            + ' to learn more about interactive tables.';\n",
              "          element.innerHTML = '';\n",
              "          dataTable['output_type'] = 'display_data';\n",
              "          await google.colab.output.renderOutput(dataTable, element);\n",
              "          const docLink = document.createElement('div');\n",
              "          docLink.innerHTML = docLinkHtml;\n",
              "          element.appendChild(docLink);\n",
              "        }\n",
              "      </script>\n",
              "    </div>\n",
              "  </div>\n",
              "  "
            ]
          },
          "metadata": {},
          "execution_count": 10
        }
      ]
    },
    {
      "cell_type": "code",
      "source": [
        "X = train_X.loc[:, 'temperature':]\n",
        "X"
      ],
      "metadata": {
        "colab": {
          "base_uri": "https://localhost:8080/",
          "height": 423
        },
        "id": "ZnbI4oh11KVf",
        "outputId": "d880bf25-943a-4b67-d29a-0f78a90d1a6b"
      },
      "execution_count": 11,
      "outputs": [
        {
          "output_type": "execute_result",
          "data": {
            "text/plain": [
              "       temperature  precipitation  wind_speed   humidity  radiation  \\\n",
              "0        19.864374            0.0    0.822489  98.925436        0.0   \n",
              "1        19.908106            0.0    0.883391  99.091616        0.0   \n",
              "2        20.027289            0.0    0.828924  99.056635        0.0   \n",
              "3        20.214164            0.0    0.895508  99.074766        0.0   \n",
              "4        19.815515            0.0    0.814909  98.971507        0.0   \n",
              "...            ...            ...         ...        ...        ...   \n",
              "34196    24.073217            0.0    1.284951  89.005958        0.0   \n",
              "34197    24.181822            0.0    1.317443  91.923205        0.0   \n",
              "34198    23.765830            0.0    1.350209  89.787909        0.0   \n",
              "34199    24.013697            0.0    1.417440  90.933227        0.0   \n",
              "34200    23.495307            0.0    1.308598  93.507282        0.0   \n",
              "\n",
              "       total_cloudiness  visibility  ground_temp  now_aod  before_hour_aod  \n",
              "0              7.547328  743.262485    20.429062      0.0              0.0  \n",
              "1              6.534823  665.751451    20.591084      0.0              0.0  \n",
              "2              6.820024  626.004984    20.365159      0.0              0.0  \n",
              "3              7.301961  658.978883    20.482513      0.0              0.0  \n",
              "4              7.149459  705.821344    20.624097      0.0              0.0  \n",
              "...                 ...         ...          ...      ...              ...  \n",
              "34196          4.471558  882.632247    26.128100      0.0              0.0  \n",
              "34197          2.536581  905.367195    26.246212      0.0              0.0  \n",
              "34198          7.882563  908.718558    26.224739      0.0              0.0  \n",
              "34199          2.849746  874.759202    26.427768      0.0              0.0  \n",
              "34200          2.700084  841.329172    25.617869      0.0              0.0  \n",
              "\n",
              "[34201 rows x 10 columns]"
            ],
            "text/html": [
              "\n",
              "  <div id=\"df-0e89983a-45c3-4887-ac33-e992587a5467\">\n",
              "    <div class=\"colab-df-container\">\n",
              "      <div>\n",
              "<style scoped>\n",
              "    .dataframe tbody tr th:only-of-type {\n",
              "        vertical-align: middle;\n",
              "    }\n",
              "\n",
              "    .dataframe tbody tr th {\n",
              "        vertical-align: top;\n",
              "    }\n",
              "\n",
              "    .dataframe thead th {\n",
              "        text-align: right;\n",
              "    }\n",
              "</style>\n",
              "<table border=\"1\" class=\"dataframe\">\n",
              "  <thead>\n",
              "    <tr style=\"text-align: right;\">\n",
              "      <th></th>\n",
              "      <th>temperature</th>\n",
              "      <th>precipitation</th>\n",
              "      <th>wind_speed</th>\n",
              "      <th>humidity</th>\n",
              "      <th>radiation</th>\n",
              "      <th>total_cloudiness</th>\n",
              "      <th>visibility</th>\n",
              "      <th>ground_temp</th>\n",
              "      <th>now_aod</th>\n",
              "      <th>before_hour_aod</th>\n",
              "    </tr>\n",
              "  </thead>\n",
              "  <tbody>\n",
              "    <tr>\n",
              "      <th>0</th>\n",
              "      <td>19.864374</td>\n",
              "      <td>0.0</td>\n",
              "      <td>0.822489</td>\n",
              "      <td>98.925436</td>\n",
              "      <td>0.0</td>\n",
              "      <td>7.547328</td>\n",
              "      <td>743.262485</td>\n",
              "      <td>20.429062</td>\n",
              "      <td>0.0</td>\n",
              "      <td>0.0</td>\n",
              "    </tr>\n",
              "    <tr>\n",
              "      <th>1</th>\n",
              "      <td>19.908106</td>\n",
              "      <td>0.0</td>\n",
              "      <td>0.883391</td>\n",
              "      <td>99.091616</td>\n",
              "      <td>0.0</td>\n",
              "      <td>6.534823</td>\n",
              "      <td>665.751451</td>\n",
              "      <td>20.591084</td>\n",
              "      <td>0.0</td>\n",
              "      <td>0.0</td>\n",
              "    </tr>\n",
              "    <tr>\n",
              "      <th>2</th>\n",
              "      <td>20.027289</td>\n",
              "      <td>0.0</td>\n",
              "      <td>0.828924</td>\n",
              "      <td>99.056635</td>\n",
              "      <td>0.0</td>\n",
              "      <td>6.820024</td>\n",
              "      <td>626.004984</td>\n",
              "      <td>20.365159</td>\n",
              "      <td>0.0</td>\n",
              "      <td>0.0</td>\n",
              "    </tr>\n",
              "    <tr>\n",
              "      <th>3</th>\n",
              "      <td>20.214164</td>\n",
              "      <td>0.0</td>\n",
              "      <td>0.895508</td>\n",
              "      <td>99.074766</td>\n",
              "      <td>0.0</td>\n",
              "      <td>7.301961</td>\n",
              "      <td>658.978883</td>\n",
              "      <td>20.482513</td>\n",
              "      <td>0.0</td>\n",
              "      <td>0.0</td>\n",
              "    </tr>\n",
              "    <tr>\n",
              "      <th>4</th>\n",
              "      <td>19.815515</td>\n",
              "      <td>0.0</td>\n",
              "      <td>0.814909</td>\n",
              "      <td>98.971507</td>\n",
              "      <td>0.0</td>\n",
              "      <td>7.149459</td>\n",
              "      <td>705.821344</td>\n",
              "      <td>20.624097</td>\n",
              "      <td>0.0</td>\n",
              "      <td>0.0</td>\n",
              "    </tr>\n",
              "    <tr>\n",
              "      <th>...</th>\n",
              "      <td>...</td>\n",
              "      <td>...</td>\n",
              "      <td>...</td>\n",
              "      <td>...</td>\n",
              "      <td>...</td>\n",
              "      <td>...</td>\n",
              "      <td>...</td>\n",
              "      <td>...</td>\n",
              "      <td>...</td>\n",
              "      <td>...</td>\n",
              "    </tr>\n",
              "    <tr>\n",
              "      <th>34196</th>\n",
              "      <td>24.073217</td>\n",
              "      <td>0.0</td>\n",
              "      <td>1.284951</td>\n",
              "      <td>89.005958</td>\n",
              "      <td>0.0</td>\n",
              "      <td>4.471558</td>\n",
              "      <td>882.632247</td>\n",
              "      <td>26.128100</td>\n",
              "      <td>0.0</td>\n",
              "      <td>0.0</td>\n",
              "    </tr>\n",
              "    <tr>\n",
              "      <th>34197</th>\n",
              "      <td>24.181822</td>\n",
              "      <td>0.0</td>\n",
              "      <td>1.317443</td>\n",
              "      <td>91.923205</td>\n",
              "      <td>0.0</td>\n",
              "      <td>2.536581</td>\n",
              "      <td>905.367195</td>\n",
              "      <td>26.246212</td>\n",
              "      <td>0.0</td>\n",
              "      <td>0.0</td>\n",
              "    </tr>\n",
              "    <tr>\n",
              "      <th>34198</th>\n",
              "      <td>23.765830</td>\n",
              "      <td>0.0</td>\n",
              "      <td>1.350209</td>\n",
              "      <td>89.787909</td>\n",
              "      <td>0.0</td>\n",
              "      <td>7.882563</td>\n",
              "      <td>908.718558</td>\n",
              "      <td>26.224739</td>\n",
              "      <td>0.0</td>\n",
              "      <td>0.0</td>\n",
              "    </tr>\n",
              "    <tr>\n",
              "      <th>34199</th>\n",
              "      <td>24.013697</td>\n",
              "      <td>0.0</td>\n",
              "      <td>1.417440</td>\n",
              "      <td>90.933227</td>\n",
              "      <td>0.0</td>\n",
              "      <td>2.849746</td>\n",
              "      <td>874.759202</td>\n",
              "      <td>26.427768</td>\n",
              "      <td>0.0</td>\n",
              "      <td>0.0</td>\n",
              "    </tr>\n",
              "    <tr>\n",
              "      <th>34200</th>\n",
              "      <td>23.495307</td>\n",
              "      <td>0.0</td>\n",
              "      <td>1.308598</td>\n",
              "      <td>93.507282</td>\n",
              "      <td>0.0</td>\n",
              "      <td>2.700084</td>\n",
              "      <td>841.329172</td>\n",
              "      <td>25.617869</td>\n",
              "      <td>0.0</td>\n",
              "      <td>0.0</td>\n",
              "    </tr>\n",
              "  </tbody>\n",
              "</table>\n",
              "<p>34201 rows × 10 columns</p>\n",
              "</div>\n",
              "      <button class=\"colab-df-convert\" onclick=\"convertToInteractive('df-0e89983a-45c3-4887-ac33-e992587a5467')\"\n",
              "              title=\"Convert this dataframe to an interactive table.\"\n",
              "              style=\"display:none;\">\n",
              "        \n",
              "  <svg xmlns=\"http://www.w3.org/2000/svg\" height=\"24px\"viewBox=\"0 0 24 24\"\n",
              "       width=\"24px\">\n",
              "    <path d=\"M0 0h24v24H0V0z\" fill=\"none\"/>\n",
              "    <path d=\"M18.56 5.44l.94 2.06.94-2.06 2.06-.94-2.06-.94-.94-2.06-.94 2.06-2.06.94zm-11 1L8.5 8.5l.94-2.06 2.06-.94-2.06-.94L8.5 2.5l-.94 2.06-2.06.94zm10 10l.94 2.06.94-2.06 2.06-.94-2.06-.94-.94-2.06-.94 2.06-2.06.94z\"/><path d=\"M17.41 7.96l-1.37-1.37c-.4-.4-.92-.59-1.43-.59-.52 0-1.04.2-1.43.59L10.3 9.45l-7.72 7.72c-.78.78-.78 2.05 0 2.83L4 21.41c.39.39.9.59 1.41.59.51 0 1.02-.2 1.41-.59l7.78-7.78 2.81-2.81c.8-.78.8-2.07 0-2.86zM5.41 20L4 18.59l7.72-7.72 1.47 1.35L5.41 20z\"/>\n",
              "  </svg>\n",
              "      </button>\n",
              "      \n",
              "  <style>\n",
              "    .colab-df-container {\n",
              "      display:flex;\n",
              "      flex-wrap:wrap;\n",
              "      gap: 12px;\n",
              "    }\n",
              "\n",
              "    .colab-df-convert {\n",
              "      background-color: #E8F0FE;\n",
              "      border: none;\n",
              "      border-radius: 50%;\n",
              "      cursor: pointer;\n",
              "      display: none;\n",
              "      fill: #1967D2;\n",
              "      height: 32px;\n",
              "      padding: 0 0 0 0;\n",
              "      width: 32px;\n",
              "    }\n",
              "\n",
              "    .colab-df-convert:hover {\n",
              "      background-color: #E2EBFA;\n",
              "      box-shadow: 0px 1px 2px rgba(60, 64, 67, 0.3), 0px 1px 3px 1px rgba(60, 64, 67, 0.15);\n",
              "      fill: #174EA6;\n",
              "    }\n",
              "\n",
              "    [theme=dark] .colab-df-convert {\n",
              "      background-color: #3B4455;\n",
              "      fill: #D2E3FC;\n",
              "    }\n",
              "\n",
              "    [theme=dark] .colab-df-convert:hover {\n",
              "      background-color: #434B5C;\n",
              "      box-shadow: 0px 1px 3px 1px rgba(0, 0, 0, 0.15);\n",
              "      filter: drop-shadow(0px 1px 2px rgba(0, 0, 0, 0.3));\n",
              "      fill: #FFFFFF;\n",
              "    }\n",
              "  </style>\n",
              "\n",
              "      <script>\n",
              "        const buttonEl =\n",
              "          document.querySelector('#df-0e89983a-45c3-4887-ac33-e992587a5467 button.colab-df-convert');\n",
              "        buttonEl.style.display =\n",
              "          google.colab.kernel.accessAllowed ? 'block' : 'none';\n",
              "\n",
              "        async function convertToInteractive(key) {\n",
              "          const element = document.querySelector('#df-0e89983a-45c3-4887-ac33-e992587a5467');\n",
              "          const dataTable =\n",
              "            await google.colab.kernel.invokeFunction('convertToInteractive',\n",
              "                                                     [key], {});\n",
              "          if (!dataTable) return;\n",
              "\n",
              "          const docLinkHtml = 'Like what you see? Visit the ' +\n",
              "            '<a target=\"_blank\" href=https://colab.research.google.com/notebooks/data_table.ipynb>data table notebook</a>'\n",
              "            + ' to learn more about interactive tables.';\n",
              "          element.innerHTML = '';\n",
              "          dataTable['output_type'] = 'display_data';\n",
              "          await google.colab.output.renderOutput(dataTable, element);\n",
              "          const docLink = document.createElement('div');\n",
              "          docLink.innerHTML = docLinkHtml;\n",
              "          element.appendChild(docLink);\n",
              "        }\n",
              "      </script>\n",
              "    </div>\n",
              "  </div>\n",
              "  "
            ]
          },
          "metadata": {},
          "execution_count": 11
        }
      ]
    },
    {
      "cell_type": "code",
      "source": [
        "X = np.array(X)\n",
        "X"
      ],
      "metadata": {
        "colab": {
          "base_uri": "https://localhost:8080/"
        },
        "id": "Wvy5qQFF1w59",
        "outputId": "664fbb9a-2777-4e1e-84fc-542517b85577"
      },
      "execution_count": 12,
      "outputs": [
        {
          "output_type": "execute_result",
          "data": {
            "text/plain": [
              "array([[19.86437382,  0.        ,  0.82248939, ..., 20.42906155,\n",
              "         0.        ,  0.        ],\n",
              "       [19.90810568,  0.        ,  0.88339129, ..., 20.59108412,\n",
              "         0.        ,  0.        ],\n",
              "       [20.02728917,  0.        ,  0.82892439, ..., 20.36515904,\n",
              "         0.        ,  0.        ],\n",
              "       ...,\n",
              "       [23.76582951,  0.        ,  1.35020924, ..., 26.22473944,\n",
              "         0.        ,  0.        ],\n",
              "       [24.01369698,  0.        ,  1.41743983, ..., 26.42776813,\n",
              "         0.        ,  0.        ],\n",
              "       [23.4953066 ,  0.        ,  1.3085976 , ..., 25.61786865,\n",
              "         0.        ,  0.        ]])"
            ]
          },
          "metadata": {},
          "execution_count": 12
        }
      ]
    },
    {
      "cell_type": "code",
      "source": [
        "X.shape"
      ],
      "metadata": {
        "colab": {
          "base_uri": "https://localhost:8080/"
        },
        "id": "jGe7Qy_p1QtD",
        "outputId": "1ff13f83-4a2d-4c23-b7fc-86c53f915fb9"
      },
      "execution_count": 13,
      "outputs": [
        {
          "output_type": "execute_result",
          "data": {
            "text/plain": [
              "(34201, 10)"
            ]
          },
          "metadata": {},
          "execution_count": 13
        }
      ]
    },
    {
      "cell_type": "code",
      "source": [
        "temp = []\n",
        "for i in range(len(X)-360):\n",
        "  for j in range(360):\n",
        "    temp.append(X[i+j])\n",
        "train_data = np.array(temp)\n",
        "train_data.shape"
      ],
      "metadata": {
        "colab": {
          "base_uri": "https://localhost:8080/"
        },
        "id": "IKtoIsU_19Mr",
        "outputId": "79bba02c-059f-4961-b518-336a3905c4a9"
      },
      "execution_count": 14,
      "outputs": [
        {
          "output_type": "execute_result",
          "data": {
            "text/plain": [
              "(12182760, 10)"
            ]
          },
          "metadata": {},
          "execution_count": 14
        }
      ]
    },
    {
      "cell_type": "code",
      "source": [
        "X_train = train_data.reshape(33841,360,10)\n",
        "X_train.shape"
      ],
      "metadata": {
        "colab": {
          "base_uri": "https://localhost:8080/"
        },
        "id": "L355yhvvEOhd",
        "outputId": "6f72d69a-f47c-4278-d567-4eef49da8b33"
      },
      "execution_count": 15,
      "outputs": [
        {
          "output_type": "execute_result",
          "data": {
            "text/plain": [
              "(33841, 360, 10)"
            ]
          },
          "metadata": {},
          "execution_count": 15
        }
      ]
    },
    {
      "cell_type": "code",
      "source": [
        "y = train_y.iloc[360:, :]\n",
        "y"
      ],
      "metadata": {
        "colab": {
          "base_uri": "https://localhost:8080/",
          "height": 423
        },
        "id": "e2eUS2LH27ix",
        "outputId": "113869ee-7358-460e-f304-a73d5fe3176e"
      },
      "execution_count": 16,
      "outputs": [
        {
          "output_type": "execute_result",
          "data": {
            "text/plain": [
              "       aod\n",
              "360    0.0\n",
              "361    0.0\n",
              "362    0.0\n",
              "363    0.0\n",
              "364    0.0\n",
              "...    ...\n",
              "34196  0.0\n",
              "34197  0.0\n",
              "34198  0.0\n",
              "34199  0.0\n",
              "34200  0.0\n",
              "\n",
              "[33841 rows x 1 columns]"
            ],
            "text/html": [
              "\n",
              "  <div id=\"df-667a18c8-136f-4ec2-810f-bab4e1760097\">\n",
              "    <div class=\"colab-df-container\">\n",
              "      <div>\n",
              "<style scoped>\n",
              "    .dataframe tbody tr th:only-of-type {\n",
              "        vertical-align: middle;\n",
              "    }\n",
              "\n",
              "    .dataframe tbody tr th {\n",
              "        vertical-align: top;\n",
              "    }\n",
              "\n",
              "    .dataframe thead th {\n",
              "        text-align: right;\n",
              "    }\n",
              "</style>\n",
              "<table border=\"1\" class=\"dataframe\">\n",
              "  <thead>\n",
              "    <tr style=\"text-align: right;\">\n",
              "      <th></th>\n",
              "      <th>aod</th>\n",
              "    </tr>\n",
              "  </thead>\n",
              "  <tbody>\n",
              "    <tr>\n",
              "      <th>360</th>\n",
              "      <td>0.0</td>\n",
              "    </tr>\n",
              "    <tr>\n",
              "      <th>361</th>\n",
              "      <td>0.0</td>\n",
              "    </tr>\n",
              "    <tr>\n",
              "      <th>362</th>\n",
              "      <td>0.0</td>\n",
              "    </tr>\n",
              "    <tr>\n",
              "      <th>363</th>\n",
              "      <td>0.0</td>\n",
              "    </tr>\n",
              "    <tr>\n",
              "      <th>364</th>\n",
              "      <td>0.0</td>\n",
              "    </tr>\n",
              "    <tr>\n",
              "      <th>...</th>\n",
              "      <td>...</td>\n",
              "    </tr>\n",
              "    <tr>\n",
              "      <th>34196</th>\n",
              "      <td>0.0</td>\n",
              "    </tr>\n",
              "    <tr>\n",
              "      <th>34197</th>\n",
              "      <td>0.0</td>\n",
              "    </tr>\n",
              "    <tr>\n",
              "      <th>34198</th>\n",
              "      <td>0.0</td>\n",
              "    </tr>\n",
              "    <tr>\n",
              "      <th>34199</th>\n",
              "      <td>0.0</td>\n",
              "    </tr>\n",
              "    <tr>\n",
              "      <th>34200</th>\n",
              "      <td>0.0</td>\n",
              "    </tr>\n",
              "  </tbody>\n",
              "</table>\n",
              "<p>33841 rows × 1 columns</p>\n",
              "</div>\n",
              "      <button class=\"colab-df-convert\" onclick=\"convertToInteractive('df-667a18c8-136f-4ec2-810f-bab4e1760097')\"\n",
              "              title=\"Convert this dataframe to an interactive table.\"\n",
              "              style=\"display:none;\">\n",
              "        \n",
              "  <svg xmlns=\"http://www.w3.org/2000/svg\" height=\"24px\"viewBox=\"0 0 24 24\"\n",
              "       width=\"24px\">\n",
              "    <path d=\"M0 0h24v24H0V0z\" fill=\"none\"/>\n",
              "    <path d=\"M18.56 5.44l.94 2.06.94-2.06 2.06-.94-2.06-.94-.94-2.06-.94 2.06-2.06.94zm-11 1L8.5 8.5l.94-2.06 2.06-.94-2.06-.94L8.5 2.5l-.94 2.06-2.06.94zm10 10l.94 2.06.94-2.06 2.06-.94-2.06-.94-.94-2.06-.94 2.06-2.06.94z\"/><path d=\"M17.41 7.96l-1.37-1.37c-.4-.4-.92-.59-1.43-.59-.52 0-1.04.2-1.43.59L10.3 9.45l-7.72 7.72c-.78.78-.78 2.05 0 2.83L4 21.41c.39.39.9.59 1.41.59.51 0 1.02-.2 1.41-.59l7.78-7.78 2.81-2.81c.8-.78.8-2.07 0-2.86zM5.41 20L4 18.59l7.72-7.72 1.47 1.35L5.41 20z\"/>\n",
              "  </svg>\n",
              "      </button>\n",
              "      \n",
              "  <style>\n",
              "    .colab-df-container {\n",
              "      display:flex;\n",
              "      flex-wrap:wrap;\n",
              "      gap: 12px;\n",
              "    }\n",
              "\n",
              "    .colab-df-convert {\n",
              "      background-color: #E8F0FE;\n",
              "      border: none;\n",
              "      border-radius: 50%;\n",
              "      cursor: pointer;\n",
              "      display: none;\n",
              "      fill: #1967D2;\n",
              "      height: 32px;\n",
              "      padding: 0 0 0 0;\n",
              "      width: 32px;\n",
              "    }\n",
              "\n",
              "    .colab-df-convert:hover {\n",
              "      background-color: #E2EBFA;\n",
              "      box-shadow: 0px 1px 2px rgba(60, 64, 67, 0.3), 0px 1px 3px 1px rgba(60, 64, 67, 0.15);\n",
              "      fill: #174EA6;\n",
              "    }\n",
              "\n",
              "    [theme=dark] .colab-df-convert {\n",
              "      background-color: #3B4455;\n",
              "      fill: #D2E3FC;\n",
              "    }\n",
              "\n",
              "    [theme=dark] .colab-df-convert:hover {\n",
              "      background-color: #434B5C;\n",
              "      box-shadow: 0px 1px 3px 1px rgba(0, 0, 0, 0.15);\n",
              "      filter: drop-shadow(0px 1px 2px rgba(0, 0, 0, 0.3));\n",
              "      fill: #FFFFFF;\n",
              "    }\n",
              "  </style>\n",
              "\n",
              "      <script>\n",
              "        const buttonEl =\n",
              "          document.querySelector('#df-667a18c8-136f-4ec2-810f-bab4e1760097 button.colab-df-convert');\n",
              "        buttonEl.style.display =\n",
              "          google.colab.kernel.accessAllowed ? 'block' : 'none';\n",
              "\n",
              "        async function convertToInteractive(key) {\n",
              "          const element = document.querySelector('#df-667a18c8-136f-4ec2-810f-bab4e1760097');\n",
              "          const dataTable =\n",
              "            await google.colab.kernel.invokeFunction('convertToInteractive',\n",
              "                                                     [key], {});\n",
              "          if (!dataTable) return;\n",
              "\n",
              "          const docLinkHtml = 'Like what you see? Visit the ' +\n",
              "            '<a target=\"_blank\" href=https://colab.research.google.com/notebooks/data_table.ipynb>data table notebook</a>'\n",
              "            + ' to learn more about interactive tables.';\n",
              "          element.innerHTML = '';\n",
              "          dataTable['output_type'] = 'display_data';\n",
              "          await google.colab.output.renderOutput(dataTable, element);\n",
              "          const docLink = document.createElement('div');\n",
              "          docLink.innerHTML = docLinkHtml;\n",
              "          element.appendChild(docLink);\n",
              "        }\n",
              "      </script>\n",
              "    </div>\n",
              "  </div>\n",
              "  "
            ]
          },
          "metadata": {},
          "execution_count": 16
        }
      ]
    },
    {
      "cell_type": "code",
      "source": [
        "y_train = np.array(y)\n",
        "print(y_train.shape)\n",
        "y_train"
      ],
      "metadata": {
        "colab": {
          "base_uri": "https://localhost:8080/"
        },
        "id": "-Cxue3wsHB17",
        "outputId": "ff44cffe-69e7-490f-e20e-783c9ddc09b5"
      },
      "execution_count": 17,
      "outputs": [
        {
          "output_type": "stream",
          "name": "stdout",
          "text": [
            "(33841, 1)\n"
          ]
        },
        {
          "output_type": "execute_result",
          "data": {
            "text/plain": [
              "array([[0.],\n",
              "       [0.],\n",
              "       [0.],\n",
              "       ...,\n",
              "       [0.],\n",
              "       [0.],\n",
              "       [0.]])"
            ]
          },
          "metadata": {},
          "execution_count": 17
        }
      ]
    },
    {
      "cell_type": "code",
      "source": [
        "adam = tf.keras.optimizers.Adam(learning_rate = 0.0001)\n",
        "SGD = tf.keras.optimizers.SGD(learning_rate = 0.0001)\n",
        "rmsprop = tf.keras.optimizers.RMSprop(learning_rate = 0.0001)"
      ],
      "metadata": {
        "id": "14NzF9l13dxK"
      },
      "execution_count": null,
      "outputs": []
    },
    {
      "cell_type": "code",
      "source": [
        "model_lstm = Sequential()\n",
        "model_lstm.add(LSTM(50, activation='tanh', input_shape=(360, 10)))\n",
        "model_lstm.add(Dense(1))\n",
        "model_lstm.compile(loss='mae', optimizer='Adam', metrics = ['mae'])"
      ],
      "metadata": {
        "id": "briRJiCWImgO"
      },
      "execution_count": 39,
      "outputs": []
    },
    {
      "cell_type": "code",
      "source": [
        "model_lstm.fit(X_train,y_train,epochs = 30)"
      ],
      "metadata": {
        "colab": {
          "base_uri": "https://localhost:8080/"
        },
        "id": "DqvG17bcIvzR",
        "outputId": "09bf3548-ee16-41f4-f898-4053e421f950"
      },
      "execution_count": 40,
      "outputs": [
        {
          "output_type": "stream",
          "name": "stdout",
          "text": [
            "Epoch 1/30\n",
            "1058/1058 [==============================] - 172s 134ms/step - loss: 134.7500 - mae: 134.7500\n",
            "Epoch 2/30\n",
            "1058/1058 [==============================] - 141s 134ms/step - loss: 128.8141 - mae: 128.8141\n",
            "Epoch 3/30\n",
            "1058/1058 [==============================] - 140s 132ms/step - loss: 122.6854 - mae: 122.6854\n",
            "Epoch 4/30\n",
            "1058/1058 [==============================] - 139s 132ms/step - loss: 118.0265 - mae: 118.0265\n",
            "Epoch 5/30\n",
            "1058/1058 [==============================] - 141s 133ms/step - loss: 111.6099 - mae: 111.6099\n",
            "Epoch 6/30\n",
            "1058/1058 [==============================] - 141s 133ms/step - loss: 106.1702 - mae: 106.1702\n",
            "Epoch 7/30\n",
            "1058/1058 [==============================] - 146s 138ms/step - loss: 101.1418 - mae: 101.1418\n",
            "Epoch 8/30\n",
            "1058/1058 [==============================] - 142s 134ms/step - loss: 96.4436 - mae: 96.4436\n",
            "Epoch 9/30\n",
            "1058/1058 [==============================] - 144s 136ms/step - loss: 91.9512 - mae: 91.9512\n",
            "Epoch 10/30\n",
            "1058/1058 [==============================] - 143s 135ms/step - loss: 87.7838 - mae: 87.7838\n",
            "Epoch 11/30\n",
            "1058/1058 [==============================] - 142s 135ms/step - loss: 83.5505 - mae: 83.5505\n",
            "Epoch 12/30\n",
            "1058/1058 [==============================] - 143s 135ms/step - loss: 79.5703 - mae: 79.5703\n",
            "Epoch 13/30\n",
            "1058/1058 [==============================] - 144s 136ms/step - loss: 75.6644 - mae: 75.6644\n",
            "Epoch 14/30\n",
            "1058/1058 [==============================] - 142s 134ms/step - loss: 71.8867 - mae: 71.8867\n",
            "Epoch 15/30\n",
            "1058/1058 [==============================] - 142s 134ms/step - loss: 68.1765 - mae: 68.1765\n",
            "Epoch 16/30\n",
            "1058/1058 [==============================] - 142s 134ms/step - loss: 64.4752 - mae: 64.4752\n",
            "Epoch 17/30\n",
            "1058/1058 [==============================] - 144s 136ms/step - loss: 60.8331 - mae: 60.8331\n",
            "Epoch 18/30\n",
            "1058/1058 [==============================] - 144s 136ms/step - loss: 57.6708 - mae: 57.6708\n",
            "Epoch 19/30\n",
            "1058/1058 [==============================] - 147s 139ms/step - loss: 54.8571 - mae: 54.8571\n",
            "Epoch 20/30\n",
            "1058/1058 [==============================] - 141s 133ms/step - loss: 52.0830 - mae: 52.0830\n",
            "Epoch 21/30\n",
            "1058/1058 [==============================] - 141s 133ms/step - loss: 49.2999 - mae: 49.2999\n",
            "Epoch 22/30\n",
            "1058/1058 [==============================] - 140s 132ms/step - loss: 47.0564 - mae: 47.0564\n",
            "Epoch 23/30\n",
            "1058/1058 [==============================] - 139s 132ms/step - loss: 45.0174 - mae: 45.0174\n",
            "Epoch 24/30\n",
            "1058/1058 [==============================] - 140s 132ms/step - loss: 43.2165 - mae: 43.2165\n",
            "Epoch 25/30\n",
            "1058/1058 [==============================] - 140s 133ms/step - loss: 41.5508 - mae: 41.5508\n",
            "Epoch 26/30\n",
            "1058/1058 [==============================] - 142s 134ms/step - loss: 39.9697 - mae: 39.9697\n",
            "Epoch 27/30\n",
            "1058/1058 [==============================] - 141s 133ms/step - loss: 38.4196 - mae: 38.4196\n",
            "Epoch 28/30\n",
            "1058/1058 [==============================] - 140s 132ms/step - loss: 36.8610 - mae: 36.8610\n",
            "Epoch 29/30\n",
            "1058/1058 [==============================] - 140s 132ms/step - loss: 35.4534 - mae: 35.4534\n",
            "Epoch 30/30\n",
            "1058/1058 [==============================] - 141s 133ms/step - loss: 34.2464 - mae: 34.2464\n"
          ]
        },
        {
          "output_type": "execute_result",
          "data": {
            "text/plain": [
              "<keras.callbacks.History at 0x7f3b3fe1f710>"
            ]
          },
          "metadata": {},
          "execution_count": 40
        }
      ]
    },
    {
      "cell_type": "code",
      "source": [
        "model_lstm.save('./lstm_model.h5')"
      ],
      "metadata": {
        "id": "RLh-ZGY9YmP3"
      },
      "execution_count": 44,
      "outputs": []
    },
    {
      "cell_type": "code",
      "source": [
        "from tensorflow.keras.layers import SimpleRNN"
      ],
      "metadata": {
        "id": "agzCvQf31mvG"
      },
      "execution_count": 41,
      "outputs": []
    },
    {
      "cell_type": "code",
      "source": [
        "model_rnn = Sequential()\n",
        "model_rnn.add(SimpleRNN(50, input_shape = (360,10)))\n",
        "model_rnn.add(Dense(1))\n",
        "model_rnn.compile(loss='mae', optimizer='Adam', metrics = ['mae'])"
      ],
      "metadata": {
        "id": "5heCJBLM1h-U"
      },
      "execution_count": 42,
      "outputs": []
    },
    {
      "cell_type": "code",
      "source": [
        "# 1. optimizer 수정, 값 변화\n",
        "## adam learning_rate 기본값 : 0.001\n",
        "\n",
        "# 2. optimizer 변경 rmsprop / SGD"
      ],
      "metadata": {
        "id": "nZjjjoBpOii5"
      },
      "execution_count": null,
      "outputs": []
    },
    {
      "cell_type": "code",
      "source": [
        "model_rnn.fit(X_train,y_train,epochs = 30)"
      ],
      "metadata": {
        "colab": {
          "base_uri": "https://localhost:8080/"
        },
        "id": "6hrRPtj0I1J_",
        "outputId": "fe876da2-0ff9-481c-8387-153c81d64d43"
      },
      "execution_count": 45,
      "outputs": [
        {
          "output_type": "stream",
          "name": "stdout",
          "text": [
            "Epoch 1/30\n",
            "1058/1058 [==============================] - 69s 65ms/step - loss: 126.2892 - mae: 126.2892\n",
            "Epoch 2/30\n",
            "1058/1058 [==============================] - 63s 59ms/step - loss: 115.6992 - mae: 115.6992\n",
            "Epoch 3/30\n",
            "1058/1058 [==============================] - 63s 59ms/step - loss: 106.3968 - mae: 106.3968\n",
            "Epoch 4/30\n",
            "1058/1058 [==============================] - 62s 58ms/step - loss: 98.0005 - mae: 98.0005\n",
            "Epoch 5/30\n",
            "1058/1058 [==============================] - 62s 59ms/step - loss: 91.6076 - mae: 91.6076\n",
            "Epoch 6/30\n",
            "1058/1058 [==============================] - 62s 59ms/step - loss: 84.8259 - mae: 84.8259\n",
            "Epoch 7/30\n",
            "1058/1058 [==============================] - 62s 59ms/step - loss: 78.5032 - mae: 78.5032\n",
            "Epoch 8/30\n",
            "1058/1058 [==============================] - 63s 59ms/step - loss: 72.4183 - mae: 72.4183\n",
            "Epoch 9/30\n",
            "1058/1058 [==============================] - 64s 60ms/step - loss: 73.1874 - mae: 73.1874\n",
            "Epoch 10/30\n",
            "1058/1058 [==============================] - 62s 58ms/step - loss: 65.8626 - mae: 65.8626\n",
            "Epoch 11/30\n",
            "1058/1058 [==============================] - 61s 58ms/step - loss: 61.0127 - mae: 61.0127\n",
            "Epoch 12/30\n",
            "1058/1058 [==============================] - 62s 59ms/step - loss: 56.4941 - mae: 56.4941\n",
            "Epoch 13/30\n",
            "1058/1058 [==============================] - 63s 59ms/step - loss: 52.5804 - mae: 52.5804\n",
            "Epoch 14/30\n",
            "1058/1058 [==============================] - 62s 59ms/step - loss: 48.9193 - mae: 48.9193\n",
            "Epoch 15/30\n",
            "1058/1058 [==============================] - 61s 58ms/step - loss: 46.1886 - mae: 46.1886\n",
            "Epoch 16/30\n",
            "1058/1058 [==============================] - 63s 59ms/step - loss: 43.8455 - mae: 43.8455\n",
            "Epoch 17/30\n",
            "1058/1058 [==============================] - 61s 58ms/step - loss: 41.8958 - mae: 41.8958\n",
            "Epoch 18/30\n",
            "1058/1058 [==============================] - 62s 58ms/step - loss: 40.1119 - mae: 40.1119\n",
            "Epoch 19/30\n",
            "1058/1058 [==============================] - 63s 59ms/step - loss: 38.1089 - mae: 38.1089\n",
            "Epoch 20/30\n",
            "1058/1058 [==============================] - 62s 59ms/step - loss: 37.0250 - mae: 37.0250\n",
            "Epoch 21/30\n",
            "1058/1058 [==============================] - 62s 59ms/step - loss: 35.3102 - mae: 35.3102\n",
            "Epoch 22/30\n",
            "1058/1058 [==============================] - 63s 59ms/step - loss: 34.8412 - mae: 34.8412\n",
            "Epoch 23/30\n",
            "1058/1058 [==============================] - 63s 59ms/step - loss: 34.1799 - mae: 34.1799\n",
            "Epoch 24/30\n",
            "1058/1058 [==============================] - 63s 59ms/step - loss: 32.9074 - mae: 32.9074\n",
            "Epoch 25/30\n",
            "1058/1058 [==============================] - 64s 60ms/step - loss: 31.9423 - mae: 31.9423\n",
            "Epoch 26/30\n",
            "1058/1058 [==============================] - 64s 61ms/step - loss: 31.4471 - mae: 31.4471\n",
            "Epoch 27/30\n",
            "1058/1058 [==============================] - 64s 61ms/step - loss: 30.7731 - mae: 30.7731\n",
            "Epoch 28/30\n",
            "1058/1058 [==============================] - 65s 61ms/step - loss: 30.3032 - mae: 30.3032\n",
            "Epoch 29/30\n",
            "1058/1058 [==============================] - 63s 59ms/step - loss: 29.0532 - mae: 29.0532\n",
            "Epoch 30/30\n",
            "1058/1058 [==============================] - 64s 61ms/step - loss: 28.4119 - mae: 28.4119\n"
          ]
        },
        {
          "output_type": "execute_result",
          "data": {
            "text/plain": [
              "<keras.callbacks.History at 0x7f3b489f3250>"
            ]
          },
          "metadata": {},
          "execution_count": 45
        }
      ]
    },
    {
      "cell_type": "code",
      "source": [
        "model_rnn.save('./rnn_model.h5')"
      ],
      "metadata": {
        "id": "Dzzw21FCgrAD"
      },
      "execution_count": 46,
      "outputs": []
    }
  ]
}