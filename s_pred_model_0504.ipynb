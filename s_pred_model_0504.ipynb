{
  "nbformat": 4,
  "nbformat_minor": 0,
  "metadata": {
    "colab": {
      "name": "s_pred_model_0504.ipynb",
      "provenance": [],
      "collapsed_sections": [],
      "mount_file_id": "15oc33E7FpBY2fSfvEbGwWye7ZpJhhdYt",
      "authorship_tag": "ABX9TyPqeLDR/LEtSwRwkitTzrDo",
      "include_colab_link": true
    },
    "kernelspec": {
      "name": "python3",
      "display_name": "Python 3"
    },
    "language_info": {
      "name": "python"
    }
  },
  "cells": [
    {
      "cell_type": "markdown",
      "metadata": {
        "id": "view-in-github",
        "colab_type": "text"
      },
      "source": [
        "<a href=\"https://colab.research.google.com/github/wiiiiish/2022-machine_learning/blob/main/s_pred_model_0504.ipynb\" target=\"_parent\"><img src=\"https://colab.research.google.com/assets/colab-badge.svg\" alt=\"Open In Colab\"/></a>"
      ]
    },
    {
      "cell_type": "code",
      "execution_count": 1,
      "metadata": {
        "colab": {
          "base_uri": "https://localhost:8080/"
        },
        "id": "53LI2NDUelDK",
        "outputId": "bace84e3-d8af-4133-db0b-b30732f91ff0"
      },
      "outputs": [
        {
          "output_type": "stream",
          "name": "stdout",
          "text": [
            "drive  sample_data\n"
          ]
        }
      ],
      "source": [
        "!ls"
      ]
    },
    {
      "cell_type": "code",
      "source": [
        "%cd drive/MyDrive/Colab\\ Notebooks/2022-04-27\\ 데이터"
      ],
      "metadata": {
        "colab": {
          "base_uri": "https://localhost:8080/"
        },
        "id": "OBhwrhiGfFDo",
        "outputId": "92d6bd07-3b34-4e49-8211-8d04ba3b7e1f"
      },
      "execution_count": 2,
      "outputs": [
        {
          "output_type": "stream",
          "name": "stdout",
          "text": [
            "/content/drive/MyDrive/Colab Notebooks/2022-04-27 데이터\n"
          ]
        }
      ]
    },
    {
      "cell_type": "code",
      "source": [
        "!sudo apt-get install python3-dev default-libmysqlclient-dev\n",
        "!pip install pymysql"
      ],
      "metadata": {
        "colab": {
          "base_uri": "https://localhost:8080/"
        },
        "id": "7_jXJT5yfK-n",
        "outputId": "9b72d016-0419-455e-bd75-290d7fb4b7a6"
      },
      "execution_count": 4,
      "outputs": [
        {
          "output_type": "stream",
          "name": "stdout",
          "text": [
            "Reading package lists... Done\n",
            "Building dependency tree       \n",
            "Reading state information... Done\n",
            "default-libmysqlclient-dev is already the newest version (1.0.4).\n",
            "default-libmysqlclient-dev set to manually installed.\n",
            "python3-dev is already the newest version (3.6.7-1~18.04).\n",
            "python3-dev set to manually installed.\n",
            "The following packages were automatically installed and are no longer required:\n",
            "  libnvidia-common-460 nsight-compute-2020.2.0\n",
            "Use 'sudo apt autoremove' to remove them.\n",
            "0 upgraded, 0 newly installed, 0 to remove and 42 not upgraded.\n",
            "Collecting pymysql\n",
            "  Downloading PyMySQL-1.0.2-py3-none-any.whl (43 kB)\n",
            "\u001b[K     |████████████████████████████████| 43 kB 1.2 MB/s \n",
            "\u001b[?25hInstalling collected packages: pymysql\n",
            "Successfully installed pymysql-1.0.2\n"
          ]
        }
      ]
    },
    {
      "cell_type": "code",
      "source": [
        "import pandas as pd\n",
        "import pymysql"
      ],
      "metadata": {
        "id": "tHb1BmcjfHNX"
      },
      "execution_count": 5,
      "outputs": []
    },
    {
      "cell_type": "code",
      "source": [
        "from pymysql.converters import convert_bit\n",
        "host = \"project-db-stu.ddns.net\"\n",
        "port = 3307\n",
        "username = \"wish\"\n",
        "password = \"1234\"\n",
        "db = 'wish'\n",
        "\n",
        "conn = pymysql.connect(host=host, port=port, user=username, password=password, db=db)"
      ],
      "metadata": {
        "id": "8QOrh4U8gUU8"
      },
      "execution_count": 6,
      "outputs": []
    },
    {
      "cell_type": "code",
      "source": [
        "from sklearn.linear_model import LinearRegression # 회귀 모델"
      ],
      "metadata": {
        "id": "bqgw7rwCkMDN"
      },
      "execution_count": 18,
      "outputs": []
    },
    {
      "cell_type": "code",
      "source": [
        "s_pred_model = LinearRegression()"
      ],
      "metadata": {
        "id": "oagYBEsOkOnN"
      },
      "execution_count": 19,
      "outputs": []
    },
    {
      "cell_type": "code",
      "source": [
        "weather = pd.read_csv('./data/weather_0504.csv', encoding='utf-8')\n",
        "weather"
      ],
      "metadata": {
        "colab": {
          "base_uri": "https://localhost:8080/",
          "height": 424
        },
        "id": "E9WQUJHsgXl0",
        "outputId": "8bd89a15-983b-4441-c6e7-5d555be014b2"
      },
      "execution_count": 33,
      "outputs": [
        {
          "output_type": "execute_result",
          "data": {
            "text/plain": [
              "      date_time  temperature  precipitation  wind_speed   humidity  radiation  \\\n",
              "0         60010    18.393009              0    0.626055  99.077047    0.00000   \n",
              "1         60020    18.123292              0    0.666385  98.931846    0.00000   \n",
              "2         60030    18.382198              0    0.640155  98.910705    0.00000   \n",
              "3         60040    18.113827              0    0.706955  98.936457    0.00000   \n",
              "4         60050    18.202366              0    0.633896  98.969637    0.00000   \n",
              "...         ...          ...            ...         ...        ...        ...   \n",
              "1075      85920    18.945224              0    0.097051  98.992754    0.00000   \n",
              "1076      85930    18.927292              0    0.258281  98.922693    0.00000   \n",
              "1077      85940    18.909723              0    0.308918  98.990245    0.00000   \n",
              "1078      85950    19.188160              0    0.256762  98.961152    0.00000   \n",
              "1079      90000    20.938822              0    0.300982  96.912220    0.10963   \n",
              "\n",
              "      total_cloudiness   visibility  ground_temp  \n",
              "0             5.383689  1406.307589    20.587329  \n",
              "1             5.378191  1520.985931    20.922063  \n",
              "2             5.807724  1583.682653    20.663506  \n",
              "3             5.654719  1854.592384    21.152932  \n",
              "4             7.202626  1839.823058    20.929866  \n",
              "...                ...          ...          ...  \n",
              "1075          8.748208  1912.489642    23.716064  \n",
              "1076         10.301976  1863.227213    22.459806  \n",
              "1077          6.605528  1884.812965    22.512350  \n",
              "1078          9.495882  1884.334552    23.560265  \n",
              "1079         10.010055  1999.981606    24.878155  \n",
              "\n",
              "[1080 rows x 9 columns]"
            ],
            "text/html": [
              "\n",
              "  <div id=\"df-3b0d3e7a-917b-495e-867b-5257f3c8f58c\">\n",
              "    <div class=\"colab-df-container\">\n",
              "      <div>\n",
              "<style scoped>\n",
              "    .dataframe tbody tr th:only-of-type {\n",
              "        vertical-align: middle;\n",
              "    }\n",
              "\n",
              "    .dataframe tbody tr th {\n",
              "        vertical-align: top;\n",
              "    }\n",
              "\n",
              "    .dataframe thead th {\n",
              "        text-align: right;\n",
              "    }\n",
              "</style>\n",
              "<table border=\"1\" class=\"dataframe\">\n",
              "  <thead>\n",
              "    <tr style=\"text-align: right;\">\n",
              "      <th></th>\n",
              "      <th>date_time</th>\n",
              "      <th>temperature</th>\n",
              "      <th>precipitation</th>\n",
              "      <th>wind_speed</th>\n",
              "      <th>humidity</th>\n",
              "      <th>radiation</th>\n",
              "      <th>total_cloudiness</th>\n",
              "      <th>visibility</th>\n",
              "      <th>ground_temp</th>\n",
              "    </tr>\n",
              "  </thead>\n",
              "  <tbody>\n",
              "    <tr>\n",
              "      <th>0</th>\n",
              "      <td>60010</td>\n",
              "      <td>18.393009</td>\n",
              "      <td>0</td>\n",
              "      <td>0.626055</td>\n",
              "      <td>99.077047</td>\n",
              "      <td>0.00000</td>\n",
              "      <td>5.383689</td>\n",
              "      <td>1406.307589</td>\n",
              "      <td>20.587329</td>\n",
              "    </tr>\n",
              "    <tr>\n",
              "      <th>1</th>\n",
              "      <td>60020</td>\n",
              "      <td>18.123292</td>\n",
              "      <td>0</td>\n",
              "      <td>0.666385</td>\n",
              "      <td>98.931846</td>\n",
              "      <td>0.00000</td>\n",
              "      <td>5.378191</td>\n",
              "      <td>1520.985931</td>\n",
              "      <td>20.922063</td>\n",
              "    </tr>\n",
              "    <tr>\n",
              "      <th>2</th>\n",
              "      <td>60030</td>\n",
              "      <td>18.382198</td>\n",
              "      <td>0</td>\n",
              "      <td>0.640155</td>\n",
              "      <td>98.910705</td>\n",
              "      <td>0.00000</td>\n",
              "      <td>5.807724</td>\n",
              "      <td>1583.682653</td>\n",
              "      <td>20.663506</td>\n",
              "    </tr>\n",
              "    <tr>\n",
              "      <th>3</th>\n",
              "      <td>60040</td>\n",
              "      <td>18.113827</td>\n",
              "      <td>0</td>\n",
              "      <td>0.706955</td>\n",
              "      <td>98.936457</td>\n",
              "      <td>0.00000</td>\n",
              "      <td>5.654719</td>\n",
              "      <td>1854.592384</td>\n",
              "      <td>21.152932</td>\n",
              "    </tr>\n",
              "    <tr>\n",
              "      <th>4</th>\n",
              "      <td>60050</td>\n",
              "      <td>18.202366</td>\n",
              "      <td>0</td>\n",
              "      <td>0.633896</td>\n",
              "      <td>98.969637</td>\n",
              "      <td>0.00000</td>\n",
              "      <td>7.202626</td>\n",
              "      <td>1839.823058</td>\n",
              "      <td>20.929866</td>\n",
              "    </tr>\n",
              "    <tr>\n",
              "      <th>...</th>\n",
              "      <td>...</td>\n",
              "      <td>...</td>\n",
              "      <td>...</td>\n",
              "      <td>...</td>\n",
              "      <td>...</td>\n",
              "      <td>...</td>\n",
              "      <td>...</td>\n",
              "      <td>...</td>\n",
              "      <td>...</td>\n",
              "    </tr>\n",
              "    <tr>\n",
              "      <th>1075</th>\n",
              "      <td>85920</td>\n",
              "      <td>18.945224</td>\n",
              "      <td>0</td>\n",
              "      <td>0.097051</td>\n",
              "      <td>98.992754</td>\n",
              "      <td>0.00000</td>\n",
              "      <td>8.748208</td>\n",
              "      <td>1912.489642</td>\n",
              "      <td>23.716064</td>\n",
              "    </tr>\n",
              "    <tr>\n",
              "      <th>1076</th>\n",
              "      <td>85930</td>\n",
              "      <td>18.927292</td>\n",
              "      <td>0</td>\n",
              "      <td>0.258281</td>\n",
              "      <td>98.922693</td>\n",
              "      <td>0.00000</td>\n",
              "      <td>10.301976</td>\n",
              "      <td>1863.227213</td>\n",
              "      <td>22.459806</td>\n",
              "    </tr>\n",
              "    <tr>\n",
              "      <th>1077</th>\n",
              "      <td>85940</td>\n",
              "      <td>18.909723</td>\n",
              "      <td>0</td>\n",
              "      <td>0.308918</td>\n",
              "      <td>98.990245</td>\n",
              "      <td>0.00000</td>\n",
              "      <td>6.605528</td>\n",
              "      <td>1884.812965</td>\n",
              "      <td>22.512350</td>\n",
              "    </tr>\n",
              "    <tr>\n",
              "      <th>1078</th>\n",
              "      <td>85950</td>\n",
              "      <td>19.188160</td>\n",
              "      <td>0</td>\n",
              "      <td>0.256762</td>\n",
              "      <td>98.961152</td>\n",
              "      <td>0.00000</td>\n",
              "      <td>9.495882</td>\n",
              "      <td>1884.334552</td>\n",
              "      <td>23.560265</td>\n",
              "    </tr>\n",
              "    <tr>\n",
              "      <th>1079</th>\n",
              "      <td>90000</td>\n",
              "      <td>20.938822</td>\n",
              "      <td>0</td>\n",
              "      <td>0.300982</td>\n",
              "      <td>96.912220</td>\n",
              "      <td>0.10963</td>\n",
              "      <td>10.010055</td>\n",
              "      <td>1999.981606</td>\n",
              "      <td>24.878155</td>\n",
              "    </tr>\n",
              "  </tbody>\n",
              "</table>\n",
              "<p>1080 rows × 9 columns</p>\n",
              "</div>\n",
              "      <button class=\"colab-df-convert\" onclick=\"convertToInteractive('df-3b0d3e7a-917b-495e-867b-5257f3c8f58c')\"\n",
              "              title=\"Convert this dataframe to an interactive table.\"\n",
              "              style=\"display:none;\">\n",
              "        \n",
              "  <svg xmlns=\"http://www.w3.org/2000/svg\" height=\"24px\"viewBox=\"0 0 24 24\"\n",
              "       width=\"24px\">\n",
              "    <path d=\"M0 0h24v24H0V0z\" fill=\"none\"/>\n",
              "    <path d=\"M18.56 5.44l.94 2.06.94-2.06 2.06-.94-2.06-.94-.94-2.06-.94 2.06-2.06.94zm-11 1L8.5 8.5l.94-2.06 2.06-.94-2.06-.94L8.5 2.5l-.94 2.06-2.06.94zm10 10l.94 2.06.94-2.06 2.06-.94-2.06-.94-.94-2.06-.94 2.06-2.06.94z\"/><path d=\"M17.41 7.96l-1.37-1.37c-.4-.4-.92-.59-1.43-.59-.52 0-1.04.2-1.43.59L10.3 9.45l-7.72 7.72c-.78.78-.78 2.05 0 2.83L4 21.41c.39.39.9.59 1.41.59.51 0 1.02-.2 1.41-.59l7.78-7.78 2.81-2.81c.8-.78.8-2.07 0-2.86zM5.41 20L4 18.59l7.72-7.72 1.47 1.35L5.41 20z\"/>\n",
              "  </svg>\n",
              "      </button>\n",
              "      \n",
              "  <style>\n",
              "    .colab-df-container {\n",
              "      display:flex;\n",
              "      flex-wrap:wrap;\n",
              "      gap: 12px;\n",
              "    }\n",
              "\n",
              "    .colab-df-convert {\n",
              "      background-color: #E8F0FE;\n",
              "      border: none;\n",
              "      border-radius: 50%;\n",
              "      cursor: pointer;\n",
              "      display: none;\n",
              "      fill: #1967D2;\n",
              "      height: 32px;\n",
              "      padding: 0 0 0 0;\n",
              "      width: 32px;\n",
              "    }\n",
              "\n",
              "    .colab-df-convert:hover {\n",
              "      background-color: #E2EBFA;\n",
              "      box-shadow: 0px 1px 2px rgba(60, 64, 67, 0.3), 0px 1px 3px 1px rgba(60, 64, 67, 0.15);\n",
              "      fill: #174EA6;\n",
              "    }\n",
              "\n",
              "    [theme=dark] .colab-df-convert {\n",
              "      background-color: #3B4455;\n",
              "      fill: #D2E3FC;\n",
              "    }\n",
              "\n",
              "    [theme=dark] .colab-df-convert:hover {\n",
              "      background-color: #434B5C;\n",
              "      box-shadow: 0px 1px 3px 1px rgba(0, 0, 0, 0.15);\n",
              "      filter: drop-shadow(0px 1px 2px rgba(0, 0, 0, 0.3));\n",
              "      fill: #FFFFFF;\n",
              "    }\n",
              "  </style>\n",
              "\n",
              "      <script>\n",
              "        const buttonEl =\n",
              "          document.querySelector('#df-3b0d3e7a-917b-495e-867b-5257f3c8f58c button.colab-df-convert');\n",
              "        buttonEl.style.display =\n",
              "          google.colab.kernel.accessAllowed ? 'block' : 'none';\n",
              "\n",
              "        async function convertToInteractive(key) {\n",
              "          const element = document.querySelector('#df-3b0d3e7a-917b-495e-867b-5257f3c8f58c');\n",
              "          const dataTable =\n",
              "            await google.colab.kernel.invokeFunction('convertToInteractive',\n",
              "                                                     [key], {});\n",
              "          if (!dataTable) return;\n",
              "\n",
              "          const docLinkHtml = 'Like what you see? Visit the ' +\n",
              "            '<a target=\"_blank\" href=https://colab.research.google.com/notebooks/data_table.ipynb>data table notebook</a>'\n",
              "            + ' to learn more about interactive tables.';\n",
              "          element.innerHTML = '';\n",
              "          dataTable['output_type'] = 'display_data';\n",
              "          await google.colab.output.renderOutput(dataTable, element);\n",
              "          const docLink = document.createElement('div');\n",
              "          docLink.innerHTML = docLinkHtml;\n",
              "          element.appendChild(docLink);\n",
              "        }\n",
              "      </script>\n",
              "    </div>\n",
              "  </div>\n",
              "  "
            ]
          },
          "metadata": {},
          "execution_count": 33
        }
      ]
    },
    {
      "cell_type": "code",
      "source": [
        "aod = pd.read_csv('./data/aod_0504.csv', encoding='utf-8')\n",
        "aod"
      ],
      "metadata": {
        "colab": {
          "base_uri": "https://localhost:8080/",
          "height": 424
        },
        "id": "h9RBn17pg-ys",
        "outputId": "5d07db3c-e873-4859-9254-ccae9e904eaf"
      },
      "execution_count": 34,
      "outputs": [
        {
          "output_type": "execute_result",
          "data": {
            "text/plain": [
              "     Time - Plot 0  Power(kW) - Plot 0\n",
              "0         07:00:10             10.4142\n",
              "1         07:00:20             10.7484\n",
              "2         07:00:30             11.0826\n",
              "3         07:00:40             11.4168\n",
              "4         07:00:50             11.7510\n",
              "...            ...                 ...\n",
              "1075      09:59:20            234.1310\n",
              "1076      09:59:30            234.0980\n",
              "1077      09:59:40            234.0660\n",
              "1078      09:59:50            234.0330\n",
              "1079      10:00:00            234.0000\n",
              "\n",
              "[1080 rows x 2 columns]"
            ],
            "text/html": [
              "\n",
              "  <div id=\"df-494daa7b-3db8-4a5e-88b3-039fdb92c2a7\">\n",
              "    <div class=\"colab-df-container\">\n",
              "      <div>\n",
              "<style scoped>\n",
              "    .dataframe tbody tr th:only-of-type {\n",
              "        vertical-align: middle;\n",
              "    }\n",
              "\n",
              "    .dataframe tbody tr th {\n",
              "        vertical-align: top;\n",
              "    }\n",
              "\n",
              "    .dataframe thead th {\n",
              "        text-align: right;\n",
              "    }\n",
              "</style>\n",
              "<table border=\"1\" class=\"dataframe\">\n",
              "  <thead>\n",
              "    <tr style=\"text-align: right;\">\n",
              "      <th></th>\n",
              "      <th>Time - Plot 0</th>\n",
              "      <th>Power(kW) - Plot 0</th>\n",
              "    </tr>\n",
              "  </thead>\n",
              "  <tbody>\n",
              "    <tr>\n",
              "      <th>0</th>\n",
              "      <td>07:00:10</td>\n",
              "      <td>10.4142</td>\n",
              "    </tr>\n",
              "    <tr>\n",
              "      <th>1</th>\n",
              "      <td>07:00:20</td>\n",
              "      <td>10.7484</td>\n",
              "    </tr>\n",
              "    <tr>\n",
              "      <th>2</th>\n",
              "      <td>07:00:30</td>\n",
              "      <td>11.0826</td>\n",
              "    </tr>\n",
              "    <tr>\n",
              "      <th>3</th>\n",
              "      <td>07:00:40</td>\n",
              "      <td>11.4168</td>\n",
              "    </tr>\n",
              "    <tr>\n",
              "      <th>4</th>\n",
              "      <td>07:00:50</td>\n",
              "      <td>11.7510</td>\n",
              "    </tr>\n",
              "    <tr>\n",
              "      <th>...</th>\n",
              "      <td>...</td>\n",
              "      <td>...</td>\n",
              "    </tr>\n",
              "    <tr>\n",
              "      <th>1075</th>\n",
              "      <td>09:59:20</td>\n",
              "      <td>234.1310</td>\n",
              "    </tr>\n",
              "    <tr>\n",
              "      <th>1076</th>\n",
              "      <td>09:59:30</td>\n",
              "      <td>234.0980</td>\n",
              "    </tr>\n",
              "    <tr>\n",
              "      <th>1077</th>\n",
              "      <td>09:59:40</td>\n",
              "      <td>234.0660</td>\n",
              "    </tr>\n",
              "    <tr>\n",
              "      <th>1078</th>\n",
              "      <td>09:59:50</td>\n",
              "      <td>234.0330</td>\n",
              "    </tr>\n",
              "    <tr>\n",
              "      <th>1079</th>\n",
              "      <td>10:00:00</td>\n",
              "      <td>234.0000</td>\n",
              "    </tr>\n",
              "  </tbody>\n",
              "</table>\n",
              "<p>1080 rows × 2 columns</p>\n",
              "</div>\n",
              "      <button class=\"colab-df-convert\" onclick=\"convertToInteractive('df-494daa7b-3db8-4a5e-88b3-039fdb92c2a7')\"\n",
              "              title=\"Convert this dataframe to an interactive table.\"\n",
              "              style=\"display:none;\">\n",
              "        \n",
              "  <svg xmlns=\"http://www.w3.org/2000/svg\" height=\"24px\"viewBox=\"0 0 24 24\"\n",
              "       width=\"24px\">\n",
              "    <path d=\"M0 0h24v24H0V0z\" fill=\"none\"/>\n",
              "    <path d=\"M18.56 5.44l.94 2.06.94-2.06 2.06-.94-2.06-.94-.94-2.06-.94 2.06-2.06.94zm-11 1L8.5 8.5l.94-2.06 2.06-.94-2.06-.94L8.5 2.5l-.94 2.06-2.06.94zm10 10l.94 2.06.94-2.06 2.06-.94-2.06-.94-.94-2.06-.94 2.06-2.06.94z\"/><path d=\"M17.41 7.96l-1.37-1.37c-.4-.4-.92-.59-1.43-.59-.52 0-1.04.2-1.43.59L10.3 9.45l-7.72 7.72c-.78.78-.78 2.05 0 2.83L4 21.41c.39.39.9.59 1.41.59.51 0 1.02-.2 1.41-.59l7.78-7.78 2.81-2.81c.8-.78.8-2.07 0-2.86zM5.41 20L4 18.59l7.72-7.72 1.47 1.35L5.41 20z\"/>\n",
              "  </svg>\n",
              "      </button>\n",
              "      \n",
              "  <style>\n",
              "    .colab-df-container {\n",
              "      display:flex;\n",
              "      flex-wrap:wrap;\n",
              "      gap: 12px;\n",
              "    }\n",
              "\n",
              "    .colab-df-convert {\n",
              "      background-color: #E8F0FE;\n",
              "      border: none;\n",
              "      border-radius: 50%;\n",
              "      cursor: pointer;\n",
              "      display: none;\n",
              "      fill: #1967D2;\n",
              "      height: 32px;\n",
              "      padding: 0 0 0 0;\n",
              "      width: 32px;\n",
              "    }\n",
              "\n",
              "    .colab-df-convert:hover {\n",
              "      background-color: #E2EBFA;\n",
              "      box-shadow: 0px 1px 2px rgba(60, 64, 67, 0.3), 0px 1px 3px 1px rgba(60, 64, 67, 0.15);\n",
              "      fill: #174EA6;\n",
              "    }\n",
              "\n",
              "    [theme=dark] .colab-df-convert {\n",
              "      background-color: #3B4455;\n",
              "      fill: #D2E3FC;\n",
              "    }\n",
              "\n",
              "    [theme=dark] .colab-df-convert:hover {\n",
              "      background-color: #434B5C;\n",
              "      box-shadow: 0px 1px 3px 1px rgba(0, 0, 0, 0.15);\n",
              "      filter: drop-shadow(0px 1px 2px rgba(0, 0, 0, 0.3));\n",
              "      fill: #FFFFFF;\n",
              "    }\n",
              "  </style>\n",
              "\n",
              "      <script>\n",
              "        const buttonEl =\n",
              "          document.querySelector('#df-494daa7b-3db8-4a5e-88b3-039fdb92c2a7 button.colab-df-convert');\n",
              "        buttonEl.style.display =\n",
              "          google.colab.kernel.accessAllowed ? 'block' : 'none';\n",
              "\n",
              "        async function convertToInteractive(key) {\n",
              "          const element = document.querySelector('#df-494daa7b-3db8-4a5e-88b3-039fdb92c2a7');\n",
              "          const dataTable =\n",
              "            await google.colab.kernel.invokeFunction('convertToInteractive',\n",
              "                                                     [key], {});\n",
              "          if (!dataTable) return;\n",
              "\n",
              "          const docLinkHtml = 'Like what you see? Visit the ' +\n",
              "            '<a target=\"_blank\" href=https://colab.research.google.com/notebooks/data_table.ipynb>data table notebook</a>'\n",
              "            + ' to learn more about interactive tables.';\n",
              "          element.innerHTML = '';\n",
              "          dataTable['output_type'] = 'display_data';\n",
              "          await google.colab.output.renderOutput(dataTable, element);\n",
              "          const docLink = document.createElement('div');\n",
              "          docLink.innerHTML = docLinkHtml;\n",
              "          element.appendChild(docLink);\n",
              "        }\n",
              "      </script>\n",
              "    </div>\n",
              "  </div>\n",
              "  "
            ]
          },
          "metadata": {},
          "execution_count": 34
        }
      ]
    },
    {
      "cell_type": "code",
      "source": [
        "# 문제와 답 분리\n",
        "X = weather[['date_time', 'temperature', 'precipitation', 'wind_speed', 'humidity', 'radiation', 'total_cloudiness', 'visibility', 'ground_temp']]\n",
        "y = aod['Power(kW) - Plot 0']"
      ],
      "metadata": {
        "id": "MmdVfMRLi5iP"
      },
      "execution_count": 35,
      "outputs": []
    },
    {
      "cell_type": "code",
      "source": [
        "# 훈련용과 평가용으로 데이터 분리\n",
        "# 비율은 8:2, randomstate = 504\n",
        "from sklearn.model_selection import train_test_split # 훈련용, 평가용으로 데이터 분리\n",
        "\n",
        "X_train, X_test, y_train, y_test = train_test_split(X, y, test_size=0.2, random_state=504)\n",
        "X_train.head()"
      ],
      "metadata": {
        "colab": {
          "base_uri": "https://localhost:8080/",
          "height": 206
        },
        "id": "vp6YuyDojjiG",
        "outputId": "1fcface1-3cdf-42b8-d73f-29dcc06976e9"
      },
      "execution_count": 36,
      "outputs": [
        {
          "output_type": "execute_result",
          "data": {
            "text/plain": [
              "     date_time  temperature  precipitation  wind_speed   humidity  radiation  \\\n",
              "487      72120    18.607171              0    0.188708  99.022224        0.0   \n",
              "351      65840    18.429063              0    0.625102  99.020107        0.0   \n",
              "840      82010    18.962048              0    0.318916  99.026021        0.0   \n",
              "452      71530    18.826980              0    0.525701  99.026600        0.0   \n",
              "154      62550    18.077350              0    0.693414  98.965130        0.0   \n",
              "\n",
              "     total_cloudiness   visibility  ground_temp  \n",
              "487          5.607489  1874.384759    21.486196  \n",
              "351          6.989410  1916.657663    20.027758  \n",
              "840          8.694109  1866.711442    22.204734  \n",
              "452          6.094614  1906.411195    21.675183  \n",
              "154          6.962360  1616.185930    20.992935  "
            ],
            "text/html": [
              "\n",
              "  <div id=\"df-8d3a7495-3290-4069-a316-e9738543865b\">\n",
              "    <div class=\"colab-df-container\">\n",
              "      <div>\n",
              "<style scoped>\n",
              "    .dataframe tbody tr th:only-of-type {\n",
              "        vertical-align: middle;\n",
              "    }\n",
              "\n",
              "    .dataframe tbody tr th {\n",
              "        vertical-align: top;\n",
              "    }\n",
              "\n",
              "    .dataframe thead th {\n",
              "        text-align: right;\n",
              "    }\n",
              "</style>\n",
              "<table border=\"1\" class=\"dataframe\">\n",
              "  <thead>\n",
              "    <tr style=\"text-align: right;\">\n",
              "      <th></th>\n",
              "      <th>date_time</th>\n",
              "      <th>temperature</th>\n",
              "      <th>precipitation</th>\n",
              "      <th>wind_speed</th>\n",
              "      <th>humidity</th>\n",
              "      <th>radiation</th>\n",
              "      <th>total_cloudiness</th>\n",
              "      <th>visibility</th>\n",
              "      <th>ground_temp</th>\n",
              "    </tr>\n",
              "  </thead>\n",
              "  <tbody>\n",
              "    <tr>\n",
              "      <th>487</th>\n",
              "      <td>72120</td>\n",
              "      <td>18.607171</td>\n",
              "      <td>0</td>\n",
              "      <td>0.188708</td>\n",
              "      <td>99.022224</td>\n",
              "      <td>0.0</td>\n",
              "      <td>5.607489</td>\n",
              "      <td>1874.384759</td>\n",
              "      <td>21.486196</td>\n",
              "    </tr>\n",
              "    <tr>\n",
              "      <th>351</th>\n",
              "      <td>65840</td>\n",
              "      <td>18.429063</td>\n",
              "      <td>0</td>\n",
              "      <td>0.625102</td>\n",
              "      <td>99.020107</td>\n",
              "      <td>0.0</td>\n",
              "      <td>6.989410</td>\n",
              "      <td>1916.657663</td>\n",
              "      <td>20.027758</td>\n",
              "    </tr>\n",
              "    <tr>\n",
              "      <th>840</th>\n",
              "      <td>82010</td>\n",
              "      <td>18.962048</td>\n",
              "      <td>0</td>\n",
              "      <td>0.318916</td>\n",
              "      <td>99.026021</td>\n",
              "      <td>0.0</td>\n",
              "      <td>8.694109</td>\n",
              "      <td>1866.711442</td>\n",
              "      <td>22.204734</td>\n",
              "    </tr>\n",
              "    <tr>\n",
              "      <th>452</th>\n",
              "      <td>71530</td>\n",
              "      <td>18.826980</td>\n",
              "      <td>0</td>\n",
              "      <td>0.525701</td>\n",
              "      <td>99.026600</td>\n",
              "      <td>0.0</td>\n",
              "      <td>6.094614</td>\n",
              "      <td>1906.411195</td>\n",
              "      <td>21.675183</td>\n",
              "    </tr>\n",
              "    <tr>\n",
              "      <th>154</th>\n",
              "      <td>62550</td>\n",
              "      <td>18.077350</td>\n",
              "      <td>0</td>\n",
              "      <td>0.693414</td>\n",
              "      <td>98.965130</td>\n",
              "      <td>0.0</td>\n",
              "      <td>6.962360</td>\n",
              "      <td>1616.185930</td>\n",
              "      <td>20.992935</td>\n",
              "    </tr>\n",
              "  </tbody>\n",
              "</table>\n",
              "</div>\n",
              "      <button class=\"colab-df-convert\" onclick=\"convertToInteractive('df-8d3a7495-3290-4069-a316-e9738543865b')\"\n",
              "              title=\"Convert this dataframe to an interactive table.\"\n",
              "              style=\"display:none;\">\n",
              "        \n",
              "  <svg xmlns=\"http://www.w3.org/2000/svg\" height=\"24px\"viewBox=\"0 0 24 24\"\n",
              "       width=\"24px\">\n",
              "    <path d=\"M0 0h24v24H0V0z\" fill=\"none\"/>\n",
              "    <path d=\"M18.56 5.44l.94 2.06.94-2.06 2.06-.94-2.06-.94-.94-2.06-.94 2.06-2.06.94zm-11 1L8.5 8.5l.94-2.06 2.06-.94-2.06-.94L8.5 2.5l-.94 2.06-2.06.94zm10 10l.94 2.06.94-2.06 2.06-.94-2.06-.94-.94-2.06-.94 2.06-2.06.94z\"/><path d=\"M17.41 7.96l-1.37-1.37c-.4-.4-.92-.59-1.43-.59-.52 0-1.04.2-1.43.59L10.3 9.45l-7.72 7.72c-.78.78-.78 2.05 0 2.83L4 21.41c.39.39.9.59 1.41.59.51 0 1.02-.2 1.41-.59l7.78-7.78 2.81-2.81c.8-.78.8-2.07 0-2.86zM5.41 20L4 18.59l7.72-7.72 1.47 1.35L5.41 20z\"/>\n",
              "  </svg>\n",
              "      </button>\n",
              "      \n",
              "  <style>\n",
              "    .colab-df-container {\n",
              "      display:flex;\n",
              "      flex-wrap:wrap;\n",
              "      gap: 12px;\n",
              "    }\n",
              "\n",
              "    .colab-df-convert {\n",
              "      background-color: #E8F0FE;\n",
              "      border: none;\n",
              "      border-radius: 50%;\n",
              "      cursor: pointer;\n",
              "      display: none;\n",
              "      fill: #1967D2;\n",
              "      height: 32px;\n",
              "      padding: 0 0 0 0;\n",
              "      width: 32px;\n",
              "    }\n",
              "\n",
              "    .colab-df-convert:hover {\n",
              "      background-color: #E2EBFA;\n",
              "      box-shadow: 0px 1px 2px rgba(60, 64, 67, 0.3), 0px 1px 3px 1px rgba(60, 64, 67, 0.15);\n",
              "      fill: #174EA6;\n",
              "    }\n",
              "\n",
              "    [theme=dark] .colab-df-convert {\n",
              "      background-color: #3B4455;\n",
              "      fill: #D2E3FC;\n",
              "    }\n",
              "\n",
              "    [theme=dark] .colab-df-convert:hover {\n",
              "      background-color: #434B5C;\n",
              "      box-shadow: 0px 1px 3px 1px rgba(0, 0, 0, 0.15);\n",
              "      filter: drop-shadow(0px 1px 2px rgba(0, 0, 0, 0.3));\n",
              "      fill: #FFFFFF;\n",
              "    }\n",
              "  </style>\n",
              "\n",
              "      <script>\n",
              "        const buttonEl =\n",
              "          document.querySelector('#df-8d3a7495-3290-4069-a316-e9738543865b button.colab-df-convert');\n",
              "        buttonEl.style.display =\n",
              "          google.colab.kernel.accessAllowed ? 'block' : 'none';\n",
              "\n",
              "        async function convertToInteractive(key) {\n",
              "          const element = document.querySelector('#df-8d3a7495-3290-4069-a316-e9738543865b');\n",
              "          const dataTable =\n",
              "            await google.colab.kernel.invokeFunction('convertToInteractive',\n",
              "                                                     [key], {});\n",
              "          if (!dataTable) return;\n",
              "\n",
              "          const docLinkHtml = 'Like what you see? Visit the ' +\n",
              "            '<a target=\"_blank\" href=https://colab.research.google.com/notebooks/data_table.ipynb>data table notebook</a>'\n",
              "            + ' to learn more about interactive tables.';\n",
              "          element.innerHTML = '';\n",
              "          dataTable['output_type'] = 'display_data';\n",
              "          await google.colab.output.renderOutput(dataTable, element);\n",
              "          const docLink = document.createElement('div');\n",
              "          docLink.innerHTML = docLinkHtml;\n",
              "          element.appendChild(docLink);\n",
              "        }\n",
              "      </script>\n",
              "    </div>\n",
              "  </div>\n",
              "  "
            ]
          },
          "metadata": {},
          "execution_count": 36
        }
      ]
    },
    {
      "cell_type": "code",
      "source": [
        "s_pred_model.fit(X_train, y_train)  # 지도학습 방법 (회귀)"
      ],
      "metadata": {
        "colab": {
          "base_uri": "https://localhost:8080/"
        },
        "id": "GsIGaUCtkDHV",
        "outputId": "eac2dbac-87bb-4f9e-cdb7-90dbc6dc8959"
      },
      "execution_count": 37,
      "outputs": [
        {
          "output_type": "execute_result",
          "data": {
            "text/plain": [
              "LinearRegression()"
            ]
          },
          "metadata": {},
          "execution_count": 37
        }
      ]
    },
    {
      "cell_type": "code",
      "source": [
        "# 선형 모델이 입력 특성에 대해 학습한 가중치\n",
        "s_pred_model.coef_"
      ],
      "metadata": {
        "colab": {
          "base_uri": "https://localhost:8080/"
        },
        "id": "UBNHTNitmNKp",
        "outputId": "54c75e0a-e701-43a9-bbb8-b3381704d215"
      },
      "execution_count": 41,
      "outputs": [
        {
          "output_type": "execute_result",
          "data": {
            "text/plain": [
              "array([ 1.05507280e-02, -6.51981954e+00, -2.78888024e-13, -8.24731949e+00,\n",
              "       -6.48316378e+00, -5.08634019e+02, -1.05400045e+01,  3.01180267e-02,\n",
              "       -8.76604434e+00])"
            ]
          },
          "metadata": {},
          "execution_count": 41
        }
      ]
    },
    {
      "cell_type": "code",
      "source": [
        "# 절편\n",
        "s_pred_model.intercept_"
      ],
      "metadata": {
        "colab": {
          "base_uri": "https://localhost:8080/"
        },
        "id": "gCPtFQZWm6Oo",
        "outputId": "8fe266e4-61c4-4247-f0ec-9c057505974c"
      },
      "execution_count": 42,
      "outputs": [
        {
          "output_type": "execute_result",
          "data": {
            "text/plain": [
              "370.84706185750724"
            ]
          },
          "metadata": {},
          "execution_count": 42
        }
      ]
    },
    {
      "cell_type": "code",
      "source": [
        "# 모델 \n",
        "s_pre = s_pred_model.predict(X_test)"
      ],
      "metadata": {
        "id": "Zvjo-IipnFbA"
      },
      "execution_count": 44,
      "outputs": []
    },
    {
      "cell_type": "code",
      "source": [
        "from sklearn.metrics import mean_absolute_error # 평균 절대값 오차"
      ],
      "metadata": {
        "id": "F_W22kehnSmv"
      },
      "execution_count": 45,
      "outputs": []
    },
    {
      "cell_type": "code",
      "source": [
        "s_pred_model.score(X_test, y_test) # 평가용 문제, 평가용 답"
      ],
      "metadata": {
        "colab": {
          "base_uri": "https://localhost:8080/"
        },
        "id": "39tPsktsnU_X",
        "outputId": "2329a491-4121-4773-d196-d5402a6276b9"
      },
      "execution_count": 46,
      "outputs": [
        {
          "output_type": "execute_result",
          "data": {
            "text/plain": [
              "0.9188698868281694"
            ]
          },
          "metadata": {},
          "execution_count": 46
        }
      ]
    },
    {
      "cell_type": "code",
      "source": [
        "!pip install joblib"
      ],
      "metadata": {
        "colab": {
          "base_uri": "https://localhost:8080/"
        },
        "id": "XL9QgnI0zm-S",
        "outputId": "d09dfb9b-0918-4133-84ec-ac97be649491"
      },
      "execution_count": 86,
      "outputs": [
        {
          "output_type": "stream",
          "name": "stdout",
          "text": [
            "Requirement already satisfied: joblib in /usr/local/lib/python3.7/dist-packages (1.1.0)\n"
          ]
        }
      ]
    },
    {
      "cell_type": "code",
      "source": [
        "# 모델 저장\n",
        "import pickle\n",
        "with open('s_model.pickle', 'wb') as f:\n",
        "    pickle.dump(s_pred_model, f, pickle.HIGHEST_PROTOCOL)"
      ],
      "metadata": {
        "id": "8ksWUCYgnn6H"
      },
      "execution_count": 87,
      "outputs": []
    },
    {
      "cell_type": "code",
      "source": [
        "with open('s_model.pickle', 'rb') as f:\n",
        "    new_model = pickle.load(f)"
      ],
      "metadata": {
        "id": "MzXwfXVi0Uf1"
      },
      "execution_count": 88,
      "outputs": []
    },
    {
      "cell_type": "code",
      "source": [
        "new_model.predict(X_test)"
      ],
      "metadata": {
        "colab": {
          "base_uri": "https://localhost:8080/"
        },
        "id": "5ZmTP3bt0b6n",
        "outputId": "6122bdf6-c3d3-4e3b-9d2d-ba855c53cbd4"
      },
      "execution_count": 89,
      "outputs": [
        {
          "output_type": "execute_result",
          "data": {
            "text/plain": [
              "array([257.42762593, 197.29113573, 219.71791131, 204.27771486,\n",
              "       260.60117023, 195.94469588, 102.51395712, 167.90683324,\n",
              "       252.82885858, 165.74533053, 233.67669186,  64.55266503,\n",
              "       109.43165154, 177.14296342, 272.59309268, 219.84212345,\n",
              "       262.94310794, 173.7322545 , 154.19291105,  70.75179258,\n",
              "       241.33512025, 209.19907132, 193.60735286, 158.64444716,\n",
              "        84.07632357, 275.10355688, 173.26719142, 262.72000709,\n",
              "       246.04721551, 267.43283991,  61.05757579, 103.37471303,\n",
              "        70.26135334, 200.92639332, 184.53513522, 239.82766644,\n",
              "       269.4608716 , 205.8963807 , 239.53449033, 205.63047749,\n",
              "        41.71629738,  61.87249615,  49.1807198 ,  84.2152312 ,\n",
              "       245.77456919, 205.61230373, 176.2013712 ,  41.72282551,\n",
              "       180.78489366,  68.04888342, 268.65628062, 183.44464374,\n",
              "       220.72430439, 169.64781155, 239.86776599, 265.80517978,\n",
              "        65.8550563 , 205.20339169, 172.70889952,  91.32552766,\n",
              "       218.83372207, 152.76689734, 278.61700111, 224.02658515,\n",
              "       222.76173763, 169.26618628,  76.34150764, 153.84726604,\n",
              "       154.56374189,  61.71829166, 167.37026979, 240.49643921,\n",
              "       237.07905466, 249.20917875,  58.50363699, 203.93821479,\n",
              "       107.64371756, 176.57874192,  70.17963971, 200.34299543,\n",
              "       186.99613763, 206.44586969,  90.35743877, 244.27552292,\n",
              "       167.51092504, 228.75662582, 154.56005486, 214.99469459,\n",
              "        75.02805508,  77.37675538, 172.60322818,  53.14457763,\n",
              "       219.7431433 , 207.1391959 , 183.15271158, 272.87152038,\n",
              "        82.68106807,  63.52380182, 211.1464791 , 234.58751621,\n",
              "        68.20027642,  48.33125771,  83.4589497 , 287.37724055,\n",
              "       239.74968428,  44.07780113,  46.33271851, 223.35199614,\n",
              "       214.5384824 , 282.73810353,  85.05018939,  65.39068437,\n",
              "        62.37596142, 156.90236872, 177.02613687, 156.81647039,\n",
              "       224.7214957 , 103.7674518 ,  85.78651651,  67.53490445,\n",
              "       264.82827344,  63.16822634, 150.3919362 , 240.11611653,\n",
              "       173.8629984 ,  81.26965355, 164.81306729, 158.20921694,\n",
              "       226.05930497,  44.06933082, 258.05792314,  84.37336895,\n",
              "       195.41746726, 210.56628067, 170.31381181,  53.12427865,\n",
              "        73.48216781,  90.1946347 , 195.71387353, 252.00645131,\n",
              "        99.76296083,  53.55825177,  92.48544292, 282.05785079,\n",
              "       290.77653257,  72.83297552, 158.31753074,  58.2996129 ,\n",
              "        83.56113082, 189.97954196, 196.03790396, 188.73680869,\n",
              "       233.07102118,  56.4199854 , 214.202378  , 211.10307591,\n",
              "       215.02509424,  95.07423946, 228.04032014, 222.15069239,\n",
              "        36.5140051 , 188.8946701 , 244.45939248, 187.53021912,\n",
              "       251.60018297,  47.28488085, 174.44320182,  70.13770091,\n",
              "       196.58281682, 233.89626035, 251.93012926,  55.66471352,\n",
              "        82.75259657, 243.81393081, 293.68742752, 162.53122264,\n",
              "       231.9430571 , 273.54811103, 161.86357047,  47.87351089,\n",
              "       157.75321496,  93.99462887, 171.62926787, 101.98463502,\n",
              "       271.22718616, 197.97112009,  89.39626945,  73.75367472,\n",
              "       232.68126243, 178.7515682 , 159.40681977, 165.84355868,\n",
              "       168.52331806, 168.57149491, 160.19259634, 157.41902594,\n",
              "       159.41139981, 176.12167675, 185.82802142, 259.02865586,\n",
              "       173.59926973, 202.30176449,  68.9192879 ,  51.15075049,\n",
              "       208.88048284,  34.83395897, 233.32554116, 241.72391987,\n",
              "       205.09304905,  78.94143613,  50.01634339,  92.04370087,\n",
              "       218.32614885, 171.76850375,  46.88309932,  70.80354595])"
            ]
          },
          "metadata": {},
          "execution_count": 89
        }
      ]
    },
    {
      "cell_type": "code",
      "source": [
        "test = pd.read_csv('./data/weather_050409.csv', encoding='utf-8')\n",
        "test"
      ],
      "metadata": {
        "colab": {
          "base_uri": "https://localhost:8080/",
          "height": 424
        },
        "id": "z5j-LDusth1V",
        "outputId": "1fbdfc52-fb58-4755-8c78-fc5ba4bec11e"
      },
      "execution_count": 70,
      "outputs": [
        {
          "output_type": "execute_result",
          "data": {
            "text/plain": [
              "     date_time  temperature  precipitation  wind_speed   humidity  radiation  \\\n",
              "0        90000    20.938822              0    0.300982  96.912220   0.109630   \n",
              "1        90010    20.294810              0    0.358722  92.907333   0.070291   \n",
              "2        90020    20.257064              0    0.407594  98.447857   0.116916   \n",
              "3        90030    19.652657              0    0.444139  93.621594   0.094525   \n",
              "4        90040    20.635626              0    0.298696  93.618658   0.088545   \n",
              "..         ...          ...            ...         ...        ...        ...   \n",
              "356      95920    19.880623              0    0.492466  93.381098   0.040413   \n",
              "357      95930    20.276046              0    0.387107  92.974195   0.012187   \n",
              "358      95940    20.520093              0    0.375380  93.198160  -0.014780   \n",
              "359      95950    20.072582              0    0.422769  97.585123   0.048698   \n",
              "360     100000    22.495733              0    0.666184  85.449828   0.001653   \n",
              "\n",
              "     total_cloudiness   visibility  ground_temp  \n",
              "0           10.010055  1999.981606    24.878155  \n",
              "1            9.954438  2000.023331    27.982545  \n",
              "2            9.974488  1999.983233    26.390490  \n",
              "3            9.950634  1999.990252    26.321891  \n",
              "4           10.017615  2000.055380    24.784456  \n",
              "..                ...          ...          ...  \n",
              "356          9.930506  1999.906247    27.752585  \n",
              "357          9.953285  2000.054798    26.961847  \n",
              "358         10.025929  2000.026368    25.958624  \n",
              "359         10.046478  1999.953497    27.816882  \n",
              "360          9.917301  1999.934541    28.898756  \n",
              "\n",
              "[361 rows x 9 columns]"
            ],
            "text/html": [
              "\n",
              "  <div id=\"df-a5fc49a7-4c0a-439b-bbaf-584d75f5c4e2\">\n",
              "    <div class=\"colab-df-container\">\n",
              "      <div>\n",
              "<style scoped>\n",
              "    .dataframe tbody tr th:only-of-type {\n",
              "        vertical-align: middle;\n",
              "    }\n",
              "\n",
              "    .dataframe tbody tr th {\n",
              "        vertical-align: top;\n",
              "    }\n",
              "\n",
              "    .dataframe thead th {\n",
              "        text-align: right;\n",
              "    }\n",
              "</style>\n",
              "<table border=\"1\" class=\"dataframe\">\n",
              "  <thead>\n",
              "    <tr style=\"text-align: right;\">\n",
              "      <th></th>\n",
              "      <th>date_time</th>\n",
              "      <th>temperature</th>\n",
              "      <th>precipitation</th>\n",
              "      <th>wind_speed</th>\n",
              "      <th>humidity</th>\n",
              "      <th>radiation</th>\n",
              "      <th>total_cloudiness</th>\n",
              "      <th>visibility</th>\n",
              "      <th>ground_temp</th>\n",
              "    </tr>\n",
              "  </thead>\n",
              "  <tbody>\n",
              "    <tr>\n",
              "      <th>0</th>\n",
              "      <td>90000</td>\n",
              "      <td>20.938822</td>\n",
              "      <td>0</td>\n",
              "      <td>0.300982</td>\n",
              "      <td>96.912220</td>\n",
              "      <td>0.109630</td>\n",
              "      <td>10.010055</td>\n",
              "      <td>1999.981606</td>\n",
              "      <td>24.878155</td>\n",
              "    </tr>\n",
              "    <tr>\n",
              "      <th>1</th>\n",
              "      <td>90010</td>\n",
              "      <td>20.294810</td>\n",
              "      <td>0</td>\n",
              "      <td>0.358722</td>\n",
              "      <td>92.907333</td>\n",
              "      <td>0.070291</td>\n",
              "      <td>9.954438</td>\n",
              "      <td>2000.023331</td>\n",
              "      <td>27.982545</td>\n",
              "    </tr>\n",
              "    <tr>\n",
              "      <th>2</th>\n",
              "      <td>90020</td>\n",
              "      <td>20.257064</td>\n",
              "      <td>0</td>\n",
              "      <td>0.407594</td>\n",
              "      <td>98.447857</td>\n",
              "      <td>0.116916</td>\n",
              "      <td>9.974488</td>\n",
              "      <td>1999.983233</td>\n",
              "      <td>26.390490</td>\n",
              "    </tr>\n",
              "    <tr>\n",
              "      <th>3</th>\n",
              "      <td>90030</td>\n",
              "      <td>19.652657</td>\n",
              "      <td>0</td>\n",
              "      <td>0.444139</td>\n",
              "      <td>93.621594</td>\n",
              "      <td>0.094525</td>\n",
              "      <td>9.950634</td>\n",
              "      <td>1999.990252</td>\n",
              "      <td>26.321891</td>\n",
              "    </tr>\n",
              "    <tr>\n",
              "      <th>4</th>\n",
              "      <td>90040</td>\n",
              "      <td>20.635626</td>\n",
              "      <td>0</td>\n",
              "      <td>0.298696</td>\n",
              "      <td>93.618658</td>\n",
              "      <td>0.088545</td>\n",
              "      <td>10.017615</td>\n",
              "      <td>2000.055380</td>\n",
              "      <td>24.784456</td>\n",
              "    </tr>\n",
              "    <tr>\n",
              "      <th>...</th>\n",
              "      <td>...</td>\n",
              "      <td>...</td>\n",
              "      <td>...</td>\n",
              "      <td>...</td>\n",
              "      <td>...</td>\n",
              "      <td>...</td>\n",
              "      <td>...</td>\n",
              "      <td>...</td>\n",
              "      <td>...</td>\n",
              "    </tr>\n",
              "    <tr>\n",
              "      <th>356</th>\n",
              "      <td>95920</td>\n",
              "      <td>19.880623</td>\n",
              "      <td>0</td>\n",
              "      <td>0.492466</td>\n",
              "      <td>93.381098</td>\n",
              "      <td>0.040413</td>\n",
              "      <td>9.930506</td>\n",
              "      <td>1999.906247</td>\n",
              "      <td>27.752585</td>\n",
              "    </tr>\n",
              "    <tr>\n",
              "      <th>357</th>\n",
              "      <td>95930</td>\n",
              "      <td>20.276046</td>\n",
              "      <td>0</td>\n",
              "      <td>0.387107</td>\n",
              "      <td>92.974195</td>\n",
              "      <td>0.012187</td>\n",
              "      <td>9.953285</td>\n",
              "      <td>2000.054798</td>\n",
              "      <td>26.961847</td>\n",
              "    </tr>\n",
              "    <tr>\n",
              "      <th>358</th>\n",
              "      <td>95940</td>\n",
              "      <td>20.520093</td>\n",
              "      <td>0</td>\n",
              "      <td>0.375380</td>\n",
              "      <td>93.198160</td>\n",
              "      <td>-0.014780</td>\n",
              "      <td>10.025929</td>\n",
              "      <td>2000.026368</td>\n",
              "      <td>25.958624</td>\n",
              "    </tr>\n",
              "    <tr>\n",
              "      <th>359</th>\n",
              "      <td>95950</td>\n",
              "      <td>20.072582</td>\n",
              "      <td>0</td>\n",
              "      <td>0.422769</td>\n",
              "      <td>97.585123</td>\n",
              "      <td>0.048698</td>\n",
              "      <td>10.046478</td>\n",
              "      <td>1999.953497</td>\n",
              "      <td>27.816882</td>\n",
              "    </tr>\n",
              "    <tr>\n",
              "      <th>360</th>\n",
              "      <td>100000</td>\n",
              "      <td>22.495733</td>\n",
              "      <td>0</td>\n",
              "      <td>0.666184</td>\n",
              "      <td>85.449828</td>\n",
              "      <td>0.001653</td>\n",
              "      <td>9.917301</td>\n",
              "      <td>1999.934541</td>\n",
              "      <td>28.898756</td>\n",
              "    </tr>\n",
              "  </tbody>\n",
              "</table>\n",
              "<p>361 rows × 9 columns</p>\n",
              "</div>\n",
              "      <button class=\"colab-df-convert\" onclick=\"convertToInteractive('df-a5fc49a7-4c0a-439b-bbaf-584d75f5c4e2')\"\n",
              "              title=\"Convert this dataframe to an interactive table.\"\n",
              "              style=\"display:none;\">\n",
              "        \n",
              "  <svg xmlns=\"http://www.w3.org/2000/svg\" height=\"24px\"viewBox=\"0 0 24 24\"\n",
              "       width=\"24px\">\n",
              "    <path d=\"M0 0h24v24H0V0z\" fill=\"none\"/>\n",
              "    <path d=\"M18.56 5.44l.94 2.06.94-2.06 2.06-.94-2.06-.94-.94-2.06-.94 2.06-2.06.94zm-11 1L8.5 8.5l.94-2.06 2.06-.94-2.06-.94L8.5 2.5l-.94 2.06-2.06.94zm10 10l.94 2.06.94-2.06 2.06-.94-2.06-.94-.94-2.06-.94 2.06-2.06.94z\"/><path d=\"M17.41 7.96l-1.37-1.37c-.4-.4-.92-.59-1.43-.59-.52 0-1.04.2-1.43.59L10.3 9.45l-7.72 7.72c-.78.78-.78 2.05 0 2.83L4 21.41c.39.39.9.59 1.41.59.51 0 1.02-.2 1.41-.59l7.78-7.78 2.81-2.81c.8-.78.8-2.07 0-2.86zM5.41 20L4 18.59l7.72-7.72 1.47 1.35L5.41 20z\"/>\n",
              "  </svg>\n",
              "      </button>\n",
              "      \n",
              "  <style>\n",
              "    .colab-df-container {\n",
              "      display:flex;\n",
              "      flex-wrap:wrap;\n",
              "      gap: 12px;\n",
              "    }\n",
              "\n",
              "    .colab-df-convert {\n",
              "      background-color: #E8F0FE;\n",
              "      border: none;\n",
              "      border-radius: 50%;\n",
              "      cursor: pointer;\n",
              "      display: none;\n",
              "      fill: #1967D2;\n",
              "      height: 32px;\n",
              "      padding: 0 0 0 0;\n",
              "      width: 32px;\n",
              "    }\n",
              "\n",
              "    .colab-df-convert:hover {\n",
              "      background-color: #E2EBFA;\n",
              "      box-shadow: 0px 1px 2px rgba(60, 64, 67, 0.3), 0px 1px 3px 1px rgba(60, 64, 67, 0.15);\n",
              "      fill: #174EA6;\n",
              "    }\n",
              "\n",
              "    [theme=dark] .colab-df-convert {\n",
              "      background-color: #3B4455;\n",
              "      fill: #D2E3FC;\n",
              "    }\n",
              "\n",
              "    [theme=dark] .colab-df-convert:hover {\n",
              "      background-color: #434B5C;\n",
              "      box-shadow: 0px 1px 3px 1px rgba(0, 0, 0, 0.15);\n",
              "      filter: drop-shadow(0px 1px 2px rgba(0, 0, 0, 0.3));\n",
              "      fill: #FFFFFF;\n",
              "    }\n",
              "  </style>\n",
              "\n",
              "      <script>\n",
              "        const buttonEl =\n",
              "          document.querySelector('#df-a5fc49a7-4c0a-439b-bbaf-584d75f5c4e2 button.colab-df-convert');\n",
              "        buttonEl.style.display =\n",
              "          google.colab.kernel.accessAllowed ? 'block' : 'none';\n",
              "\n",
              "        async function convertToInteractive(key) {\n",
              "          const element = document.querySelector('#df-a5fc49a7-4c0a-439b-bbaf-584d75f5c4e2');\n",
              "          const dataTable =\n",
              "            await google.colab.kernel.invokeFunction('convertToInteractive',\n",
              "                                                     [key], {});\n",
              "          if (!dataTable) return;\n",
              "\n",
              "          const docLinkHtml = 'Like what you see? Visit the ' +\n",
              "            '<a target=\"_blank\" href=https://colab.research.google.com/notebooks/data_table.ipynb>data table notebook</a>'\n",
              "            + ' to learn more about interactive tables.';\n",
              "          element.innerHTML = '';\n",
              "          dataTable['output_type'] = 'display_data';\n",
              "          await google.colab.output.renderOutput(dataTable, element);\n",
              "          const docLink = document.createElement('div');\n",
              "          docLink.innerHTML = docLinkHtml;\n",
              "          element.appendChild(docLink);\n",
              "        }\n",
              "      </script>\n",
              "    </div>\n",
              "  </div>\n",
              "  "
            ]
          },
          "metadata": {},
          "execution_count": 70
        }
      ]
    },
    {
      "cell_type": "code",
      "source": [
        "s_test = s_pred_model.predict(test)"
      ],
      "metadata": {
        "id": "sEpBs8witsUU"
      },
      "execution_count": 71,
      "outputs": []
    },
    {
      "cell_type": "code",
      "source": [
        "s_ans = pd.read_csv('./data/aod_050410.csv', encoding='utf-8')"
      ],
      "metadata": {
        "id": "aGGBie-et0LM"
      },
      "execution_count": 81,
      "outputs": []
    },
    {
      "cell_type": "code",
      "source": [
        "s_ans = ans['Power(kW) - Plot 0']\n",
        "s_ans"
      ],
      "metadata": {
        "colab": {
          "base_uri": "https://localhost:8080/"
        },
        "id": "7nTMiQp6tw5U",
        "outputId": "28fd4b2f-ce5d-4e79-efc8-a9ac894d40c7"
      },
      "execution_count": 76,
      "outputs": [
        {
          "output_type": "execute_result",
          "data": {
            "text/plain": [
              "0      233.825\n",
              "1      233.651\n",
              "2      233.476\n",
              "3      233.302\n",
              "4      233.127\n",
              "        ...   \n",
              "355    171.838\n",
              "356    171.664\n",
              "357    171.489\n",
              "358    171.315\n",
              "359    171.140\n",
              "Name: Power(kW) - Plot 0, Length: 360, dtype: float64"
            ]
          },
          "metadata": {},
          "execution_count": 76
        }
      ]
    },
    {
      "cell_type": "code",
      "source": [
        "s_test"
      ],
      "metadata": {
        "colab": {
          "base_uri": "https://localhost:8080/"
        },
        "id": "tFV63hv3vf3K",
        "outputId": "ef2b9687-df7d-4f75-e28c-a136d9131f80"
      },
      "execution_count": 83,
      "outputs": [
        {
          "output_type": "execute_result",
          "data": {
            "text/plain": [
              "array([234.        , 257.17599782, 211.23292817, 258.50877184,\n",
              "       269.23890065, 286.3761158 , 240.29943086, 302.71089274,\n",
              "       262.7278005 , 249.16739505, 270.05633522, 252.80187636,\n",
              "       269.84066178, 298.65324049, 267.99986933, 231.9397543 ,\n",
              "       273.88188849, 237.42112985, 252.38099135, 247.07369775,\n",
              "       283.87911814, 317.34019046, 231.09147735, 238.95379115,\n",
              "       241.87885352, 291.47173792, 300.51578491, 248.27764351,\n",
              "       293.42039223, 290.03286096, 311.25643921, 272.2335201 ,\n",
              "       277.87507298, 278.51710691, 314.90267998, 275.96769075,\n",
              "       274.09449354, 310.74041731, 276.21505226, 277.59378603,\n",
              "       291.92311366, 288.31053989, 285.33251948, 245.18084874,\n",
              "       279.91797698, 289.25362481, 256.35646779, 326.2735183 ,\n",
              "       284.42662359, 285.97835516, 271.3875896 , 293.68857824,\n",
              "       264.98845612, 248.42017163, 280.29398232, 301.04954276,\n",
              "       288.27075891, 229.71405476, 235.73252189, 292.30615847,\n",
              "       298.40047049, 281.12601469, 237.5093613 , 288.56386756,\n",
              "       287.65544552, 245.39271412, 323.67690202, 283.2468952 ,\n",
              "       298.3692739 , 272.31246203, 313.06552814, 287.30692399,\n",
              "       284.71606337, 297.03842287, 282.03458198, 292.23618027,\n",
              "       280.35088251, 293.97941688, 310.56875202, 285.83670291,\n",
              "       289.19075752, 253.94783783, 309.32909813, 318.47176019,\n",
              "       294.38398009, 262.52152955, 265.17027272, 300.13472985,\n",
              "       287.35452872, 300.01568871, 284.0660533 , 269.62917357,\n",
              "       281.50715588, 313.78242593, 275.30314372, 280.37007628,\n",
              "       274.51168484, 249.36335446, 260.7981984 , 251.0334657 ,\n",
              "       243.04025649, 237.22486831, 248.90686751, 315.06936058,\n",
              "       273.99575529, 301.84717318, 307.33708262, 274.88655638,\n",
              "       280.29602061, 305.6290259 , 275.55355691, 324.42164196,\n",
              "       265.66292165, 267.47054406, 294.82856414, 273.6570566 ,\n",
              "       290.07240585, 297.70122948, 303.44634192, 286.14580508,\n",
              "       279.42470567, 265.69683758, 240.74764805, 310.77377758,\n",
              "       264.83640995, 281.81945426, 335.62370719, 217.97369953,\n",
              "       309.07110089, 295.12102224, 281.29969118, 277.05864505,\n",
              "       268.67307098, 288.84037818, 317.94308305, 273.77612678,\n",
              "       277.82355156, 315.73036225, 313.98411583, 291.91327794,\n",
              "       300.72303837, 296.81014114, 277.20130206, 298.22947878,\n",
              "       334.27159387, 300.31797095, 274.59440384, 322.60049886,\n",
              "       288.91604617, 285.2913915 , 272.64425957, 282.031901  ,\n",
              "       274.23576245, 304.20407605, 329.65990553, 295.90955094,\n",
              "       299.68223489, 281.79531199, 300.66967441, 312.75348065,\n",
              "       286.31106069, 321.77038742, 323.47154681, 302.58201253,\n",
              "       342.79539451, 342.40974965, 330.5446252 , 294.50380374,\n",
              "       270.97714134, 325.30068432, 321.70486114, 280.90845241,\n",
              "       285.32418681, 274.79809323, 350.12184741, 292.51919426,\n",
              "       263.58623066, 282.1733168 , 331.89117971, 291.28380722,\n",
              "       299.46679041, 305.1365734 , 359.59190214, 297.02611284,\n",
              "       278.6979352 , 294.86021062, 316.39505149, 286.39804998,\n",
              "       277.93589954, 260.56822298, 280.30344505, 317.48691643,\n",
              "       298.13747906, 323.4912573 , 263.76253694, 292.15255909,\n",
              "       312.76799499, 301.29830929, 267.4812168 , 333.94599176,\n",
              "       322.87253625, 275.04329562, 330.32952385, 318.79163963,\n",
              "       291.33042254, 340.40430019, 294.86567529, 311.34541733,\n",
              "       297.58603041, 274.29606886, 337.05935544, 287.45994035,\n",
              "       292.40415623, 292.63598582, 274.37042791, 275.85372289,\n",
              "       278.59538389, 297.14595704, 333.13795724, 355.0375616 ,\n",
              "       286.70281901, 275.08423218, 321.83452629, 264.69458948,\n",
              "       297.22991936, 267.99784395, 305.6091012 , 315.55915411,\n",
              "       336.67743609, 308.37366614, 313.45746357, 288.02451617,\n",
              "       356.37002174, 328.68392653, 315.97924175, 294.1861383 ,\n",
              "       302.21408057, 307.60568187, 284.60723203, 270.1647327 ,\n",
              "       346.6915639 , 352.40587642, 330.45384035, 274.22900681,\n",
              "       283.52340742, 333.66730079, 281.40524547, 285.42988854,\n",
              "       315.83051155, 303.7600088 , 312.69601593, 282.03279058,\n",
              "       287.75199709, 290.10044919, 286.2724695 , 262.5038347 ,\n",
              "       318.84595528, 286.01513412, 273.15472493, 300.01708329,\n",
              "       342.85857588, 315.33063317, 310.48184412, 313.79340749,\n",
              "       300.2047253 , 339.79650992, 321.0378797 , 320.15079626,\n",
              "       288.55293082, 313.2828546 , 346.06830706, 310.08674862,\n",
              "       269.61123679, 304.61181495, 259.44829846, 298.09965895,\n",
              "       314.10169849, 343.0761013 , 290.64369962, 334.44757597,\n",
              "       301.39487413, 352.68877231, 333.17952805, 333.39316009,\n",
              "       308.17780403, 354.47371969, 332.14321985, 290.7870174 ,\n",
              "       295.38466271, 314.11427181, 340.37736202, 330.68589778,\n",
              "       316.54889305, 301.28265743, 355.99234257, 295.67351183,\n",
              "       334.68087849, 351.2869444 , 330.39328041, 297.45371848,\n",
              "       287.58875142, 300.1016626 , 292.41092953, 326.01265772,\n",
              "       351.9826773 , 361.93150292, 348.47968456, 320.95529687,\n",
              "       303.61612938, 341.60090572, 342.65599329, 356.16826178,\n",
              "       317.27569697, 343.87618503, 315.87713726, 302.89473603,\n",
              "       389.39191005, 347.35075702, 311.83433758, 291.37974537,\n",
              "       303.44503534, 341.36123311, 334.43431461, 325.20266098,\n",
              "       360.73625088, 337.57059628, 292.08635905, 334.21475082,\n",
              "       335.99060539, 341.66538746, 305.17265594, 297.0618515 ,\n",
              "       315.567105  , 345.35345961, 353.88090978, 376.12206256,\n",
              "       336.78872064, 279.98140828, 347.21812966, 349.4165923 ,\n",
              "       323.79926674, 342.21688272, 296.6427443 , 321.69367637,\n",
              "       344.15302085, 316.95457076, 322.94050537, 321.83571949,\n",
              "       311.03706223, 342.35899831, 321.23659638, 334.94880859,\n",
              "       327.82023359, 340.11860672, 362.07850126, 391.90512944,\n",
              "       335.51833198, 357.60505384, 376.50844544, 301.90423936,\n",
              "       421.30936704])"
            ]
          },
          "metadata": {},
          "execution_count": 83
        }
      ]
    },
    {
      "cell_type": "code",
      "source": [
        "new_test = new_model.predict(X_test[0:1])"
      ],
      "metadata": {
        "id": "fONFWEYh01IL"
      },
      "execution_count": 91,
      "outputs": []
    },
    {
      "cell_type": "code",
      "source": [
        "new_test"
      ],
      "metadata": {
        "colab": {
          "base_uri": "https://localhost:8080/"
        },
        "id": "S-Kzbvv-1AWs",
        "outputId": "d50f39cc-0cdc-4f83-daa3-3894ea29511f"
      },
      "execution_count": 92,
      "outputs": [
        {
          "output_type": "execute_result",
          "data": {
            "text/plain": [
              "array([257.42762593])"
            ]
          },
          "metadata": {},
          "execution_count": 92
        }
      ]
    }
  ]
}