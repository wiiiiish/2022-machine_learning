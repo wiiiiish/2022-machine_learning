{
  "nbformat": 4,
  "nbformat_minor": 0,
  "metadata": {
    "colab": {
      "name": "예측값 DB 저장.ipynb",
      "provenance": [],
      "collapsed_sections": [],
      "mount_file_id": "1odSQlc-HC8RkLc0FiYIZD0b2B1XmGKmq",
      "authorship_tag": "ABX9TyPKZZWMtS5NIkUX50e7TsVx",
      "include_colab_link": true
    },
    "kernelspec": {
      "name": "python3",
      "display_name": "Python 3"
    },
    "language_info": {
      "name": "python"
    }
  },
  "cells": [
    {
      "cell_type": "markdown",
      "metadata": {
        "id": "view-in-github",
        "colab_type": "text"
      },
      "source": [
        "<a href=\"https://colab.research.google.com/github/wiiiiish/2022-machine_learning/blob/main/%EC%98%88%EC%B8%A1%EA%B0%92_DB_%EC%A0%80%EC%9E%A5.ipynb\" target=\"_parent\"><img src=\"https://colab.research.google.com/assets/colab-badge.svg\" alt=\"Open In Colab\"/></a>"
      ]
    },
    {
      "cell_type": "code",
      "execution_count": 23,
      "metadata": {
        "colab": {
          "base_uri": "https://localhost:8080/"
        },
        "id": "BTcv56Lladjo",
        "outputId": "a5bf0050-5a45-43a3-860e-c032c2c2c5e6"
      },
      "outputs": [
        {
          "output_type": "stream",
          "name": "stdout",
          "text": [
            "drive  sample_data\n"
          ]
        }
      ],
      "source": [
        "!ls"
      ]
    },
    {
      "cell_type": "code",
      "source": [
        "%cd drive/MyDrive/Colab\\ Notebooks/2022-05-13\\ 모델\\ 생성\\ 작업"
      ],
      "metadata": {
        "colab": {
          "base_uri": "https://localhost:8080/"
        },
        "id": "j5V0QZcJeBFm",
        "outputId": "44a01b06-bd51-4213-b444-911948facaf9"
      },
      "execution_count": 24,
      "outputs": [
        {
          "output_type": "stream",
          "name": "stdout",
          "text": [
            "/content/drive/MyDrive/Colab Notebooks/2022-05-13 모델 생성 작업\n"
          ]
        }
      ]
    },
    {
      "cell_type": "code",
      "source": [
        "!sudo apt-get install python3-dev default-libmysqlclient-dev\n",
        "!pip install pymysql"
      ],
      "metadata": {
        "colab": {
          "base_uri": "https://localhost:8080/"
        },
        "id": "aPDcdGzdiUWj",
        "outputId": "00859fe9-e172-4738-fc73-bd913e90b6a8"
      },
      "execution_count": 5,
      "outputs": [
        {
          "output_type": "stream",
          "name": "stdout",
          "text": [
            "Reading package lists... Done\n",
            "Building dependency tree       \n",
            "Reading state information... Done\n",
            "default-libmysqlclient-dev is already the newest version (1.0.4).\n",
            "python3-dev is already the newest version (3.6.7-1~18.04).\n",
            "The following packages were automatically installed and are no longer required:\n",
            "  libnvidia-common-460 nsight-compute-2020.2.0\n",
            "Use 'sudo apt autoremove' to remove them.\n",
            "0 upgraded, 0 newly installed, 0 to remove and 42 not upgraded.\n",
            "Requirement already satisfied: pymysql in /usr/local/lib/python3.7/dist-packages (1.0.2)\n"
          ]
        }
      ]
    },
    {
      "cell_type": "code",
      "source": [
        "import pandas as pd\n",
        "import numpy as np\n",
        "import pymysql # mysql 연결\n",
        "import pickle # 모델 불러올 때 사용\n",
        "from datetime import date, datetime, timezone, timedelta # 시간 관련 라이브러리\n",
        "import pickle\n",
        "\n",
        "from pymysql.converters import convert_bit"
      ],
      "metadata": {
        "id": "aIbj4v0wiXgH"
      },
      "execution_count": 17,
      "outputs": []
    },
    {
      "cell_type": "code",
      "source": [
        "# 시간 맞추기\n",
        "# hours=9 는 현재 한국시간\n",
        "# 우리는 한 시간 후의 시간을 불러와야 하기 때문에 hours=10 으로 설정\n",
        "K_KST = timezone(timedelta(hours=9))\n",
        "A_KST = timezone(timedelta(hours=10))\n",
        "B_KST = timezone(timedelta(hours=8))\n"
      ],
      "metadata": {
        "id": "btgihIRe9vDm"
      },
      "execution_count": 13,
      "outputs": []
    },
    {
      "cell_type": "code",
      "source": [
        "from keras.models import load_model\n",
        "model_rnn = load_model('./rnn_model_v2.h5')"
      ],
      "metadata": {
        "id": "yGLfTs-TofeK"
      },
      "execution_count": 25,
      "outputs": []
    },
    {
      "cell_type": "code",
      "source": [
        "K_KST = timezone(timedelta(hours=9))\n",
        "A_KST = timezone(timedelta(hours=10))\n",
        "B_KST = timezone(timedelta(hours=8))\n",
        "T_KST = timezone(timedelta(hours=7))\n",
        "\n",
        "while True:\n",
        "  try :\n",
        "\n",
        "    # 현재 시간 구하기\n",
        "    now = datetime.now(K_KST)\n",
        "    current_time = now.strftime('%Y-%m-%d %H:%M:%S')\n",
        "    s_current_time = f\"{current_time}\"\n",
        "    s_current_time = s_current_time[:18]\n",
        "    print(f\"현재 시간 : {s_current_time}\") # 현재 시간 / 11:11:12 -> 11:11:1 로 자르기\n",
        "\n",
        "    # 한 시간 전, 후의 시간\n",
        "    after = datetime.now(A_KST)\n",
        "    after_time = after.strftime('%Y-%m-%d %H:%M:%S')\n",
        "    s_after_time = f\"{after_time}\"\n",
        "    s_after_time = s_after_time[:18]\n",
        "    print(f\"한 시간 후 : {s_after_time}\")\n",
        "\n",
        "    before = datetime.now(B_KST)\n",
        "    before_time = before.strftime('%Y-%m-%d %H:%M:%S')\n",
        "    s_before_time = f\"{before_time}\"\n",
        "    s_before_time = s_before_time[:18]\n",
        "    print(f\"한 시간 전 : {s_before_time}\")\n",
        "\n",
        "    # 두 시간 전의 시간\n",
        "    before_two = datetime.now(T_KST)\n",
        "    before_two_time = before_two.strftime(\"%Y-%m-%d %H:%M:%S\")\n",
        "    s_before_two_time = f\"{before_two_time}\"\n",
        "    s_before_two_time = s_before_two_time[:18]\n",
        "    print(f\"두 시간 전 : {s_before_two_time}\")\n",
        "\n",
        "    # DB 연결\n",
        "    from pymysql.converters import convert_bit\n",
        "    host = \"project-db-stu.ddns.net\"\n",
        "    port = 3307\n",
        "    username = \"wish\"\n",
        "    password = \"1234\"\n",
        "    db = 'wish'\n",
        "\n",
        "    conn = pymysql.connect(host=host, port=port, user=username, password=password, db=db)\n",
        "\n",
        "    # select 현재 시간의 데이터 번호\n",
        "    sql_state1 = f\"select r_seq from s_real_data where r_date like '{s_current_time}0'\"\n",
        "    s_real = pd.read_sql_query(sql_state1, conn)\n",
        "    s_r_seq = s_real['r_seq']\n",
        "\n",
        "    # 한 시간 후의 날씨 데이터 목록\n",
        "    sql_state2 = f\"select r_temperature, r_precipitation, r_wind, r_humidity, r_radiation, r_total_cloudiness, r_visibility, r_ground_temp from s_real_data where r_date > '{s_current_time}0' and r_date <= '{s_after_time}0' order by r_date asc\"\n",
        "    s_after_weather = pd.read_sql_query(sql_state2, conn)\n",
        "    after_hour_weather = pd.DataFrame(s_after_weather)\n",
        "\n",
        "    # select 현재 발전량 목록\n",
        "    sql_state3 = f\"select r_aod from s_real_data where r_date > '{s_before_time}0' and r_date <= '{s_current_time}0' order by r_date asc\"\n",
        "    s_now_aod = pd.read_sql_query(sql_state3, conn)\n",
        "    now_aod = pd.DataFrame(s_now_aod)\n",
        "\n",
        "    # select 한 시간 전 발전량 목록\n",
        "    sql_state4 = f\"select r_aod from s_real_data where r_date > '{s_before_two_time}0' and r_date <= '{s_before_time}0'\"\n",
        "    s_before_aod = pd.read_sql_query(sql_state4, conn)\n",
        "    before_aod = pd.DataFram(s_before_aod)\n",
        "\n",
        "    # 학습데이터\n",
        "    data = pd.concat([after_hour_weather, now_aod, before_aod], axis=1)\n",
        "    data\n",
        "\n",
        "    s_data = np.array(data)\n",
        "\n",
        "    s_s_data = s_data.reshape(1,360,10)\n",
        "    pred = model_rnn.predict(s_s_data)\n",
        "\n",
        "    s_pred = pred[0][0]\n",
        "    print(s_pred)\n",
        "    display(s_r_seq)\n",
        "\n",
        "    # DB insert into s_predict\n",
        "    sql_state5 = f\"insert into s_prediction values (null, {int(s_r_seq[0])}, '{s_after_time}0', {s_pred})\"\n",
        "    cursor = conn.cursor()\n",
        "    cursor.execute(sql_state5)\n",
        "    conn.commit()\n",
        "\n",
        "  except:\n",
        "    print(\"예외 발생!\")"
      ],
      "metadata": {
        "id": "wxTX5YSWeMDr"
      },
      "execution_count": null,
      "outputs": []
    },
    {
      "cell_type": "code",
      "source": [
        "# DB 연결\n",
        "\n",
        "host = \"project-db-stu.ddns.net\"\n",
        "port = 3307\n",
        "username = \"wish\"\n",
        "password = \"1234\"\n",
        "db = 'wish'\n",
        "\n",
        "conn = pymysql.connect(host=host, port=port, user=username, password=password, db=db)\n",
        "\n",
        "# select 현재 시간, 데이터 번호 (real_data의 마지막 데이터 불러오기)\n",
        "sql_state1 = f\"select r_seq, r_date, r_aod from s_real_data order by r_date desc limit 1\"\n",
        "s_real = pd.read_sql_query(sql_state1, conn)\n",
        "s_r_seq = s_real['r_seq']\n",
        "s_r_date = s_real['r_date']\n",
        "s_r_now_aod = s_real['r_aod']\n",
        "\n",
        "# 불러온 데이터의 시간 추출\n",
        "s_now_time = f\"{s_r_date[0]}\"\n",
        "print(f\"s_now_time : {s_now_time}\")\n",
        "\n",
        "# s_now_time 의 한 시간 후의 시간\n",
        "s_now_time_slice = s_now_time[:18]\n",
        "s_pred_t_hour = (int)(s_now_time_slice[11:13]) + 1\n",
        "print(f\"s_pred_t_hour : {s_pred_t_hour}\")\n",
        "\n",
        "if s_pred_t_hour < 10:\n",
        "  s_pred_t_hour = f\"0{s_pred_t_hour}\"\n",
        "elif s_pred_t_hour > 23:\n",
        "  s_pred_t_hour = \"00\"\n",
        "\n",
        "s_pred_t_sec = (int)(s_now_time_slice[17]) + 1\n",
        "\n",
        "if s_pred_t_sec == 6:\n",
        "  s_pred_t_sec = \"0\"\n",
        "\n",
        "print(f\"s_pred_t_sec : {s_pred_t_sec}\")\n",
        "\n",
        "timeList = list(s_now_time)\n",
        "timeList[11:13] = f\"{s_pred_t_hour}\"\n",
        "timeList[17] = f\"{s_pred_t_sec}\"\n",
        "s_pred_time = ''.join(s for s in timeList)\n",
        "s_pred_time_slice = s_pred_time[:18]\n",
        "print(f\"s_pred_time : {s_pred_time}\")\n",
        "print(f\"s_pred_time_slice : {s_pred_time_slice}\")\n",
        "\n",
        "# s_now_time 의 한 시간 전의 시간\n",
        "s_before_t = (int)(s_now_time_slice[11:13]) - 1\n",
        "print(f\"s_before_t : {s_before_t}\")\n",
        "\n",
        "if s_before_t < 0:\n",
        "  s_before_t = \"23\"\n",
        "elif s_before_t < 10:\n",
        "  s_before_t = f\"0{s_before_t}\"\n",
        "    \n",
        "timeList[11:13] = f\"{s_before_t}\"\n",
        "s_before_time = ''.join(s for s in timeList)\n",
        "s_before_time_slice = s_before_time[:18]\n",
        "print(f\"s_before_time_slice : {s_before_time_slice}\")"
      ],
      "metadata": {
        "colab": {
          "base_uri": "https://localhost:8080/"
        },
        "id": "cys4fAJIsZrF",
        "outputId": "f3ffa266-bdba-429c-e7f6-cb807ea6d0c7"
      },
      "execution_count": 11,
      "outputs": [
        {
          "output_type": "stream",
          "name": "stdout",
          "text": [
            "s_now_time : 2022-05-16 11:36:50\n",
            "s_pred_t_hour : 12\n",
            "s_pred_t_sec : 0\n",
            "s_pred_time : 2022-05-16 12:36:00\n",
            "s_pred_time_slice : 2022-05-16 12:36:0\n",
            "s_before_t : 10\n",
            "s_before_time_slice : 2022-05-16 10:36:0\n"
          ]
        }
      ]
    },
    {
      "cell_type": "code",
      "source": [
        "K_KST = timezone(timedelta(hours=9))\n",
        "A_KST = timezone(timedelta(hours=10))\n",
        "B_KST = timezone(timedelta(hours=8))\n",
        "T_KST = timezone(timedelta(hours=7))\n",
        "\n",
        "# 현재 시간 구하기\n",
        "now = datetime.now(K_KST)\n",
        "current_time = now.strftime('%Y-%m-%d %H:%M:%S')\n",
        "s_current_time = f\"{current_time}\"\n",
        "s_current_time = s_current_time[:18]\n",
        "print(f\"현재 시간 : {s_current_time}\") # 현재 시간 / 11:11:12 -> 11:11:1 로 자르기\n",
        "\n",
        "# 한 시간 전, 후의 시간\n",
        "after = datetime.now(A_KST)\n",
        "after_time = after.strftime('%Y-%m-%d %H:%M:%S')\n",
        "s_after_time = f\"{after_time}\"\n",
        "s_after_time = s_after_time[:18]\n",
        "print(f\"한 시간 후 : {s_after_time}\")\n",
        "\n",
        "before = datetime.now(B_KST)\n",
        "before_time = before.strftime('%Y-%m-%d %H:%M:%S')\n",
        "s_before_time = f\"{before_time}\"\n",
        "s_before_time = s_before_time[:18]\n",
        "print(f\"한 시간 전 : {s_before_time}\")\n",
        "\n",
        "# 두 시간 전의 시간\n",
        "before_two = datetime.now(T_KST)\n",
        "before_two_time = before_two.strftime('%Y-%m-%d %H:%M:%S')\n",
        "s_before_two_time = f\"{before_two_time}\"\n",
        "s_before_two_time = s_before_two_time[:18]\n",
        "print(f\"두 시간 전 : {s_before_two_time}\")\n",
        "\n",
        "# DB 연결\n",
        "from pymysql.converters import convert_bit\n",
        "host = \"project-db-stu.ddns.net\"\n",
        "port = 3307\n",
        "username = \"wish\"\n",
        "password = \"1234\"\n",
        "db = 'wish'\n",
        "\n",
        "conn = pymysql.connect(host=host, port=port, user=username, password=password, db=db)\n",
        "\n",
        "# select 현재 시간의 데이터 번호\n",
        "sql_state1 = f\"select r_seq from s_real_data where r_date like '{s_current_time}0'\"\n",
        "s_real = pd.read_sql_query(sql_state1, conn)\n",
        "s_r_seq = s_real['r_seq']\n",
        "\n",
        "# 한 시간 후의 날씨 데이터 목록\n",
        "sql_state2 = f\"select r_temperature, r_precipitation, r_wind, r_humidity, r_radiation, r_total_cloudiness, r_visibility, r_ground_temp from s_real_data where r_date > '{s_current_time}0' and r_date <= '{s_after_time}0' order by r_date asc\"\n",
        "s_after_weather = pd.read_sql_query(sql_state2, conn)\n",
        "after_hour_weather = pd.DataFrame(s_after_weather)\n",
        "\n",
        "# select 현재 발전량 목록\n",
        "sql_state3 = f\"select r_aod from s_real_data where r_date > '{s_before_time}0' and r_date <= '{s_current_time}0' order by r_date asc\"\n",
        "s_now_aod = pd.read_sql_query(sql_state3, conn)\n",
        "now_aod = pd.DataFrame(s_now_aod)\n",
        "\n",
        "# select 한 시간 전 발전량 목록\n",
        "sql_state4 = f\"select r_aod from s_real_data where r_date > '{s_before_two_time}0' and r_date <= '{s_before_time}0'\"\n",
        "s_before_aod = pd.read_sql_query(sql_state4, conn)\n",
        "before_aod = pd.DataFrame(s_before_aod)\n",
        "\n",
        "# 학습데이터\n",
        "data = pd.concat([after_hour_weather, now_aod, before_aod], axis=1)\n",
        "data\n",
        "\n",
        "s_data = np.array(data)\n",
        "\n",
        "s_s_data = s_data.reshape(1,360,10)\n",
        "pred = model_rnn.predict(s_s_data)\n",
        "\n",
        "s_pred = pred[0][0]\n",
        "print(s_pred)\n",
        "display(s_r_seq)\n",
        "\n",
        "# DB insert into s_predict\n",
        "sql_state5 = f\"insert into s_prediction values (null, {int(s_r_seq[0])}, '{s_after_time}0', {s_pred})\"\n",
        "cursor = conn.cursor()\n",
        "cursor.execute(sql_state5)\n",
        "conn.commit()\n",
        "\n"
      ],
      "metadata": {
        "colab": {
          "base_uri": "https://localhost:8080/",
          "height": 473
        },
        "id": "o-YO-uiVhtWS",
        "outputId": "b81b8f12-2651-465f-ab61-88bd31db9be9"
      },
      "execution_count": 46,
      "outputs": [
        {
          "output_type": "stream",
          "name": "stdout",
          "text": [
            "현재 시간 : 2022-05-16 16:16:4\n",
            "한 시간 후 : 2022-05-16 17:16:4\n",
            "한 시간 전 : 2022-05-16 15:16:4\n",
            "두 시간 전 : 2022-05-16 14:16:4\n",
            "157.8986\n"
          ]
        },
        {
          "output_type": "display_data",
          "data": {
            "text/plain": [
              "Series([], Name: r_seq, dtype: object)"
            ]
          },
          "metadata": {}
        },
        {
          "output_type": "error",
          "ename": "IndexError",
          "evalue": "ignored",
          "traceback": [
            "\u001b[0;31m---------------------------------------------------------------------------\u001b[0m",
            "\u001b[0;31mIndexError\u001b[0m                                Traceback (most recent call last)",
            "\u001b[0;32m<ipython-input-46-10d68cd0b9c5>\u001b[0m in \u001b[0;36m<module>\u001b[0;34m()\u001b[0m\n\u001b[1;32m     75\u001b[0m \u001b[0;34m\u001b[0m\u001b[0m\n\u001b[1;32m     76\u001b[0m \u001b[0;31m# DB insert into s_predict\u001b[0m\u001b[0;34m\u001b[0m\u001b[0;34m\u001b[0m\u001b[0;34m\u001b[0m\u001b[0m\n\u001b[0;32m---> 77\u001b[0;31m \u001b[0msql_state5\u001b[0m \u001b[0;34m=\u001b[0m \u001b[0;34mf\"insert into s_prediction values (null, {int(s_r_seq[0])}, '{s_after_time}0', {s_pred})\"\u001b[0m\u001b[0;34m\u001b[0m\u001b[0;34m\u001b[0m\u001b[0m\n\u001b[0m\u001b[1;32m     78\u001b[0m \u001b[0mcursor\u001b[0m \u001b[0;34m=\u001b[0m \u001b[0mconn\u001b[0m\u001b[0;34m.\u001b[0m\u001b[0mcursor\u001b[0m\u001b[0;34m(\u001b[0m\u001b[0;34m)\u001b[0m\u001b[0;34m\u001b[0m\u001b[0;34m\u001b[0m\u001b[0m\n\u001b[1;32m     79\u001b[0m \u001b[0mcursor\u001b[0m\u001b[0;34m.\u001b[0m\u001b[0mexecute\u001b[0m\u001b[0;34m(\u001b[0m\u001b[0msql_state5\u001b[0m\u001b[0;34m)\u001b[0m\u001b[0;34m\u001b[0m\u001b[0;34m\u001b[0m\u001b[0m\n",
            "\u001b[0;32m/usr/local/lib/python3.7/dist-packages/pandas/core/series.py\u001b[0m in \u001b[0;36m__getitem__\u001b[0;34m(self, key)\u001b[0m\n\u001b[1;32m    937\u001b[0m \u001b[0;34m\u001b[0m\u001b[0m\n\u001b[1;32m    938\u001b[0m         \u001b[0;32mif\u001b[0m \u001b[0mis_integer\u001b[0m\u001b[0;34m(\u001b[0m\u001b[0mkey\u001b[0m\u001b[0;34m)\u001b[0m \u001b[0;32mand\u001b[0m \u001b[0mself\u001b[0m\u001b[0;34m.\u001b[0m\u001b[0mindex\u001b[0m\u001b[0;34m.\u001b[0m\u001b[0m_should_fallback_to_positional\u001b[0m\u001b[0;34m(\u001b[0m\u001b[0;34m)\u001b[0m\u001b[0;34m:\u001b[0m\u001b[0;34m\u001b[0m\u001b[0;34m\u001b[0m\u001b[0m\n\u001b[0;32m--> 939\u001b[0;31m             \u001b[0;32mreturn\u001b[0m \u001b[0mself\u001b[0m\u001b[0;34m.\u001b[0m\u001b[0m_values\u001b[0m\u001b[0;34m[\u001b[0m\u001b[0mkey\u001b[0m\u001b[0;34m]\u001b[0m\u001b[0;34m\u001b[0m\u001b[0;34m\u001b[0m\u001b[0m\n\u001b[0m\u001b[1;32m    940\u001b[0m \u001b[0;34m\u001b[0m\u001b[0m\n\u001b[1;32m    941\u001b[0m         \u001b[0;32melif\u001b[0m \u001b[0mkey_is_scalar\u001b[0m\u001b[0;34m:\u001b[0m\u001b[0;34m\u001b[0m\u001b[0;34m\u001b[0m\u001b[0m\n",
            "\u001b[0;31mIndexError\u001b[0m: index 0 is out of bounds for axis 0 with size 0"
          ]
        }
      ]
    },
    {
      "cell_type": "code",
      "source": [
        ""
      ],
      "metadata": {
        "id": "kLx43FjhiZxr"
      },
      "execution_count": null,
      "outputs": []
    }
  ]
}