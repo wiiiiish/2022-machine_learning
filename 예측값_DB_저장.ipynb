{
  "nbformat": 4,
  "nbformat_minor": 0,
  "metadata": {
    "colab": {
      "name": "예측값 DB 저장.ipynb",
      "provenance": [],
      "collapsed_sections": [],
      "mount_file_id": "1odSQlc-HC8RkLc0FiYIZD0b2B1XmGKmq",
      "authorship_tag": "ABX9TyOefX0H3CZw/PcUpAPrgg5H",
      "include_colab_link": true
    },
    "kernelspec": {
      "name": "python3",
      "display_name": "Python 3"
    },
    "language_info": {
      "name": "python"
    }
  },
  "cells": [
    {
      "cell_type": "markdown",
      "metadata": {
        "id": "view-in-github",
        "colab_type": "text"
      },
      "source": [
        "<a href=\"https://colab.research.google.com/github/wiiiiish/2022-machine_learning/blob/main/%EC%98%88%EC%B8%A1%EA%B0%92_DB_%EC%A0%80%EC%9E%A5.ipynb\" target=\"_parent\"><img src=\"https://colab.research.google.com/assets/colab-badge.svg\" alt=\"Open In Colab\"/></a>"
      ]
    },
    {
      "cell_type": "code",
      "execution_count": 4,
      "metadata": {
        "colab": {
          "base_uri": "https://localhost:8080/"
        },
        "id": "BTcv56Lladjo",
        "outputId": "502a508c-d5c7-4644-dc4a-93d8f9203b8b"
      },
      "outputs": [
        {
          "output_type": "stream",
          "name": "stdout",
          "text": [
            "drive  sample_data\n"
          ]
        }
      ],
      "source": [
        "!ls"
      ]
    },
    {
      "cell_type": "code",
      "source": [
        "%cd drive/MyDrive/Colab\\ Notebooks/2022-04-27\\ 데이터/2022-05-13\\ 모델\\ 생성\\ 작업"
      ],
      "metadata": {
        "colab": {
          "base_uri": "https://localhost:8080/"
        },
        "id": "j5V0QZcJeBFm",
        "outputId": "cb3b8644-e06a-43dd-c662-4f109fd3644e"
      },
      "execution_count": 6,
      "outputs": [
        {
          "output_type": "stream",
          "name": "stdout",
          "text": [
            "/content/drive/MyDrive/Colab Notebooks/2022-04-27 데이터/2022-05-13 모델 생성 작업\n"
          ]
        }
      ]
    },
    {
      "cell_type": "code",
      "source": [
        "!sudo apt-get install python3-dev default-libmysqlclient-dev\n",
        "!pip install pymysql"
      ],
      "metadata": {
        "colab": {
          "base_uri": "https://localhost:8080/"
        },
        "id": "aPDcdGzdiUWj",
        "outputId": "279d10cc-6b82-40ea-aa46-bcdd447cd3f0"
      },
      "execution_count": 7,
      "outputs": [
        {
          "output_type": "stream",
          "name": "stdout",
          "text": [
            "Reading package lists... Done\n",
            "Building dependency tree       \n",
            "Reading state information... Done\n",
            "default-libmysqlclient-dev is already the newest version (1.0.4).\n",
            "default-libmysqlclient-dev set to manually installed.\n",
            "python3-dev is already the newest version (3.6.7-1~18.04).\n",
            "python3-dev set to manually installed.\n",
            "The following packages were automatically installed and are no longer required:\n",
            "  libnvidia-common-460 nsight-compute-2020.2.0\n",
            "Use 'sudo apt autoremove' to remove them.\n",
            "0 upgraded, 0 newly installed, 0 to remove and 42 not upgraded.\n",
            "Collecting pymysql\n",
            "  Downloading PyMySQL-1.0.2-py3-none-any.whl (43 kB)\n",
            "\u001b[K     |████████████████████████████████| 43 kB 2.0 MB/s \n",
            "\u001b[?25hInstalling collected packages: pymysql\n",
            "Successfully installed pymysql-1.0.2\n"
          ]
        }
      ]
    },
    {
      "cell_type": "code",
      "source": [
        "import pandas as pd\n",
        "import numpy as np\n",
        "import pymysql # mysql 연결\n",
        "import pickle # 모델 불러올 때 사용\n",
        "from datetime import date, datetime, timezone, timedelta # 시간 관련 라이브러리\n",
        "import pickle\n",
        "\n",
        "from pymysql.converters import convert_bit"
      ],
      "metadata": {
        "id": "aIbj4v0wiXgH"
      },
      "execution_count": 8,
      "outputs": []
    },
    {
      "cell_type": "code",
      "source": [
        "# 시간 맞추기\n",
        "# hours=9 는 현재 한국시간\n",
        "# 우리는 한 시간 후의 시간을 불러와야 하기 때문에 hours=10 으로 설정\n",
        "K_KST = timezone(timedelta(hours=9))\n",
        "A_KST = timezone(timedelta(hours=10))\n",
        "B_KST = timezone(timedelta(hours=8))\n",
        "T_KST = timezone(timedelta(hours=7))\n"
      ],
      "metadata": {
        "id": "btgihIRe9vDm"
      },
      "execution_count": 10,
      "outputs": []
    },
    {
      "cell_type": "code",
      "source": [
        "from keras.models import load_model\n",
        "model_rnn = load_model('./rnn_model_v2.h5')"
      ],
      "metadata": {
        "id": "yGLfTs-TofeK"
      },
      "execution_count": 9,
      "outputs": []
    },
    {
      "cell_type": "code",
      "source": [
        "K_KST = timezone(timedelta(hours=9))\n",
        "A_KST = timezone(timedelta(hours=10))\n",
        "B_KST = timezone(timedelta(hours=8))\n",
        "T_KST = timezone(timedelta(hours=7))\n",
        "\n",
        "while True:\n",
        "  try :\n",
        "    # 현재 시간 구하기\n",
        "    now = datetime.now(K_KST)\n",
        "    current_time = now.strftime('%Y-%m-%d %H:%M:%S')\n",
        "    s_current_time = f\"{current_time}\"\n",
        "    s_current_time = s_current_time[:18]\n",
        "    print(f\"현재 시간 : {s_current_time}\") # 현재 시간 / 11:11:12 -> 11:11:1 로 자르기\n",
        "\n",
        "    # 한 시간 전, 후의 시간\n",
        "    after = datetime.now(A_KST)\n",
        "    after_time = after.strftime('%Y-%m-%d %H:%M:%S')\n",
        "    s_after_time = f\"{after_time}\"\n",
        "    s_after_time = s_after_time[:18]\n",
        "    print(f\"한 시간 후 : {s_after_time}\")\n",
        "\n",
        "    before = datetime.now(B_KST)\n",
        "    before_time = before.strftime('%Y-%m-%d %H:%M:%S')\n",
        "    s_before_time = f\"{before_time}\"\n",
        "    s_before_time = s_before_time[:18]\n",
        "    print(f\"한 시간 전 : {s_before_time}\")\n",
        "\n",
        "    # 두 시간 전의 시간\n",
        "    before_two = datetime.now(T_KST)\n",
        "    before_two_time = before_two.strftime('%Y-%m-%d %H:%M:%S')\n",
        "    s_before_two_time = f\"{before_two_time}\"\n",
        "    s_before_two_time = s_before_two_time[:18]\n",
        "    print(f\"두 시간 전 : {s_before_two_time}\")\n",
        "\n",
        "    # DB 연결\n",
        "    from pymysql.converters import convert_bit\n",
        "    host = \"project-db-stu.ddns.net\"\n",
        "    port = 3307\n",
        "    username = \"wish\"\n",
        "    password = \"1234\"\n",
        "    db = 'wish'\n",
        "\n",
        "    conn = pymysql.connect(host=host, port=port, user=username, password=password, db=db)\n",
        "\n",
        "    # select 현재 시간의 데이터 번호\n",
        "    sql_state1 = f\"select r_seq from s_real_data where r_date like '{s_current_time}0'\"\n",
        "    s_real = pd.read_sql_query(sql_state1, conn)\n",
        "    s_r_seq = s_real['r_seq']\n",
        "\n",
        "    # 한 시간 후의 날씨 데이터 목록\n",
        "    sql_state2 = f\"select r_temperature, r_precipitation, r_wind, r_humidity, r_radiation, r_total_cloudiness, r_visibility, r_ground_temp from s_real_data where r_date > '{s_current_time}0' and r_date <= '{s_after_time}0' order by r_date asc\"\n",
        "    s_after_weather = pd.read_sql_query(sql_state2, conn)\n",
        "    after_hour_weather = pd.DataFrame(s_after_weather)\n",
        "\n",
        "    # select 현재 발전량 목록\n",
        "    sql_state3 = f\"select r_aod from s_real_data where r_date > '{s_before_time}0' and r_date <= '{s_current_time}0' order by r_date asc\"\n",
        "    s_now_aod = pd.read_sql_query(sql_state3, conn)\n",
        "    now_aod = pd.DataFrame(s_now_aod)\n",
        "\n",
        "    # select 한 시간 전 발전량 목록\n",
        "    sql_state4 = f\"select r_aod from s_real_data where r_date > '{s_before_two_time}0' and r_date <= '{s_before_time}0'\"\n",
        "    s_before_aod = pd.read_sql_query(sql_state4, conn)\n",
        "    before_aod = pd.DataFrame(s_before_aod)\n",
        "\n",
        "    # 학습데이터\n",
        "    data = pd.concat([after_hour_weather, now_aod, before_aod], axis=1)\n",
        "    print(data)\n",
        "\n",
        "    s_data = np.array(data)\n",
        "\n",
        "    s_s_data = s_data.reshape(1,360,10)\n",
        "    pred = model_rnn.predict(s_s_data)\n",
        "\n",
        "    s_pred = pred[0][0]\n",
        "    print(s_pred)\n",
        "    display(s_r_seq)\n",
        "\n",
        "    # DB insert into s_predict\n",
        "    sql_state5 = f\"insert into s_prediction values (null, {int(s_r_seq[0])}, '{s_after_time}0', {s_pred})\"\n",
        "    cursor = conn.cursor()\n",
        "    cursor.execute(sql_state5)\n",
        "    conn.commit()\n",
        "\n",
        "  except:\n",
        "    print(\"예외 발생!\")"
      ],
      "metadata": {
        "colab": {
          "base_uri": "https://localhost:8080/",
          "height": 1000
        },
        "id": "wxTX5YSWeMDr",
        "outputId": "27204d9d-ed85-433e-fc6f-776d7af93c1e"
      },
      "execution_count": null,
      "outputs": [
        {
          "output_type": "stream",
          "name": "stdout",
          "text": [
            "현재 시간 : 2022-05-17 09:53:4\n",
            "한 시간 후 : 2022-05-17 10:53:4\n",
            "한 시간 전 : 2022-05-17 08:53:4\n",
            "두 시간 전 : 2022-05-17 07:53:4\n",
            "     r_temperature  r_precipitation  r_wind  r_humidity  r_radiation  \\\n",
            "0             23.2              0.0     0.9        74.1          1.0   \n",
            "1             23.3              0.0     0.8        79.3          1.0   \n",
            "2             25.0              0.0     0.6        82.1          0.9   \n",
            "3             23.9              0.0     0.8        86.0          0.9   \n",
            "4             24.4              0.0     0.7        75.8          1.0   \n",
            "..             ...              ...     ...         ...          ...   \n",
            "355           24.8              0.0     0.8        72.1          1.0   \n",
            "356           24.9              0.0     0.8        73.7          0.9   \n",
            "357           24.8              0.0     0.9        72.1          1.0   \n",
            "358           24.8              0.0     0.8        70.2          0.9   \n",
            "359           25.0              0.0     0.9        74.4          0.9   \n",
            "\n",
            "     r_total_cloudiness  r_visibility  r_ground_temp  r_aod  r_aod  \n",
            "0                   2.5        1291.3           32.7    491    335  \n",
            "1                   2.7        1293.1           32.6    491    335  \n",
            "2                   3.3        1294.6           28.6    491    336  \n",
            "3                   2.6        1292.6           32.4    492    336  \n",
            "4                   3.8        1287.8           32.6    492    337  \n",
            "..                  ...           ...            ...    ...    ...  \n",
            "355                 3.1        1349.3           33.5    590    488  \n",
            "356                 2.9        1503.1           34.5    590    489  \n",
            "357                 2.3        1331.2           37.8    591    489  \n",
            "358                 2.3        1337.9           34.7    591    490  \n",
            "359                 2.2        1469.0           34.7    591    490  \n",
            "\n",
            "[360 rows x 10 columns]\n",
            "549.2887\n"
          ]
        },
        {
          "output_type": "display_data",
          "data": {
            "text/plain": [
              "0    20843\n",
              "Name: r_seq, dtype: int64"
            ]
          },
          "metadata": {}
        },
        {
          "output_type": "stream",
          "name": "stdout",
          "text": [
            "현재 시간 : 2022-05-17 09:53:4\n",
            "한 시간 후 : 2022-05-17 10:53:4\n",
            "한 시간 전 : 2022-05-17 08:53:4\n",
            "두 시간 전 : 2022-05-17 07:53:4\n",
            "     r_temperature  r_precipitation  r_wind  r_humidity  r_radiation  \\\n",
            "0             23.2              0.0     0.9        74.1          1.0   \n",
            "1             23.3              0.0     0.8        79.3          1.0   \n",
            "2             25.0              0.0     0.6        82.1          0.9   \n",
            "3             23.9              0.0     0.8        86.0          0.9   \n",
            "4             24.4              0.0     0.7        75.8          1.0   \n",
            "..             ...              ...     ...         ...          ...   \n",
            "355           24.8              0.0     0.8        72.1          1.0   \n",
            "356           24.9              0.0     0.8        73.7          0.9   \n",
            "357           24.8              0.0     0.9        72.1          1.0   \n",
            "358           24.8              0.0     0.8        70.2          0.9   \n",
            "359           25.0              0.0     0.9        74.4          0.9   \n",
            "\n",
            "     r_total_cloudiness  r_visibility  r_ground_temp  r_aod  r_aod  \n",
            "0                   2.5        1291.3           32.7    491    335  \n",
            "1                   2.7        1293.1           32.6    491    335  \n",
            "2                   3.3        1294.6           28.6    491    336  \n",
            "3                   2.6        1292.6           32.4    492    336  \n",
            "4                   3.8        1287.8           32.6    492    337  \n",
            "..                  ...           ...            ...    ...    ...  \n",
            "355                 3.1        1349.3           33.5    590    488  \n",
            "356                 2.9        1503.1           34.5    590    489  \n",
            "357                 2.3        1331.2           37.8    591    489  \n",
            "358                 2.3        1337.9           34.7    591    490  \n",
            "359                 2.2        1469.0           34.7    591    490  \n",
            "\n",
            "[360 rows x 10 columns]\n",
            "549.2887\n"
          ]
        },
        {
          "output_type": "display_data",
          "data": {
            "text/plain": [
              "0    20843\n",
              "Name: r_seq, dtype: int64"
            ]
          },
          "metadata": {}
        },
        {
          "output_type": "stream",
          "name": "stdout",
          "text": [
            "현재 시간 : 2022-05-17 09:53:4\n",
            "한 시간 후 : 2022-05-17 10:53:4\n",
            "한 시간 전 : 2022-05-17 08:53:4\n",
            "두 시간 전 : 2022-05-17 07:53:4\n",
            "     r_temperature  r_precipitation  r_wind  r_humidity  r_radiation  \\\n",
            "0             23.2              0.0     0.9        74.1          1.0   \n",
            "1             23.3              0.0     0.8        79.3          1.0   \n",
            "2             25.0              0.0     0.6        82.1          0.9   \n",
            "3             23.9              0.0     0.8        86.0          0.9   \n",
            "4             24.4              0.0     0.7        75.8          1.0   \n",
            "..             ...              ...     ...         ...          ...   \n",
            "355           24.8              0.0     0.8        72.1          1.0   \n",
            "356           24.9              0.0     0.8        73.7          0.9   \n",
            "357           24.8              0.0     0.9        72.1          1.0   \n",
            "358           24.8              0.0     0.8        70.2          0.9   \n",
            "359           25.0              0.0     0.9        74.4          0.9   \n",
            "\n",
            "     r_total_cloudiness  r_visibility  r_ground_temp  r_aod  r_aod  \n",
            "0                   2.5        1291.3           32.7    491    335  \n",
            "1                   2.7        1293.1           32.6    491    335  \n",
            "2                   3.3        1294.6           28.6    491    336  \n",
            "3                   2.6        1292.6           32.4    492    336  \n",
            "4                   3.8        1287.8           32.6    492    337  \n",
            "..                  ...           ...            ...    ...    ...  \n",
            "355                 3.1        1349.3           33.5    590    488  \n",
            "356                 2.9        1503.1           34.5    590    489  \n",
            "357                 2.3        1331.2           37.8    591    489  \n",
            "358                 2.3        1337.9           34.7    591    490  \n",
            "359                 2.2        1469.0           34.7    591    490  \n",
            "\n",
            "[360 rows x 10 columns]\n",
            "549.2887\n"
          ]
        },
        {
          "output_type": "display_data",
          "data": {
            "text/plain": [
              "0    20843\n",
              "Name: r_seq, dtype: int64"
            ]
          },
          "metadata": {}
        },
        {
          "output_type": "stream",
          "name": "stdout",
          "text": [
            "현재 시간 : 2022-05-17 09:53:5\n",
            "한 시간 후 : 2022-05-17 10:53:5\n",
            "한 시간 전 : 2022-05-17 08:53:5\n",
            "두 시간 전 : 2022-05-17 07:53:5\n",
            "     r_temperature  r_precipitation  r_wind  r_humidity  r_radiation  \\\n",
            "0             23.3              0.0     0.8        79.3          1.0   \n",
            "1             25.0              0.0     0.6        82.1          0.9   \n",
            "2             23.9              0.0     0.8        86.0          0.9   \n",
            "3             24.4              0.0     0.7        75.8          1.0   \n",
            "4             24.3              0.0     0.7        83.3          1.0   \n",
            "..             ...              ...     ...         ...          ...   \n",
            "355           24.9              0.0     0.8        73.7          0.9   \n",
            "356           24.8              0.0     0.9        72.1          1.0   \n",
            "357           24.8              0.0     0.8        70.2          0.9   \n",
            "358           25.0              0.0     0.9        74.4          0.9   \n",
            "359           24.9              0.0     0.8        72.6          1.1   \n",
            "\n",
            "     r_total_cloudiness  r_visibility  r_ground_temp  r_aod  r_aod  \n",
            "0                   2.7        1293.1           32.6    491    335  \n",
            "1                   3.3        1294.6           28.6    491    336  \n",
            "2                   2.6        1292.6           32.4    492    336  \n",
            "3                   3.8        1287.8           32.6    492    337  \n",
            "4                   3.9        1294.7           30.8    493    337  \n",
            "..                  ...           ...            ...    ...    ...  \n",
            "355                 2.9        1503.1           34.5    590    489  \n",
            "356                 2.3        1331.2           37.8    591    489  \n",
            "357                 2.3        1337.9           34.7    591    490  \n",
            "358                 2.2        1469.0           34.7    591    490  \n",
            "359                 2.5        1511.9           34.8    591    491  \n",
            "\n",
            "[360 rows x 10 columns]\n",
            "549.2887\n"
          ]
        },
        {
          "output_type": "display_data",
          "data": {
            "text/plain": [
              "0    20844\n",
              "Name: r_seq, dtype: int64"
            ]
          },
          "metadata": {}
        },
        {
          "output_type": "stream",
          "name": "stdout",
          "text": [
            "현재 시간 : 2022-05-17 09:53:5\n",
            "한 시간 후 : 2022-05-17 10:53:5\n",
            "한 시간 전 : 2022-05-17 08:53:5\n",
            "두 시간 전 : 2022-05-17 07:53:5\n",
            "     r_temperature  r_precipitation  r_wind  r_humidity  r_radiation  \\\n",
            "0             23.3              0.0     0.8        79.3          1.0   \n",
            "1             25.0              0.0     0.6        82.1          0.9   \n",
            "2             23.9              0.0     0.8        86.0          0.9   \n",
            "3             24.4              0.0     0.7        75.8          1.0   \n",
            "4             24.3              0.0     0.7        83.3          1.0   \n",
            "..             ...              ...     ...         ...          ...   \n",
            "355           24.9              0.0     0.8        73.7          0.9   \n",
            "356           24.8              0.0     0.9        72.1          1.0   \n",
            "357           24.8              0.0     0.8        70.2          0.9   \n",
            "358           25.0              0.0     0.9        74.4          0.9   \n",
            "359           24.9              0.0     0.8        72.6          1.1   \n",
            "\n",
            "     r_total_cloudiness  r_visibility  r_ground_temp  r_aod  r_aod  \n",
            "0                   2.7        1293.1           32.6    491    335  \n",
            "1                   3.3        1294.6           28.6    491    336  \n",
            "2                   2.6        1292.6           32.4    492    336  \n",
            "3                   3.8        1287.8           32.6    492    337  \n",
            "4                   3.9        1294.7           30.8    493    337  \n",
            "..                  ...           ...            ...    ...    ...  \n",
            "355                 2.9        1503.1           34.5    590    489  \n",
            "356                 2.3        1331.2           37.8    591    489  \n",
            "357                 2.3        1337.9           34.7    591    490  \n",
            "358                 2.2        1469.0           34.7    591    490  \n",
            "359                 2.5        1511.9           34.8    591    491  \n",
            "\n",
            "[360 rows x 10 columns]\n",
            "549.2887\n"
          ]
        },
        {
          "output_type": "display_data",
          "data": {
            "text/plain": [
              "0    20844\n",
              "Name: r_seq, dtype: int64"
            ]
          },
          "metadata": {}
        },
        {
          "output_type": "stream",
          "name": "stdout",
          "text": [
            "현재 시간 : 2022-05-17 09:53:5\n",
            "한 시간 후 : 2022-05-17 10:53:5\n",
            "한 시간 전 : 2022-05-17 08:53:5\n",
            "두 시간 전 : 2022-05-17 07:53:5\n",
            "     r_temperature  r_precipitation  r_wind  r_humidity  r_radiation  \\\n",
            "0             23.3              0.0     0.8        79.3          1.0   \n",
            "1             25.0              0.0     0.6        82.1          0.9   \n",
            "2             23.9              0.0     0.8        86.0          0.9   \n",
            "3             24.4              0.0     0.7        75.8          1.0   \n",
            "4             24.3              0.0     0.7        83.3          1.0   \n",
            "..             ...              ...     ...         ...          ...   \n",
            "355           24.9              0.0     0.8        73.7          0.9   \n",
            "356           24.8              0.0     0.9        72.1          1.0   \n",
            "357           24.8              0.0     0.8        70.2          0.9   \n",
            "358           25.0              0.0     0.9        74.4          0.9   \n",
            "359           24.9              0.0     0.8        72.6          1.1   \n",
            "\n",
            "     r_total_cloudiness  r_visibility  r_ground_temp  r_aod  r_aod  \n",
            "0                   2.7        1293.1           32.6    491    335  \n",
            "1                   3.3        1294.6           28.6    491    336  \n",
            "2                   2.6        1292.6           32.4    492    336  \n",
            "3                   3.8        1287.8           32.6    492    337  \n",
            "4                   3.9        1294.7           30.8    493    337  \n",
            "..                  ...           ...            ...    ...    ...  \n",
            "355                 2.9        1503.1           34.5    590    489  \n",
            "356                 2.3        1331.2           37.8    591    489  \n",
            "357                 2.3        1337.9           34.7    591    490  \n",
            "358                 2.2        1469.0           34.7    591    490  \n",
            "359                 2.5        1511.9           34.8    591    491  \n",
            "\n",
            "[360 rows x 10 columns]\n",
            "549.2887\n"
          ]
        },
        {
          "output_type": "display_data",
          "data": {
            "text/plain": [
              "0    20844\n",
              "Name: r_seq, dtype: int64"
            ]
          },
          "metadata": {}
        },
        {
          "output_type": "stream",
          "name": "stdout",
          "text": [
            "현재 시간 : 2022-05-17 09:53:5\n",
            "한 시간 후 : 2022-05-17 10:53:5\n",
            "한 시간 전 : 2022-05-17 08:53:5\n",
            "두 시간 전 : 2022-05-17 07:53:5\n",
            "     r_temperature  r_precipitation  r_wind  r_humidity  r_radiation  \\\n",
            "0             23.3              0.0     0.8        79.3          1.0   \n",
            "1             25.0              0.0     0.6        82.1          0.9   \n",
            "2             23.9              0.0     0.8        86.0          0.9   \n",
            "3             24.4              0.0     0.7        75.8          1.0   \n",
            "4             24.3              0.0     0.7        83.3          1.0   \n",
            "..             ...              ...     ...         ...          ...   \n",
            "355           24.9              0.0     0.8        73.7          0.9   \n",
            "356           24.8              0.0     0.9        72.1          1.0   \n",
            "357           24.8              0.0     0.8        70.2          0.9   \n",
            "358           25.0              0.0     0.9        74.4          0.9   \n",
            "359           24.9              0.0     0.8        72.6          1.1   \n",
            "\n",
            "     r_total_cloudiness  r_visibility  r_ground_temp  r_aod  r_aod  \n",
            "0                   2.7        1293.1           32.6    491    335  \n",
            "1                   3.3        1294.6           28.6    491    336  \n",
            "2                   2.6        1292.6           32.4    492    336  \n",
            "3                   3.8        1287.8           32.6    492    337  \n",
            "4                   3.9        1294.7           30.8    493    337  \n",
            "..                  ...           ...            ...    ...    ...  \n",
            "355                 2.9        1503.1           34.5    590    489  \n",
            "356                 2.3        1331.2           37.8    591    489  \n",
            "357                 2.3        1337.9           34.7    591    490  \n",
            "358                 2.2        1469.0           34.7    591    490  \n",
            "359                 2.5        1511.9           34.8    591    491  \n",
            "\n",
            "[360 rows x 10 columns]\n",
            "549.2887\n"
          ]
        },
        {
          "output_type": "display_data",
          "data": {
            "text/plain": [
              "0    20844\n",
              "Name: r_seq, dtype: int64"
            ]
          },
          "metadata": {}
        },
        {
          "output_type": "stream",
          "name": "stdout",
          "text": [
            "현재 시간 : 2022-05-17 09:53:5\n",
            "한 시간 후 : 2022-05-17 10:53:5\n",
            "한 시간 전 : 2022-05-17 08:53:5\n",
            "두 시간 전 : 2022-05-17 07:53:5\n",
            "예외 발생!\n",
            "현재 시간 : 2022-05-17 09:53:5\n",
            "한 시간 후 : 2022-05-17 10:53:5\n",
            "한 시간 전 : 2022-05-17 08:53:5\n",
            "두 시간 전 : 2022-05-17 07:53:5\n",
            "예외 발생!\n",
            "현재 시간 : 2022-05-17 09:54:0\n",
            "한 시간 후 : 2022-05-17 10:54:0\n",
            "한 시간 전 : 2022-05-17 08:54:0\n",
            "두 시간 전 : 2022-05-17 07:54:0\n",
            "예외 발생!\n",
            "현재 시간 : 2022-05-17 09:54:0\n",
            "한 시간 후 : 2022-05-17 10:54:0\n",
            "한 시간 전 : 2022-05-17 08:54:0\n",
            "두 시간 전 : 2022-05-17 07:54:0\n",
            "     r_temperature  r_precipitation  r_wind  r_humidity  r_radiation  \\\n",
            "0             25.0              0.0     0.6        82.1          0.9   \n",
            "1             23.9              0.0     0.8        86.0          0.9   \n",
            "2             24.4              0.0     0.7        75.8          1.0   \n",
            "3             24.3              0.0     0.7        83.3          1.0   \n",
            "4             23.9              0.0     0.6        75.8          1.0   \n",
            "..             ...              ...     ...         ...          ...   \n",
            "355           24.8              0.0     0.9        72.1          1.0   \n",
            "356           24.8              0.0     0.8        70.2          0.9   \n",
            "357           25.0              0.0     0.9        74.4          0.9   \n",
            "358           24.9              0.0     0.8        72.6          1.1   \n",
            "359           24.9              0.0     0.9        72.4          1.0   \n",
            "\n",
            "     r_total_cloudiness  r_visibility  r_ground_temp  r_aod  r_aod  \n",
            "0                   3.3        1294.6           28.6    491    336  \n",
            "1                   2.6        1292.6           32.4    492    336  \n",
            "2                   3.8        1287.8           32.6    492    337  \n",
            "3                   3.9        1294.7           30.8    493    337  \n",
            "4                   2.7        1286.9           30.2    493    338  \n",
            "..                  ...           ...            ...    ...    ...  \n",
            "355                 2.3        1331.2           37.8    591    489  \n",
            "356                 2.3        1337.9           34.7    591    490  \n",
            "357                 2.2        1469.0           34.7    591    490  \n",
            "358                 2.5        1511.9           34.8    591    491  \n",
            "359                 2.4        1400.3           36.7    592    491  \n",
            "\n",
            "[360 rows x 10 columns]\n",
            "549.3102\n"
          ]
        },
        {
          "output_type": "display_data",
          "data": {
            "text/plain": [
              "0    20845\n",
              "Name: r_seq, dtype: int64"
            ]
          },
          "metadata": {}
        },
        {
          "output_type": "stream",
          "name": "stdout",
          "text": [
            "현재 시간 : 2022-05-17 09:54:0\n",
            "한 시간 후 : 2022-05-17 10:54:0\n",
            "한 시간 전 : 2022-05-17 08:54:0\n",
            "두 시간 전 : 2022-05-17 07:54:0\n",
            "     r_temperature  r_precipitation  r_wind  r_humidity  r_radiation  \\\n",
            "0             25.0              0.0     0.6        82.1          0.9   \n",
            "1             23.9              0.0     0.8        86.0          0.9   \n",
            "2             24.4              0.0     0.7        75.8          1.0   \n",
            "3             24.3              0.0     0.7        83.3          1.0   \n",
            "4             23.9              0.0     0.6        75.8          1.0   \n",
            "..             ...              ...     ...         ...          ...   \n",
            "355           24.8              0.0     0.9        72.1          1.0   \n",
            "356           24.8              0.0     0.8        70.2          0.9   \n",
            "357           25.0              0.0     0.9        74.4          0.9   \n",
            "358           24.9              0.0     0.8        72.6          1.1   \n",
            "359           24.9              0.0     0.9        72.4          1.0   \n",
            "\n",
            "     r_total_cloudiness  r_visibility  r_ground_temp  r_aod  r_aod  \n",
            "0                   3.3        1294.6           28.6    491    336  \n",
            "1                   2.6        1292.6           32.4    492    336  \n",
            "2                   3.8        1287.8           32.6    492    337  \n",
            "3                   3.9        1294.7           30.8    493    337  \n",
            "4                   2.7        1286.9           30.2    493    338  \n",
            "..                  ...           ...            ...    ...    ...  \n",
            "355                 2.3        1331.2           37.8    591    489  \n",
            "356                 2.3        1337.9           34.7    591    490  \n",
            "357                 2.2        1469.0           34.7    591    490  \n",
            "358                 2.5        1511.9           34.8    591    491  \n",
            "359                 2.4        1400.3           36.7    592    491  \n",
            "\n",
            "[360 rows x 10 columns]\n",
            "549.3102\n"
          ]
        },
        {
          "output_type": "display_data",
          "data": {
            "text/plain": [
              "0    20845\n",
              "Name: r_seq, dtype: int64"
            ]
          },
          "metadata": {}
        },
        {
          "output_type": "stream",
          "name": "stdout",
          "text": [
            "현재 시간 : 2022-05-17 09:54:0\n",
            "한 시간 후 : 2022-05-17 10:54:0\n",
            "한 시간 전 : 2022-05-17 08:54:0\n",
            "두 시간 전 : 2022-05-17 07:54:0\n",
            "     r_temperature  r_precipitation  r_wind  r_humidity  r_radiation  \\\n",
            "0             25.0              0.0     0.6        82.1          0.9   \n",
            "1             23.9              0.0     0.8        86.0          0.9   \n",
            "2             24.4              0.0     0.7        75.8          1.0   \n",
            "3             24.3              0.0     0.7        83.3          1.0   \n",
            "4             23.9              0.0     0.6        75.8          1.0   \n",
            "..             ...              ...     ...         ...          ...   \n",
            "355           24.8              0.0     0.9        72.1          1.0   \n",
            "356           24.8              0.0     0.8        70.2          0.9   \n",
            "357           25.0              0.0     0.9        74.4          0.9   \n",
            "358           24.9              0.0     0.8        72.6          1.1   \n",
            "359           24.9              0.0     0.9        72.4          1.0   \n",
            "\n",
            "     r_total_cloudiness  r_visibility  r_ground_temp  r_aod  r_aod  \n",
            "0                   3.3        1294.6           28.6    491    336  \n",
            "1                   2.6        1292.6           32.4    492    336  \n",
            "2                   3.8        1287.8           32.6    492    337  \n",
            "3                   3.9        1294.7           30.8    493    337  \n",
            "4                   2.7        1286.9           30.2    493    338  \n",
            "..                  ...           ...            ...    ...    ...  \n",
            "355                 2.3        1331.2           37.8    591    489  \n",
            "356                 2.3        1337.9           34.7    591    490  \n",
            "357                 2.2        1469.0           34.7    591    490  \n",
            "358                 2.5        1511.9           34.8    591    491  \n",
            "359                 2.4        1400.3           36.7    592    491  \n",
            "\n",
            "[360 rows x 10 columns]\n",
            "549.3102\n"
          ]
        },
        {
          "output_type": "display_data",
          "data": {
            "text/plain": [
              "0    20845\n",
              "Name: r_seq, dtype: int64"
            ]
          },
          "metadata": {}
        },
        {
          "output_type": "stream",
          "name": "stdout",
          "text": [
            "현재 시간 : 2022-05-17 09:54:0\n",
            "한 시간 후 : 2022-05-17 10:54:0\n",
            "한 시간 전 : 2022-05-17 08:54:0\n",
            "두 시간 전 : 2022-05-17 07:54:0\n"
          ]
        }
      ]
    },
    {
      "cell_type": "code",
      "source": [
        "# DB 연결\n",
        "\n",
        "host = \"project-db-stu.ddns.net\"\n",
        "port = 3307\n",
        "username = \"wish\"\n",
        "password = \"1234\"\n",
        "db = 'wish'\n",
        "\n",
        "conn = pymysql.connect(host=host, port=port, user=username, password=password, db=db)\n",
        "\n",
        "# select 현재 시간, 데이터 번호 (real_data의 마지막 데이터 불러오기)\n",
        "sql_state1 = f\"select r_seq, r_date, r_aod from s_real_data order by r_date desc limit 1\"\n",
        "s_real = pd.read_sql_query(sql_state1, conn)\n",
        "s_r_seq = s_real['r_seq']\n",
        "s_r_date = s_real['r_date']\n",
        "s_r_now_aod = s_real['r_aod']\n",
        "\n",
        "# 불러온 데이터의 시간 추출\n",
        "s_now_time = f\"{s_r_date[0]}\"\n",
        "print(f\"s_now_time : {s_now_time}\")\n",
        "\n",
        "# s_now_time 의 한 시간 후의 시간\n",
        "s_now_time_slice = s_now_time[:18]\n",
        "s_pred_t_hour = (int)(s_now_time_slice[11:13]) + 1\n",
        "print(f\"s_pred_t_hour : {s_pred_t_hour}\")\n",
        "\n",
        "if s_pred_t_hour < 10:\n",
        "  s_pred_t_hour = f\"0{s_pred_t_hour}\"\n",
        "elif s_pred_t_hour > 23:\n",
        "  s_pred_t_hour = \"00\"\n",
        "\n",
        "s_pred_t_sec = (int)(s_now_time_slice[17]) + 1\n",
        "\n",
        "if s_pred_t_sec == 6:\n",
        "  s_pred_t_sec = \"0\"\n",
        "\n",
        "print(f\"s_pred_t_sec : {s_pred_t_sec}\")\n",
        "\n",
        "timeList = list(s_now_time)\n",
        "timeList[11:13] = f\"{s_pred_t_hour}\"\n",
        "timeList[17] = f\"{s_pred_t_sec}\"\n",
        "s_pred_time = ''.join(s for s in timeList)\n",
        "s_pred_time_slice = s_pred_time[:18]\n",
        "print(f\"s_pred_time : {s_pred_time}\")\n",
        "print(f\"s_pred_time_slice : {s_pred_time_slice}\")\n",
        "\n",
        "# s_now_time 의 한 시간 전의 시간\n",
        "s_before_t = (int)(s_now_time_slice[11:13]) - 1\n",
        "print(f\"s_before_t : {s_before_t}\")\n",
        "\n",
        "if s_before_t < 0:\n",
        "  s_before_t = \"23\"\n",
        "elif s_before_t < 10:\n",
        "  s_before_t = f\"0{s_before_t}\"\n",
        "    \n",
        "timeList[11:13] = f\"{s_before_t}\"\n",
        "s_before_time = ''.join(s for s in timeList)\n",
        "s_before_time_slice = s_before_time[:18]\n",
        "print(f\"s_before_time_slice : {s_before_time_slice}\")"
      ],
      "metadata": {
        "colab": {
          "base_uri": "https://localhost:8080/"
        },
        "id": "cys4fAJIsZrF",
        "outputId": "f3ffa266-bdba-429c-e7f6-cb807ea6d0c7"
      },
      "execution_count": 11,
      "outputs": [
        {
          "output_type": "stream",
          "name": "stdout",
          "text": [
            "s_now_time : 2022-05-16 11:36:50\n",
            "s_pred_t_hour : 12\n",
            "s_pred_t_sec : 0\n",
            "s_pred_time : 2022-05-16 12:36:00\n",
            "s_pred_time_slice : 2022-05-16 12:36:0\n",
            "s_before_t : 10\n",
            "s_before_time_slice : 2022-05-16 10:36:0\n"
          ]
        }
      ]
    },
    {
      "cell_type": "code",
      "source": [
        "K_KST = timezone(timedelta(hours=9))\n",
        "A_KST = timezone(timedelta(hours=10))\n",
        "B_KST = timezone(timedelta(hours=8))\n",
        "T_KST = timezone(timedelta(hours=7))\n",
        "\n",
        "# 현재 시간 구하기\n",
        "now = datetime.now(K_KST)\n",
        "current_time = now.strftime('%Y-%m-%d %H:%M:%S')\n",
        "s_current_time = f\"{current_time}\"\n",
        "s_current_time = s_current_time[:18]\n",
        "print(f\"현재 시간 : {s_current_time}\") # 현재 시간 / 11:11:12 -> 11:11:1 로 자르기\n",
        "\n",
        "# 한 시간 전, 후의 시간\n",
        "after = datetime.now(A_KST)\n",
        "after_time = after.strftime('%Y-%m-%d %H:%M:%S')\n",
        "s_after_time = f\"{after_time}\"\n",
        "s_after_time = s_after_time[:18]\n",
        "print(f\"한 시간 후 : {s_after_time}\")\n",
        "\n",
        "before = datetime.now(B_KST)\n",
        "before_time = before.strftime('%Y-%m-%d %H:%M:%S')\n",
        "s_before_time = f\"{before_time}\"\n",
        "s_before_time = s_before_time[:18]\n",
        "print(f\"한 시간 전 : {s_before_time}\")\n",
        "\n",
        "# 두 시간 전의 시간\n",
        "before_two = datetime.now(T_KST)\n",
        "before_two_time = before_two.strftime('%Y-%m-%d %H:%M:%S')\n",
        "s_before_two_time = f\"{before_two_time}\"\n",
        "s_before_two_time = s_before_two_time[:18]\n",
        "print(f\"두 시간 전 : {s_before_two_time}\")\n",
        "\n",
        "# DB 연결\n",
        "from pymysql.converters import convert_bit\n",
        "host = \"project-db-stu.ddns.net\"\n",
        "port = 3307\n",
        "username = \"wish\"\n",
        "password = \"1234\"\n",
        "db = 'wish'\n",
        "\n",
        "conn = pymysql.connect(host=host, port=port, user=username, password=password, db=db)\n",
        "\n",
        "# select 현재 시간의 데이터 번호\n",
        "sql_state1 = f\"select r_seq from s_real_data where r_date like '{s_current_time}0'\"\n",
        "s_real = pd.read_sql_query(sql_state1, conn)\n",
        "s_r_seq = s_real['r_seq']\n",
        "\n",
        "# 한 시간 후의 날씨 데이터 목록\n",
        "sql_state2 = f\"select r_temperature, r_precipitation, r_wind, r_humidity, r_radiation, r_total_cloudiness, r_visibility, r_ground_temp from s_real_data where r_date > '{s_current_time}0' and r_date <= '{s_after_time}0' order by r_date asc\"\n",
        "s_after_weather = pd.read_sql_query(sql_state2, conn)\n",
        "after_hour_weather = pd.DataFrame(s_after_weather)\n",
        "\n",
        "# select 현재 발전량 목록\n",
        "sql_state3 = f\"select r_aod from s_real_data where r_date > '{s_before_time}0' and r_date <= '{s_current_time}0' order by r_date asc\"\n",
        "s_now_aod = pd.read_sql_query(sql_state3, conn)\n",
        "now_aod = pd.DataFrame(s_now_aod)\n",
        "\n",
        "# select 한 시간 전 발전량 목록\n",
        "sql_state4 = f\"select r_aod from s_real_data where r_date > '{s_before_two_time}0' and r_date <= '{s_before_time}0'\"\n",
        "s_before_aod = pd.read_sql_query(sql_state4, conn)\n",
        "before_aod = pd.DataFrame(s_before_aod)\n",
        "\n",
        "# 학습데이터\n",
        "data = pd.concat([after_hour_weather, now_aod, before_aod], axis=1)\n",
        "print(data)\n",
        "\n",
        "s_data = np.array(data)\n",
        "\n",
        "s_s_data = s_data.reshape(1,360,10)\n",
        "pred = model_rnn.predict(s_s_data)\n",
        "\n",
        "s_pred = pred[0][0]\n",
        "print(s_pred)\n",
        "display(s_r_seq)\n",
        "\n",
        "# DB insert into s_predict\n",
        "sql_state5 = f\"insert into s_prediction values (null, {int(s_r_seq[0])}, '{s_after_time}0', {s_pred})\"\n",
        "cursor = conn.cursor()\n",
        "cursor.execute(sql_state5)\n",
        "conn.commit()\n",
        "\n"
      ],
      "metadata": {
        "colab": {
          "base_uri": "https://localhost:8080/",
          "height": 624
        },
        "id": "o-YO-uiVhtWS",
        "outputId": "5e3b18a1-e5a2-4816-ef1c-fae789c95a57"
      },
      "execution_count": 15,
      "outputs": [
        {
          "output_type": "stream",
          "name": "stdout",
          "text": [
            "현재 시간 : 2022-05-17 09:52:1\n",
            "한 시간 후 : 2022-05-17 10:52:1\n",
            "한 시간 전 : 2022-05-17 08:52:1\n",
            "두 시간 전 : 2022-05-17 07:52:1\n",
            "     r_temperature  r_precipitation  r_wind  r_humidity  r_radiation  \\\n",
            "0             23.8              0.0     0.6        80.6          0.9   \n",
            "1             24.3              0.0     0.7        85.0          1.0   \n",
            "2             23.2              0.0     0.6        72.3          1.0   \n",
            "3             23.7              0.0     0.8        80.6          0.9   \n",
            "4             23.6              0.0     0.6        81.8          0.9   \n",
            "..             ...              ...     ...         ...          ...   \n",
            "355           25.0              0.0     0.8        72.3          1.1   \n",
            "356           25.0              0.0     0.9        73.2          0.9   \n",
            "357           24.8              0.0     0.8        69.6          1.0   \n",
            "358           24.9              0.0     0.8        69.9          1.0   \n",
            "359           24.9              0.0     0.9        72.8          1.0   \n",
            "\n",
            "     r_total_cloudiness  r_visibility  r_ground_temp  r_aod  r_aod  \n",
            "0                   4.0        1290.8           31.8    487    330  \n",
            "1                   2.0        1292.7           28.9    487    331  \n",
            "2                   2.7        1290.3           31.4    488    331  \n",
            "3                   3.9        1286.9           30.7    488    332  \n",
            "4                   2.7        1296.9           34.0    488    332  \n",
            "..                  ...           ...            ...    ...    ...  \n",
            "355                 2.4        1526.5           33.2    588    485  \n",
            "356                 2.7        1304.3           36.8    588    485  \n",
            "357                 2.2        1486.4           33.9    588    485  \n",
            "358                 3.0        1447.3           35.4    588    486  \n",
            "359                 2.2        1319.7           35.4    589    486  \n",
            "\n",
            "[360 rows x 10 columns]\n",
            "564.4943\n"
          ]
        },
        {
          "output_type": "display_data",
          "data": {
            "text/plain": [
              "0    20834\n",
              "Name: r_seq, dtype: int64"
            ]
          },
          "metadata": {}
        }
      ]
    },
    {
      "cell_type": "code",
      "source": [
        ""
      ],
      "metadata": {
        "id": "kLx43FjhiZxr"
      },
      "execution_count": null,
      "outputs": []
    }
  ]
}